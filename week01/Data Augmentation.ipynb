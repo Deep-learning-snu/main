{
 "cells": [
  {
   "cell_type": "markdown",
   "id": "abb75e6f",
   "metadata": {},
   "source": [
    "# What is Data Augmentation?\n",
    "\n",
    "Data Augmentation is a technique that can be used to artificially expand the size of a training set by creating modified data from the existing one. It can prevent overfitting enhance the model’s performance."
   ]
  },
  {
   "cell_type": "markdown",
   "id": "8f3d21aa",
   "metadata": {},
   "source": [
    "https://www.geeksforgeeks.org/python-data-augmentation/"
   ]
  },
  {
   "cell_type": "markdown",
   "id": "979b0b79",
   "metadata": {},
   "source": [
    "# Operations in data augmentation\n",
    "1. Rotation\n",
    "2. Shearing\n",
    "3. Zooming\n",
    "4. Cropping\n",
    "5. Flipping\n",
    "6. Changing the brightness level"
   ]
  },
  {
   "cell_type": "markdown",
   "id": "e01ef095",
   "metadata": {},
   "source": [
    "# Data augmentation in Keras\n",
    "\n",
    "Keras is a high-level machine learning framework build on top of TensorFlow.\n",
    "We can perform data augmentation by using the ImageDataGenerator class.\n",
    "It takes in various arguments like – rotation_range, brightness_range, shear_range, zoom_range etc."
   ]
  },
  {
   "cell_type": "code",
   "execution_count": null,
   "id": "b016fe40",
   "metadata": {},
   "outputs": [],
   "source": [
    "# Importing necessary functions\n",
    "from keras.preprocessing.image import ImageDataGenerator, \n",
    "array_to_img, img_to_array, load_img\n",
    "   \n",
    "# Initialising the ImageDataGenerator class.\n",
    "# We will pass in the augmentation parameters in the constructor.\n",
    "datagen = ImageDataGenerator(\n",
    "        rotation_range = 40,\n",
    "        shear_range = 0.2,\n",
    "        zoom_range = 0.2,\n",
    "        horizontal_flip = True,\n",
    "        brightness_range = (0.5, 1.5))\n",
    "    \n",
    "# Loading a sample image \n",
    "img = load_img('image.jpg') \n",
    "# Converting the input sample image to an array\n",
    "x = img_to_array(img)\n",
    "# Reshaping the input image\n",
    "x = x.reshape((1, ) + x.shape) \n",
    "   \n",
    "# Generating and saving 5 augmented samples \n",
    "# using the above defined parameters. \n",
    "i = 0\n",
    "for batch in datagen.flow(x, batch_size = 1,\n",
    "                          save_to_dir ='preview', \n",
    "                          save_prefix ='image', save_format ='jpeg'):\n",
    "    i += 1\n",
    "    if i > 5:\n",
    "        break"
   ]
  },
  {
   "cell_type": "markdown",
   "id": "eaf6ede1",
   "metadata": {},
   "source": [
    "# Data augmentation using Augmentor"
   ]
  },
  {
   "cell_type": "code",
   "execution_count": null,
   "id": "10c1c4c7",
   "metadata": {},
   "outputs": [],
   "source": [
    "# Importing necessary library\n",
    "import Augmentor\n",
    "# Passing the path of the image directory\n",
    "p = Augmentor.Pipeline(\"image_folder\")\n",
    "  \n",
    "# Defining augmentation parameters and generating 5 samples\n",
    "p.flip_left_right(0.5)\n",
    "p.black_and_white(0.1)\n",
    "p.rotate(0.3, 10, 10)\n",
    "p.skew(0.4, 0.5)\n",
    "p.zoom(probability = 0.2, min_factor = 1.1, max_factor = 1.5)\n",
    "p.sample(5)"
   ]
  }
 ],
 "metadata": {
  "kernelspec": {
   "display_name": "Python 3 (ipykernel)",
   "language": "python",
   "name": "python3"
  },
  "language_info": {
   "codemirror_mode": {
    "name": "ipython",
    "version": 3
   },
   "file_extension": ".py",
   "mimetype": "text/x-python",
   "name": "python",
   "nbconvert_exporter": "python",
   "pygments_lexer": "ipython3",
   "version": "3.9.12"
  }
 },
 "nbformat": 4,
 "nbformat_minor": 5
}
