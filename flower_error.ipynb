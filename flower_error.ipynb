{
 "cells": [
  {
   "cell_type": "code",
   "execution_count": 1,
   "id": "506ed8dd",
   "metadata": {
    "colab": {
     "base_uri": "https://localhost:8080/",
     "height": 358
    },
    "executionInfo": {
     "elapsed": 381,
     "status": "error",
     "timestamp": 1669782135356,
     "user": {
      "displayName": "­신동욱 / 학생 / 통계학과",
      "userId": "15822326990747252140"
     },
     "user_tz": -540
    },
    "id": "506ed8dd",
    "outputId": "4556d428-7ac8-4a18-deba-95c72d4079f4"
   },
   "outputs": [],
   "source": [
    "import tensorflow as tf\n",
    "import numpy as np"
   ]
  },
  {
   "cell_type": "code",
   "execution_count": null,
   "id": "MzgWBKQ6i_XQ",
   "metadata": {
    "colab": {
     "base_uri": "https://localhost:8080/"
    },
    "executionInfo": {
     "elapsed": 2891,
     "status": "ok",
     "timestamp": 1669728356469,
     "user": {
      "displayName": "신동욱",
      "userId": "15777921251637057342"
     },
     "user_tz": -540
    },
    "id": "MzgWBKQ6i_XQ",
    "outputId": "f466666e-423e-49c6-ec3d-435f73a727cf"
   },
   "outputs": [
    {
     "name": "stderr",
     "output_type": "stream",
     "text": [
      "Using TensorFlow backend.\n"
     ]
    },
    {
     "name": "stdout",
     "output_type": "stream",
     "text": [
      "\n"
     ]
    }
   ],
   "source": [
    "from shutil import copy\n",
    "from collections import defaultdict\n",
    "import scipy\n",
    "import numpy as np\n",
    "import matplotlib.pyplot as plt\n",
    "\n",
    "import random\n",
    "#import cv2\n",
    "import glob\n",
    "from PIL import Image, ImageEnhance\n",
    "import PIL.ImageOps\n",
    "\n",
    "#import torch\n",
    "#import torchvision\n",
    "#from torch import nn\n",
    "\n",
    "import os\n",
    "os.environ['TF_CPP_MIN_LOG_LEVEL'] = '3'\n",
    "\n",
    "# 0 = all messages are logged (default behavior)\n",
    "# 1 = INFO messages are not printed\n",
    "# 2 = INFO and WARNING messages are not printed\n",
    "# 3 = INFO, WARNING, and ERROR messages are not printed\n",
    "\n",
    "from tensorflow.keras.datasets import mnist\n",
    "from tensorflow.keras import layers\n",
    "import tensorflow_datasets as tfds\n",
    "\n",
    "# Theano(th)와 Tensorflow(tf) 모두와 호환이 되는 Keras 모듈을 작성\n",
    "import keras.backend as K\n",
    "from keras import regularizers\n",
    "from keras.applications.mobilenet_v2 import MobileNetV2\n",
    "from keras.models import Model\n",
    "from keras.layers import Dense, Dropout, Conv2D\n",
    "from keras.layers import GlobalAveragePooling2D\n",
    "from keras.preprocessing.image import ImageDataGenerator # 데이터 전처리\n",
    "from keras.callbacks import ModelCheckpoint, CSVLogger\n",
    "#from keras.optimizers import SGD\n",
    "\n",
    "from keras_preprocessing.image import array_to_img, img_to_array, load_img\n",
    "\n",
    "print(tf.test.gpu_device_name())"
   ]
  },
  {
   "cell_type": "markdown",
   "id": "bOsIdo62wNyH",
   "metadata": {
    "id": "bOsIdo62wNyH",
    "tags": []
   },
   "source": [
    "## 기본 세팅"
   ]
  },
  {
   "cell_type": "code",
   "execution_count": null,
   "id": "3wpsE0xSw-zE",
   "metadata": {
    "colab": {
     "base_uri": "https://localhost:8080/"
    },
    "executionInfo": {
     "elapsed": 437,
     "status": "ok",
     "timestamp": 1669781794037,
     "user": {
      "displayName": "­신동욱 / 학생 / 통계학과",
      "userId": "15822326990747252140"
     },
     "user_tz": -540
    },
    "id": "3wpsE0xSw-zE",
    "outputId": "1228915c-60a5-4656-bd51-fd41dc814ba0"
   },
   "outputs": [
    {
     "name": "stdout",
     "output_type": "stream",
     "text": [
      "Fri Dec 16 21:46:22 2022       \n",
      "+-----------------------------------------------------------------------------+\n",
      "| NVIDIA-SMI 465.19.01    Driver Version: 465.19.01    CUDA Version: 11.3     |\n",
      "|-------------------------------+----------------------+----------------------+\n",
      "| GPU  Name        Persistence-M| Bus-Id        Disp.A | Volatile Uncorr. ECC |\n",
      "| Fan  Temp  Perf  Pwr:Usage/Cap|         Memory-Usage | GPU-Util  Compute M. |\n",
      "|                               |                      |               MIG M. |\n",
      "|===============================+======================+======================|\n",
      "|   0  NVIDIA TITAN Xp     Off  | 00000000:3B:00.0 Off |                  N/A |\n",
      "| 27%   45C    P2    59W / 250W |   3760MiB / 12196MiB |      1%      Default |\n",
      "|                               |                      |                  N/A |\n",
      "+-------------------------------+----------------------+----------------------+\n",
      "|   1  NVIDIA TITAN Xp     Off  | 00000000:5E:00.0 Off |                  N/A |\n",
      "| 23%   36C    P2    59W / 250W |   3930MiB / 12196MiB |      0%      Default |\n",
      "|                               |                      |                  N/A |\n",
      "+-------------------------------+----------------------+----------------------+\n",
      "|   2  NVIDIA TITAN Xp     Off  | 00000000:B1:00.0 Off |                  N/A |\n",
      "| 24%   41C    P2    60W / 250W |   1644MiB / 12196MiB |      0%      Default |\n",
      "|                               |                      |                  N/A |\n",
      "+-------------------------------+----------------------+----------------------+\n",
      "|   3  NVIDIA TITAN Xp     Off  | 00000000:D9:00.0 Off |                  N/A |\n",
      "| 23%   37C    P2    59W / 250W |   8300MiB / 12196MiB |      1%      Default |\n",
      "|                               |                      |                  N/A |\n",
      "+-------------------------------+----------------------+----------------------+\n",
      "                                                                               \n",
      "+-----------------------------------------------------------------------------+\n",
      "| Processes:                                                                  |\n",
      "|  GPU   GI   CI        PID   Type   Process name                  GPU Memory |\n",
      "|        ID   ID                                                   Usage      |\n",
      "|=============================================================================|\n",
      "|    0   N/A  N/A     40978      C   /usr/bin/python3.6                661MiB |\n",
      "|    0   N/A  N/A    117128      C   /usr/bin/python3.6               1463MiB |\n",
      "|    0   N/A  N/A    118765      C   /usr/bin/python3.6               1485MiB |\n",
      "|    0   N/A  N/A    391948      C   /usr/bin/python3                  145MiB |\n",
      "|    1   N/A  N/A    117268      C   /usr/bin/python3.6               1463MiB |\n",
      "|    1   N/A  N/A    117602      C   /usr/bin/python3.6               1489MiB |\n",
      "|    1   N/A  N/A    391006      C   /usr/bin/python3.6                831MiB |\n",
      "|    1   N/A  N/A    391948      C   /usr/bin/python3                  145MiB |\n",
      "|    2   N/A  N/A    117350      C   /usr/bin/python3.6               1495MiB |\n",
      "|    2   N/A  N/A    391948      C   /usr/bin/python3                  145MiB |\n",
      "|    3   N/A  N/A     52977      C   /usr/bin/python3.6               5581MiB |\n",
      "|    3   N/A  N/A    100412      C   /usr/bin/python3.6               1075MiB |\n",
      "|    3   N/A  N/A    117431      C   /usr/bin/python3.6               1495MiB |\n",
      "|    3   N/A  N/A    391948      C   /usr/bin/python3                  145MiB |\n",
      "+-----------------------------------------------------------------------------+\n"
     ]
    }
   ],
   "source": [
    "!nvidia-smi"
   ]
  },
  {
   "cell_type": "markdown",
   "id": "6245334d-b64f-4c17-824b-83cbb096dce3",
   "metadata": {},
   "source": [
    "## data 불러오기 + split"
   ]
  },
  {
   "cell_type": "code",
   "execution_count": null,
   "id": "305a3762-90d9-4ae1-868b-7ea011eda97d",
   "metadata": {},
   "outputs": [],
   "source": [
    "import tensorflow_datasets as tfds\n",
    "\n",
    "(train_ds1,train_ds2,train_ds, val_ds, test_ds), metadata = tfds.load(\n",
    "    'tf_flowers',\n",
    "    split=['train[:40%]','train[40%:80%]','train[:80%]', 'train[80%:90%]', 'train[90%:]'],\n",
    "    with_info=True,\n",
    "    as_supervised=True,\n",
    ")"
   ]
  },
  {
   "cell_type": "code",
   "execution_count": null,
   "id": "f3aeadb5-5c4e-4fea-bb4f-64946f20f45b",
   "metadata": {},
   "outputs": [
    {
     "name": "stdout",
     "output_type": "stream",
     "text": [
      "5\n"
     ]
    }
   ],
   "source": [
    "num_classes = metadata.features['label'].num_classes\n",
    "\n",
    "print(num_classes)"
   ]
  },
  {
   "cell_type": "code",
   "execution_count": null,
   "id": "e845545b-cd14-4362-857f-2d8c34be0094",
   "metadata": {},
   "outputs": [
    {
     "data": {
      "text/plain": [
       "['dandelion', 'daisy', 'tulips', 'sunflowers', 'roses']"
      ]
     },
     "execution_count": 17,
     "metadata": {},
     "output_type": "execute_result"
    }
   ],
   "source": [
    "metadata.features['label'].names"
   ]
  },
  {
   "cell_type": "code",
   "execution_count": null,
   "id": "f55da9ec-7572-43fe-8a0b-51ec2e62fa22",
   "metadata": {},
   "outputs": [
    {
     "data": {
      "text/plain": [
       "<bound method ClassLabel.str2int of ClassLabel(shape=(), dtype=tf.int64, num_classes=5)>"
      ]
     },
     "execution_count": 18,
     "metadata": {},
     "output_type": "execute_result"
    }
   ],
   "source": [
    "metadata.features['label'].str2int"
   ]
  },
  {
   "cell_type": "code",
   "execution_count": null,
   "id": "aa64eea4-2afe-44ae-b927-2ef2a319c518",
   "metadata": {},
   "outputs": [
    {
     "name": "stdout",
     "output_type": "stream",
     "text": [
      "<bound method ClassLabel.int2str of ClassLabel(shape=(), dtype=tf.int64, num_classes=5)>\n"
     ]
    }
   ],
   "source": [
    "get_label_name = metadata.features['label'].int2str\n",
    "\n",
    "print(get_label_name)"
   ]
  },
  {
   "cell_type": "code",
   "execution_count": null,
   "id": "8b43bb47-3779-4e45-9a8a-be480cbd88b4",
   "metadata": {},
   "outputs": [
    {
     "name": "stdout",
     "output_type": "stream",
     "text": [
      "tf.Tensor(2, shape=(), dtype=int64)\n"
     ]
    },
    {
     "data": {
      "image/png": "[encoded data removed]",
      "text/plain": [
       "<Figure size 432x288 with 1 Axes>"
      ]
     },
     "metadata": {
      "needs_background": "light"
     },
     "output_type": "display_data"
    }
   ],
   "source": [
    "td2=iter(train_ds2)\n",
    "\n",
    "image, label = next(td2)\n",
    "\n",
    "print(label)\n",
    "_ = plt.imshow(image)\n",
    "_ = plt.title(get_label_name(label))\n"
   ]
  },
  {
   "cell_type": "code",
   "execution_count": 26,
   "id": "001aa033-accf-4a53-9972-45bd2b58a658",
   "metadata": {},
   "outputs": [
    {
     "ename": "IndexError",
     "evalue": "list index out of range",
     "output_type": "error",
     "traceback": [
      "\u001b[0;31m---------------------------------------------------------------------------\u001b[0m",
      "\u001b[0;31mIndexError\u001b[0m                                Traceback (most recent call last)",
      "\u001b[0;32m<ipython-input-22-568c6466b381>\u001b[0m in \u001b[0;36m<module>\u001b[0;34m\u001b[0m\n\u001b[1;32m      6\u001b[0m ])\n\u001b[1;32m      7\u001b[0m \u001b[0;34m\u001b[0m\u001b[0m\n\u001b[0;32m----> 8\u001b[0;31m \u001b[0mresult\u001b[0m \u001b[0;34m=\u001b[0m \u001b[0mresize_and_rescale\u001b[0m\u001b[0;34m(\u001b[0m\u001b[0mimage\u001b[0m\u001b[0;34m)\u001b[0m\u001b[0;34m\u001b[0m\u001b[0;34m\u001b[0m\u001b[0m\n\u001b[0m\u001b[1;32m      9\u001b[0m \u001b[0m_\u001b[0m \u001b[0;34m=\u001b[0m \u001b[0mplt\u001b[0m\u001b[0;34m.\u001b[0m\u001b[0mimshow\u001b[0m\u001b[0;34m(\u001b[0m\u001b[0mresult\u001b[0m\u001b[0;34m)\u001b[0m\u001b[0;34m\u001b[0m\u001b[0;34m\u001b[0m\u001b[0m\n",
      "\u001b[0;32m~/.local/lib/python3.6/site-packages/tensorflow/python/keras/engine/base_layer.py\u001b[0m in \u001b[0;36m__call__\u001b[0;34m(self, *args, **kwargs)\u001b[0m\n\u001b[1;32m    966\u001b[0m           with base_layer_utils.autocast_context_manager(\n\u001b[1;32m    967\u001b[0m               self._compute_dtype):\n\u001b[0;32m--> 968\u001b[0;31m             \u001b[0moutputs\u001b[0m \u001b[0;34m=\u001b[0m \u001b[0mself\u001b[0m\u001b[0;34m.\u001b[0m\u001b[0mcall\u001b[0m\u001b[0;34m(\u001b[0m\u001b[0mcast_inputs\u001b[0m\u001b[0;34m,\u001b[0m \u001b[0;34m*\u001b[0m\u001b[0margs\u001b[0m\u001b[0;34m,\u001b[0m \u001b[0;34m**\u001b[0m\u001b[0mkwargs\u001b[0m\u001b[0;34m)\u001b[0m\u001b[0;34m\u001b[0m\u001b[0;34m\u001b[0m\u001b[0m\n\u001b[0m\u001b[1;32m    969\u001b[0m           \u001b[0mself\u001b[0m\u001b[0;34m.\u001b[0m\u001b[0m_handle_activity_regularization\u001b[0m\u001b[0;34m(\u001b[0m\u001b[0minputs\u001b[0m\u001b[0;34m,\u001b[0m \u001b[0moutputs\u001b[0m\u001b[0;34m)\u001b[0m\u001b[0;34m\u001b[0m\u001b[0;34m\u001b[0m\u001b[0m\n\u001b[1;32m    970\u001b[0m           \u001b[0mself\u001b[0m\u001b[0;34m.\u001b[0m\u001b[0m_set_mask_metadata\u001b[0m\u001b[0;34m(\u001b[0m\u001b[0minputs\u001b[0m\u001b[0;34m,\u001b[0m \u001b[0moutputs\u001b[0m\u001b[0;34m,\u001b[0m \u001b[0minput_masks\u001b[0m\u001b[0;34m)\u001b[0m\u001b[0;34m\u001b[0m\u001b[0;34m\u001b[0m\u001b[0m\n",
      "\u001b[0;32m~/.local/lib/python3.6/site-packages/tensorflow/python/keras/engine/sequential.py\u001b[0m in \u001b[0;36mcall\u001b[0;34m(self, inputs, training, mask)\u001b[0m\n\u001b[1;32m    289\u001b[0m         \u001b[0mkwargs\u001b[0m\u001b[0;34m[\u001b[0m\u001b[0;34m'training'\u001b[0m\u001b[0;34m]\u001b[0m \u001b[0;34m=\u001b[0m \u001b[0mtraining\u001b[0m\u001b[0;34m\u001b[0m\u001b[0;34m\u001b[0m\u001b[0m\n\u001b[1;32m    290\u001b[0m \u001b[0;34m\u001b[0m\u001b[0m\n\u001b[0;32m--> 291\u001b[0;31m       \u001b[0moutputs\u001b[0m \u001b[0;34m=\u001b[0m \u001b[0mlayer\u001b[0m\u001b[0;34m(\u001b[0m\u001b[0minputs\u001b[0m\u001b[0;34m,\u001b[0m \u001b[0;34m**\u001b[0m\u001b[0mkwargs\u001b[0m\u001b[0;34m)\u001b[0m\u001b[0;34m\u001b[0m\u001b[0;34m\u001b[0m\u001b[0m\n\u001b[0m\u001b[1;32m    292\u001b[0m \u001b[0;34m\u001b[0m\u001b[0m\n\u001b[1;32m    293\u001b[0m       \u001b[0;32mif\u001b[0m \u001b[0mlen\u001b[0m\u001b[0;34m(\u001b[0m\u001b[0mnest\u001b[0m\u001b[0;34m.\u001b[0m\u001b[0mflatten\u001b[0m\u001b[0;34m(\u001b[0m\u001b[0moutputs\u001b[0m\u001b[0;34m)\u001b[0m\u001b[0;34m)\u001b[0m \u001b[0;34m!=\u001b[0m \u001b[0;36m1\u001b[0m\u001b[0;34m:\u001b[0m\u001b[0;34m\u001b[0m\u001b[0;34m\u001b[0m\u001b[0m\n",
      "\u001b[0;32m~/.local/lib/python3.6/site-packages/tensorflow/python/keras/engine/base_layer.py\u001b[0m in \u001b[0;36m__call__\u001b[0;34m(self, *args, **kwargs)\u001b[0m\n\u001b[1;32m    962\u001b[0m         \u001b[0;31m# Eager execution on data tensors.\u001b[0m\u001b[0;34m\u001b[0m\u001b[0;34m\u001b[0m\u001b[0;34m\u001b[0m\u001b[0m\n\u001b[1;32m    963\u001b[0m         \u001b[0;32mwith\u001b[0m \u001b[0mbackend\u001b[0m\u001b[0;34m.\u001b[0m\u001b[0mname_scope\u001b[0m\u001b[0;34m(\u001b[0m\u001b[0mself\u001b[0m\u001b[0;34m.\u001b[0m\u001b[0m_name_scope\u001b[0m\u001b[0;34m(\u001b[0m\u001b[0;34m)\u001b[0m\u001b[0;34m)\u001b[0m\u001b[0;34m:\u001b[0m\u001b[0;34m\u001b[0m\u001b[0;34m\u001b[0m\u001b[0m\n\u001b[0;32m--> 964\u001b[0;31m           \u001b[0mself\u001b[0m\u001b[0;34m.\u001b[0m\u001b[0m_maybe_build\u001b[0m\u001b[0;34m(\u001b[0m\u001b[0minputs\u001b[0m\u001b[0;34m)\u001b[0m\u001b[0;34m\u001b[0m\u001b[0;34m\u001b[0m\u001b[0m\n\u001b[0m\u001b[1;32m    965\u001b[0m           \u001b[0mcast_inputs\u001b[0m \u001b[0;34m=\u001b[0m \u001b[0mself\u001b[0m\u001b[0;34m.\u001b[0m\u001b[0m_maybe_cast_inputs\u001b[0m\u001b[0;34m(\u001b[0m\u001b[0minputs\u001b[0m\u001b[0;34m)\u001b[0m\u001b[0;34m\u001b[0m\u001b[0;34m\u001b[0m\u001b[0m\n\u001b[1;32m    966\u001b[0m           with base_layer_utils.autocast_context_manager(\n",
      "\u001b[0;32m~/.local/lib/python3.6/site-packages/tensorflow/python/keras/engine/base_layer.py\u001b[0m in \u001b[0;36m_maybe_build\u001b[0;34m(self, inputs)\u001b[0m\n\u001b[1;32m   2414\u001b[0m         \u001b[0;31m# operations.\u001b[0m\u001b[0;34m\u001b[0m\u001b[0;34m\u001b[0m\u001b[0;34m\u001b[0m\u001b[0m\n\u001b[1;32m   2415\u001b[0m         \u001b[0;32mwith\u001b[0m \u001b[0mtf_utils\u001b[0m\u001b[0;34m.\u001b[0m\u001b[0mmaybe_init_scope\u001b[0m\u001b[0;34m(\u001b[0m\u001b[0mself\u001b[0m\u001b[0;34m)\u001b[0m\u001b[0;34m:\u001b[0m\u001b[0;34m\u001b[0m\u001b[0;34m\u001b[0m\u001b[0m\n\u001b[0;32m-> 2416\u001b[0;31m           \u001b[0mself\u001b[0m\u001b[0;34m.\u001b[0m\u001b[0mbuild\u001b[0m\u001b[0;34m(\u001b[0m\u001b[0minput_shapes\u001b[0m\u001b[0;34m)\u001b[0m  \u001b[0;31m# pylint:disable=not-callable\u001b[0m\u001b[0;34m\u001b[0m\u001b[0;34m\u001b[0m\u001b[0m\n\u001b[0m\u001b[1;32m   2417\u001b[0m       \u001b[0;31m# We must set also ensure that the layer is marked as built, and the build\u001b[0m\u001b[0;34m\u001b[0m\u001b[0;34m\u001b[0m\u001b[0;34m\u001b[0m\u001b[0m\n\u001b[1;32m   2418\u001b[0m       \u001b[0;31m# shape is stored since user defined build functions may not be calling\u001b[0m\u001b[0;34m\u001b[0m\u001b[0;34m\u001b[0m\u001b[0;34m\u001b[0m\u001b[0m\n",
      "\u001b[0;32m~/.local/lib/python3.6/site-packages/tensorflow/python/keras/layers/preprocessing/image_preprocessing.py\u001b[0m in \u001b[0;36mbuild\u001b[0;34m(self, input_shape)\u001b[0m\n\u001b[1;32m     85\u001b[0m   \u001b[0;32mdef\u001b[0m \u001b[0mbuild\u001b[0m\u001b[0;34m(\u001b[0m\u001b[0mself\u001b[0m\u001b[0;34m,\u001b[0m \u001b[0minput_shape\u001b[0m\u001b[0;34m)\u001b[0m\u001b[0;34m:\u001b[0m\u001b[0;34m\u001b[0m\u001b[0;34m\u001b[0m\u001b[0m\n\u001b[1;32m     86\u001b[0m     \u001b[0mchannel_axis\u001b[0m \u001b[0;34m=\u001b[0m \u001b[0;36m3\u001b[0m\u001b[0;34m\u001b[0m\u001b[0;34m\u001b[0m\u001b[0m\n\u001b[0;32m---> 87\u001b[0;31m     \u001b[0mchannel_dim\u001b[0m \u001b[0;34m=\u001b[0m \u001b[0mint\u001b[0m\u001b[0;34m(\u001b[0m\u001b[0minput_shape\u001b[0m\u001b[0;34m[\u001b[0m\u001b[0mchannel_axis\u001b[0m\u001b[0;34m]\u001b[0m\u001b[0;34m)\u001b[0m\u001b[0;34m\u001b[0m\u001b[0;34m\u001b[0m\u001b[0m\n\u001b[0m\u001b[1;32m     88\u001b[0m     \u001b[0mself\u001b[0m\u001b[0;34m.\u001b[0m\u001b[0minput_spec\u001b[0m \u001b[0;34m=\u001b[0m \u001b[0mInputSpec\u001b[0m\u001b[0;34m(\u001b[0m\u001b[0mndim\u001b[0m\u001b[0;34m=\u001b[0m\u001b[0;36m4\u001b[0m\u001b[0;34m,\u001b[0m \u001b[0maxes\u001b[0m\u001b[0;34m=\u001b[0m\u001b[0;34m{\u001b[0m\u001b[0mchannel_axis\u001b[0m\u001b[0;34m:\u001b[0m \u001b[0mchannel_dim\u001b[0m\u001b[0;34m}\u001b[0m\u001b[0;34m)\u001b[0m\u001b[0;34m\u001b[0m\u001b[0;34m\u001b[0m\u001b[0m\n\u001b[1;32m     89\u001b[0m     \u001b[0mself\u001b[0m\u001b[0;34m.\u001b[0m\u001b[0mbuilt\u001b[0m \u001b[0;34m=\u001b[0m \u001b[0;32mTrue\u001b[0m\u001b[0;34m\u001b[0m\u001b[0;34m\u001b[0m\u001b[0m\n",
      "\u001b[0;32m~/.local/lib/python3.6/site-packages/tensorflow/python/framework/tensor_shape.py\u001b[0m in \u001b[0;36m__getitem__\u001b[0;34m(self, key)\u001b[0m\n\u001b[1;32m    868\u001b[0m       \u001b[0;32melse\u001b[0m\u001b[0;34m:\u001b[0m\u001b[0;34m\u001b[0m\u001b[0;34m\u001b[0m\u001b[0m\n\u001b[1;32m    869\u001b[0m         \u001b[0;32mif\u001b[0m \u001b[0mself\u001b[0m\u001b[0;34m.\u001b[0m\u001b[0m_v2_behavior\u001b[0m\u001b[0;34m:\u001b[0m\u001b[0;34m\u001b[0m\u001b[0;34m\u001b[0m\u001b[0m\n\u001b[0;32m--> 870\u001b[0;31m           \u001b[0;32mreturn\u001b[0m \u001b[0mself\u001b[0m\u001b[0;34m.\u001b[0m\u001b[0m_dims\u001b[0m\u001b[0;34m[\u001b[0m\u001b[0mkey\u001b[0m\u001b[0;34m]\u001b[0m\u001b[0;34m.\u001b[0m\u001b[0mvalue\u001b[0m\u001b[0;34m\u001b[0m\u001b[0;34m\u001b[0m\u001b[0m\n\u001b[0m\u001b[1;32m    871\u001b[0m         \u001b[0;32melse\u001b[0m\u001b[0;34m:\u001b[0m\u001b[0;34m\u001b[0m\u001b[0;34m\u001b[0m\u001b[0m\n\u001b[1;32m    872\u001b[0m           \u001b[0;32mreturn\u001b[0m \u001b[0mself\u001b[0m\u001b[0;34m.\u001b[0m\u001b[0m_dims\u001b[0m\u001b[0;34m[\u001b[0m\u001b[0mkey\u001b[0m\u001b[0;34m]\u001b[0m\u001b[0;34m\u001b[0m\u001b[0;34m\u001b[0m\u001b[0m\n",
      "\u001b[0;31mIndexError\u001b[0m: list index out of range"
     ]
    }
   ],
   "source": [
    "IMG_SIZE = 256\n",
    "\n",
    "resize_and_rescale = tf.keras.Sequential([\n",
    "  layers.experimental.preprocessing.Resizing(IMG_SIZE, IMG_SIZE),\n",
    "  layers.experimental.preprocessing.Rescaling(1./255)\n",
    "])\n",
    "\n",
    "result = resize_and_rescale(image)\n",
    "_ = plt.imshow(result)"
   ]
  },
  {
   "cell_type": "code",
   "execution_count": 11,
   "id": "f3e1c0a3-8519-48ae-9e6a-5e5aa0174b97",
   "metadata": {},
   "outputs": [],
   "source": [
    "data_augmentation = tf.keras.Sequential([\n",
    "  layers.experimental.preprocessing.RandomFlip(\"horizontal_and_vertical\"),\n",
    "  layers.experimental.preprocessing.RandomRotation(0.2),\n",
    "])"
   ]
  },
  {
   "cell_type": "code",
   "execution_count": 12,
   "id": "95f39805-4cc3-498c-91b8-c6ed98854a56",
   "metadata": {},
   "outputs": [],
   "source": [
    "batch_size = 10\n",
    "AUTOTUNE = tf.data.experimental.AUTOTUNE\n",
    "\n",
    "def prepare(ds,shuffle=False ,augment=False):\n",
    "  # Resize and rescale all datasets\n",
    "    ds = ds.map(lambda x, y: (resize_and_rescale(x), y), \n",
    "              num_parallel_calls=AUTOTUNE)\n",
    "\n",
    "    if shuffle:\n",
    "        ds = ds.shuffle(1000)\n",
    "\n",
    "  # Batch all datasets\n",
    "    ds = ds.batch(batch_size)\n",
    "    \n",
    "    \n",
    "  # Use data augmentation only on the training set\n",
    "    if augment:\n",
    "        ds = ds.map(lambda x, y: (data_augmentation(x, training=True), y), \n",
    "                num_parallel_calls=AUTOTUNE)\n",
    "\n",
    "  # Use buffered prefecting on all datasets\n",
    "    return ds.prefetch(buffer_size=AUTOTUNE)"
   ]
  },
  {
   "cell_type": "code",
   "execution_count": 78,
   "id": "b9b1a5c5-47a6-40cd-9d2e-a087edbe873f",
   "metadata": {},
   "outputs": [],
   "source": [
    "train=prepare(train_ds,shuffle=True, augment=True)\n",
    "train1 = prepare(train_ds1,shuffle=True, augment=True)\n",
    "train2 = prepare(train_ds2, shuffle=True, augment=True)\n",
    "validation = prepare(val_ds)\n",
    "test = prepare(test_ds)"
   ]
  },
  {
   "cell_type": "code",
   "execution_count": 76,
   "id": "fd769b59-cd2c-4c41-87fa-38ebcf27b1ec",
   "metadata": {},
   "outputs": [
    {
     "name": "stdout",
     "output_type": "stream",
     "text": [
      "<PrefetchDataset shapes: ((None, 256, 256, 3), (None,)), types: (tf.float32, tf.int64)>\n"
     ]
    }
   ],
   "source": [
    "print(train1)"
   ]
  },
  {
   "cell_type": "markdown",
   "id": "b51b04e9-c5e9-4642-8ef6-677a771998e8",
   "metadata": {},
   "source": [
    "- train1,train2:1468, validation,test: 367"
   ]
  },
  {
   "cell_type": "markdown",
   "id": "CI0WrQFWwUZn",
   "metadata": {
    "id": "CI0WrQFWwUZn"
   },
   "source": [
    "## 모델 기본 세팅"
   ]
  },
  {
   "cell_type": "code",
   "execution_count": 14,
   "id": "4c298366-181c-47d6-9b12-865e94ac13f4",
   "metadata": {},
   "outputs": [],
   "source": [
    "from deeplab2.model.pixel_encoder import moat"
   ]
  },
  {
   "cell_type": "code",
   "execution_count": 15,
   "id": "UaJ_6ko4UYB3",
   "metadata": {
    "id": "UaJ_6ko4UYB3"
   },
   "outputs": [],
   "source": [
    "# releases the global state: avoid clutter from old models and layers\n",
    "K.clear_session()"
   ]
  },
  {
   "cell_type": "markdown",
   "id": "e43d9380",
   "metadata": {
    "id": "e43d9380"
   },
   "source": [
    "## 모델1 Disjoint two model"
   ]
  },
  {
   "cell_type": "code",
   "execution_count": 16,
   "id": "48142ff4",
   "metadata": {
    "colab": {
     "base_uri": "https://localhost:8080/"
    },
    "executionInfo": {
     "elapsed": 7,
     "status": "ok",
     "timestamp": 1669728370444,
     "user": {
      "displayName": "신동욱",
      "userId": "15777921251637057342"
     },
     "user_tz": -540
    },
    "id": "48142ff4",
    "outputId": "b997e139-a74d-43de-e62b-e04245df0348"
   },
   "outputs": [
    {
     "name": "stdout",
     "output_type": "stream",
     "text": [
      "\u001b[31mPlease check your arguments if you have upgraded adabelief-tf from version 0.0.1.\n",
      "\u001b[31mModifications to default arguments:\n",
      "\u001b[31m                           eps  weight_decouple    rectify\n",
      "-----------------------  -----  -----------------  -------------\n",
      "adabelief-tf=0.0.1       1e-08  Not supported      Not supported\n",
      ">=0.1.0 (Current 0.2.1)  1e-14  supported          default: True\n",
      "\u001b[34mSGD better than Adam (e.g. CNN for Image Classification)    Adam better than SGD (e.g. Transformer, GAN)\n",
      "----------------------------------------------------------  ----------------------------------------------\n",
      "Recommended epsilon = 1e-7                                  Recommended epsilon = 1e-14\n",
      "\u001b[34mFor a complete table of recommended hyperparameters, see\n",
      "\u001b[34mhttps://github.com/juntang-zhuang/Adabelief-Optimizer\n",
      "\u001b[32mYou can disable the log message by setting \"print_change_log = False\", though it is recommended to keep as a reminder.\n",
      "\u001b[0m\n"
     ]
    }
   ],
   "source": [
    "from tensorflow.keras.layers import (Input, Dense, concatenate, Conv2D, MaxPooling2D, Flatten)\n",
    "from tensorflow import keras\n",
    "\n",
    "from AdaBelief_tf import AdaBeliefOptimizer\n",
    "opt = AdaBeliefOptimizer(learning_rate=5e-4, beta_1= 0.9, beta_2=0.999, weight_decay= 1e-4,  epsilon=1e-14, rectify=True)\n",
    "\n",
    "# tf.keras.optimizers.schedules.LearningRateSchedule 나중에. 오목한 형태로 하는게 좋을듯 함."
   ]
  },
  {
   "cell_type": "code",
   "execution_count": 17,
   "id": "0567e524-f8ee-4771-8d3a-6aa3addc8304",
   "metadata": {},
   "outputs": [],
   "source": [
    "nb_train_samples =  1468*2\n",
    "nb_train1_samples =  1468\n",
    "nb_train2_samples =  1468  \n",
    "nb_validation_samples = 367\n",
    "nb_validation2_samples = 367   \n",
    "nb_test_samples = 367  \n",
    "batch_size = 16"
   ]
  },
  {
   "cell_type": "markdown",
   "id": "0so0CahKgT77",
   "metadata": {
    "id": "0so0CahKgT77"
   },
   "source": [
    "### model1"
   ]
  },
  {
   "cell_type": "code",
   "execution_count": 18,
   "id": "d383aa35-71fe-4401-9a82-9a113e6f4bdc",
   "metadata": {},
   "outputs": [],
   "source": [
    "moat1 = moat.get_model(name='tiny_moat1_pretrain_256_no_pe_1k',input_shape=[256,256,3])\n",
    "moat1 = moat._load_moat_pretrained_checkpoint(moat1, path=\"./moat1/model-ckpt-0\")\n",
    "o1 = moat1.output[\"stage5\"]\n",
    "r1 = tf.keras.layers.Flatten(name='flatten_layer1')(o1)\n",
    "out1 = tf.keras.layers.Dense(\n",
    "    units=5, activation='softmax', name='output_layer')(r1)\n",
    "\n",
    "def create_model():\n",
    "    return tf.keras.models.Model(moat1.input, out1)"
   ]
  },
  {
   "cell_type": "code",
   "execution_count": 57,
   "id": "7c7a0e4d-c7b4-4818-847e-45d4c9ad04fb",
   "metadata": {
    "colab": {
     "base_uri": "https://localhost:8080/",
     "height": 1000
    },
    "executionInfo": {
     "elapsed": 3506506,
     "status": "error",
     "timestamp": 1670505822883,
     "user": {
      "displayName": "신동욱",
      "userId": "15777921251637057342"
     },
     "user_tz": -540
    },
    "id": "_ac7YQqLYbgO",
    "outputId": "a4a62921-dd28-42df-dbf2-a22d77c47d9b",
    "tags": []
   },
   "outputs": [
    {
     "name": "stdout",
     "output_type": "stream",
     "text": [
      "\u001b[31mPlease check your arguments if you have upgraded adabelief-tf from version 0.0.1.\n",
      "\u001b[31mModifications to default arguments:\n",
      "\u001b[31m                           eps  weight_decouple    rectify\n",
      "-----------------------  -----  -----------------  -------------\n",
      "adabelief-tf=0.0.1       1e-08  Not supported      Not supported\n",
      ">=0.1.0 (Current 0.2.1)  1e-14  supported          default: True\n",
      "\u001b[34mSGD better than Adam (e.g. CNN for Image Classification)    Adam better than SGD (e.g. Transformer, GAN)\n",
      "----------------------------------------------------------  ----------------------------------------------\n",
      "Recommended epsilon = 1e-7                                  Recommended epsilon = 1e-14\n",
      "\u001b[34mFor a complete table of recommended hyperparameters, see\n",
      "\u001b[34mhttps://github.com/juntang-zhuang/Adabelief-Optimizer\n",
      "\u001b[32mYou can disable the log message by setting \"print_change_log = False\", though it is recommended to keep as a reminder.\n",
      "\u001b[0m\n"
     ]
    }
   ],
   "source": [
    "with tf.device('/device:GPU:2'):\n",
    "    model1=create_model()\n",
    "    model1.load_weights('flower_moat1_3.h5')\n",
    "  #  moat1 = moat._load_moat_pretrained_checkpoint(moat1, path=\"./moat1/model-ckpt-0\")\n",
    "    opt2 = AdaBeliefOptimizer(learning_rate=1e-6, beta_1= 0.9, beta_2=0.999, weight_decay= 0.05,  epsilon=1e-14)\n",
    "    model1.compile(optimizer=opt2,\n",
    "                   loss='sparse_categorical_crossentropy', \n",
    "                   metrics = tf.keras.metrics.SparseCategoricalAccuracy())\n",
    "#    checkpointer = ModelCheckpoint(filepath='flower_disjoint1_1.hdf5', \n",
    "#                                   verbose=1, \n",
    "#                                   monitor =\"val_sparse_categorical_accuracy\",\n",
    "#                                   save_best_only=True)\n",
    "#    csv_logger = CSVLogger('flower_disjoint1_1.log')"
   ]
  },
  {
   "cell_type": "code",
   "execution_count": 58,
   "id": "c5f4a4e1-5382-4889-bca4-1426635b3cbd",
   "metadata": {},
   "outputs": [
    {
     "name": "stdout",
     "output_type": "stream",
     "text": [
      "2.6.0\n"
     ]
    }
   ],
   "source": [
    "print(tf.__version__)"
   ]
  },
  {
   "cell_type": "code",
   "execution_count": 59,
   "id": "fac41c51-0de6-4d59-8e83-15cc3d88f2b5",
   "metadata": {
    "colab": {
     "base_uri": "https://localhost:8080/",
     "height": 1000
    },
    "executionInfo": {
     "elapsed": 3506506,
     "status": "error",
     "timestamp": 1670505822883,
     "user": {
      "displayName": "신동욱",
      "userId": "15777921251637057342"
     },
     "user_tz": -540
    },
    "id": "_ac7YQqLYbgO",
    "outputId": "a4a62921-dd28-42df-dbf2-a22d77c47d9b",
    "tags": []
   },
   "outputs": [
    {
     "name": "stdout",
     "output_type": "stream",
     "text": [
      "Epoch 1/100\n",
      "147/147 [==============================] - 269s 1s/step - loss: 0.3301 - sparse_categorical_accuracy: 0.9005 - val_loss: 0.3978 - val_sparse_categorical_accuracy: 0.8910\n",
      "Epoch 2/100\n",
      "147/147 [==============================] - 162s 1s/step - loss: 0.2792 - sparse_categorical_accuracy: 0.9074 - val_loss: 0.4050 - val_sparse_categorical_accuracy: 0.8856\n",
      "Epoch 3/100\n",
      "147/147 [==============================] - 159s 1s/step - loss: 0.2862 - sparse_categorical_accuracy: 0.9108 - val_loss: 0.4203 - val_sparse_categorical_accuracy: 0.8937\n",
      "Epoch 4/100\n",
      "147/147 [==============================] - 165s 1s/step - loss: 0.2567 - sparse_categorical_accuracy: 0.9183 - val_loss: 0.4230 - val_sparse_categorical_accuracy: 0.8856\n",
      "Epoch 5/100\n",
      "147/147 [==============================] - 159s 1s/step - loss: 0.3129 - sparse_categorical_accuracy: 0.9094 - val_loss: 0.4127 - val_sparse_categorical_accuracy: 0.8883\n",
      "Epoch 6/100\n",
      "147/147 [==============================] - 159s 1s/step - loss: 0.3055 - sparse_categorical_accuracy: 0.9080 - val_loss: 0.4051 - val_sparse_categorical_accuracy: 0.8910\n",
      "Epoch 7/100\n",
      "147/147 [==============================] - 157s 1s/step - loss: 0.3218 - sparse_categorical_accuracy: 0.8999 - val_loss: 0.4161 - val_sparse_categorical_accuracy: 0.8828\n",
      "Epoch 8/100\n",
      "147/147 [==============================] - 159s 1s/step - loss: 0.2600 - sparse_categorical_accuracy: 0.9128 - val_loss: 0.4227 - val_sparse_categorical_accuracy: 0.8883\n",
      "Epoch 9/100\n",
      "147/147 [==============================] - 157s 1s/step - loss: 0.2882 - sparse_categorical_accuracy: 0.9142 - val_loss: 0.4203 - val_sparse_categorical_accuracy: 0.8883\n",
      "Epoch 10/100\n",
      "147/147 [==============================] - 163s 1s/step - loss: 0.2963 - sparse_categorical_accuracy: 0.9128 - val_loss: 0.4199 - val_sparse_categorical_accuracy: 0.8856\n",
      "Epoch 11/100\n",
      "147/147 [==============================] - 158s 1s/step - loss: 0.2897 - sparse_categorical_accuracy: 0.9121 - val_loss: 0.3959 - val_sparse_categorical_accuracy: 0.8965\n",
      "Epoch 12/100\n",
      "147/147 [==============================] - 160s 1s/step - loss: 0.2869 - sparse_categorical_accuracy: 0.9155 - val_loss: 0.4268 - val_sparse_categorical_accuracy: 0.8937\n",
      "Epoch 13/100\n",
      "147/147 [==============================] - 162s 1s/step - loss: 0.2525 - sparse_categorical_accuracy: 0.9217 - val_loss: 0.4358 - val_sparse_categorical_accuracy: 0.8828\n",
      "Epoch 14/100\n",
      "147/147 [==============================] - 167s 1s/step - loss: 0.2952 - sparse_categorical_accuracy: 0.9046 - val_loss: 0.4092 - val_sparse_categorical_accuracy: 0.8856\n",
      "Epoch 15/100\n",
      "147/147 [==============================] - 162s 1s/step - loss: 0.3226 - sparse_categorical_accuracy: 0.9094 - val_loss: 0.4063 - val_sparse_categorical_accuracy: 0.8965\n",
      "Epoch 16/100\n",
      "147/147 [==============================] - 163s 1s/step - loss: 0.2393 - sparse_categorical_accuracy: 0.9257 - val_loss: 0.4122 - val_sparse_categorical_accuracy: 0.8937\n",
      "Epoch 17/100\n",
      "147/147 [==============================] - 160s 1s/step - loss: 0.2935 - sparse_categorical_accuracy: 0.9053 - val_loss: 0.4143 - val_sparse_categorical_accuracy: 0.8965\n",
      "Epoch 18/100\n",
      "147/147 [==============================] - 159s 1s/step - loss: 0.2548 - sparse_categorical_accuracy: 0.9203 - val_loss: 0.4107 - val_sparse_categorical_accuracy: 0.8910\n",
      "Epoch 19/100\n",
      "147/147 [==============================] - 162s 1s/step - loss: 0.2683 - sparse_categorical_accuracy: 0.9183 - val_loss: 0.4161 - val_sparse_categorical_accuracy: 0.8883\n",
      "Epoch 20/100\n",
      "147/147 [==============================] - 161s 1s/step - loss: 0.2610 - sparse_categorical_accuracy: 0.9223 - val_loss: 0.4204 - val_sparse_categorical_accuracy: 0.8828\n",
      "Epoch 21/100\n",
      "147/147 [==============================] - 160s 1s/step - loss: 0.2534 - sparse_categorical_accuracy: 0.9203 - val_loss: 0.4219 - val_sparse_categorical_accuracy: 0.8883\n",
      "Epoch 22/100\n",
      "147/147 [==============================] - 164s 1s/step - loss: 0.2473 - sparse_categorical_accuracy: 0.9244 - val_loss: 0.4062 - val_sparse_categorical_accuracy: 0.8883\n",
      "Epoch 23/100\n",
      "147/147 [==============================] - 157s 1s/step - loss: 0.2556 - sparse_categorical_accuracy: 0.9264 - val_loss: 0.3982 - val_sparse_categorical_accuracy: 0.8910\n",
      "Epoch 24/100\n",
      "147/147 [==============================] - 156s 1s/step - loss: 0.2131 - sparse_categorical_accuracy: 0.9264 - val_loss: 0.3947 - val_sparse_categorical_accuracy: 0.8992\n",
      "Epoch 25/100\n",
      "147/147 [==============================] - 160s 1s/step - loss: 0.2664 - sparse_categorical_accuracy: 0.9149 - val_loss: 0.4223 - val_sparse_categorical_accuracy: 0.8910\n",
      "Epoch 26/100\n",
      "147/147 [==============================] - 160s 1s/step - loss: 0.2620 - sparse_categorical_accuracy: 0.9149 - val_loss: 0.3932 - val_sparse_categorical_accuracy: 0.8937\n",
      "Epoch 27/100\n",
      "147/147 [==============================] - 162s 1s/step - loss: 0.2338 - sparse_categorical_accuracy: 0.9292 - val_loss: 0.3968 - val_sparse_categorical_accuracy: 0.8937\n",
      "Epoch 28/100\n",
      "147/147 [==============================] - 164s 1s/step - loss: 0.2419 - sparse_categorical_accuracy: 0.9298 - val_loss: 0.3782 - val_sparse_categorical_accuracy: 0.8965\n",
      "Epoch 29/100\n",
      "147/147 [==============================] - 158s 1s/step - loss: 0.2406 - sparse_categorical_accuracy: 0.9223 - val_loss: 0.3799 - val_sparse_categorical_accuracy: 0.8937\n",
      "Epoch 30/100\n",
      "147/147 [==============================] - 147s 988ms/step - loss: 0.2828 - sparse_categorical_accuracy: 0.9114 - val_loss: 0.3912 - val_sparse_categorical_accuracy: 0.8992\n",
      "Epoch 31/100\n",
      "147/147 [==============================] - 158s 1s/step - loss: 0.2263 - sparse_categorical_accuracy: 0.9244 - val_loss: 0.3906 - val_sparse_categorical_accuracy: 0.9019\n",
      "Epoch 32/100\n",
      "147/147 [==============================] - 159s 1s/step - loss: 0.2614 - sparse_categorical_accuracy: 0.9196 - val_loss: 0.3804 - val_sparse_categorical_accuracy: 0.8992\n",
      "Epoch 33/100\n",
      "147/147 [==============================] - 153s 1s/step - loss: 0.2686 - sparse_categorical_accuracy: 0.9196 - val_loss: 0.3734 - val_sparse_categorical_accuracy: 0.9046\n",
      "Epoch 34/100\n",
      "147/147 [==============================] - 86s 577ms/step - loss: 0.2544 - sparse_categorical_accuracy: 0.9292 - val_loss: 0.3881 - val_sparse_categorical_accuracy: 0.8992\n",
      "Epoch 35/100\n",
      "147/147 [==============================] - 122s 821ms/step - loss: 0.2393 - sparse_categorical_accuracy: 0.9298 - val_loss: 0.3954 - val_sparse_categorical_accuracy: 0.8937\n",
      "Epoch 36/100\n",
      "147/147 [==============================] - 153s 1s/step - loss: 0.2324 - sparse_categorical_accuracy: 0.9285 - val_loss: 0.3643 - val_sparse_categorical_accuracy: 0.9019\n",
      "Epoch 37/100\n",
      "147/147 [==============================] - 159s 1s/step - loss: 0.2489 - sparse_categorical_accuracy: 0.9223 - val_loss: 0.3875 - val_sparse_categorical_accuracy: 0.8937\n",
      "Epoch 38/100\n",
      "147/147 [==============================] - 145s 979ms/step - loss: 0.2600 - sparse_categorical_accuracy: 0.9251 - val_loss: 0.3817 - val_sparse_categorical_accuracy: 0.8937\n",
      "Epoch 39/100\n",
      "147/147 [==============================] - 138s 935ms/step - loss: 0.2133 - sparse_categorical_accuracy: 0.9298 - val_loss: 0.3787 - val_sparse_categorical_accuracy: 0.8937\n",
      "Epoch 40/100\n",
      "147/147 [==============================] - 144s 969ms/step - loss: 0.2326 - sparse_categorical_accuracy: 0.9298 - val_loss: 0.3707 - val_sparse_categorical_accuracy: 0.8992\n",
      "Epoch 41/100\n",
      "147/147 [==============================] - 137s 921ms/step - loss: 0.1916 - sparse_categorical_accuracy: 0.9380 - val_loss: 0.3818 - val_sparse_categorical_accuracy: 0.8937\n",
      "Epoch 42/100\n",
      "147/147 [==============================] - 141s 944ms/step - loss: 0.2484 - sparse_categorical_accuracy: 0.9169 - val_loss: 0.3790 - val_sparse_categorical_accuracy: 0.8910\n",
      "Epoch 43/100\n",
      "147/147 [==============================] - 144s 970ms/step - loss: 0.1805 - sparse_categorical_accuracy: 0.9428 - val_loss: 0.3763 - val_sparse_categorical_accuracy: 0.8992\n",
      "Epoch 44/100\n",
      "147/147 [==============================] - 141s 943ms/step - loss: 0.2305 - sparse_categorical_accuracy: 0.9189 - val_loss: 0.3728 - val_sparse_categorical_accuracy: 0.9019\n",
      "Epoch 45/100\n",
      "147/147 [==============================] - 141s 954ms/step - loss: 0.2102 - sparse_categorical_accuracy: 0.9360 - val_loss: 0.3700 - val_sparse_categorical_accuracy: 0.9019\n",
      "Epoch 46/100\n",
      "147/147 [==============================] - 140s 943ms/step - loss: 0.2046 - sparse_categorical_accuracy: 0.9366 - val_loss: 0.3648 - val_sparse_categorical_accuracy: 0.8965\n",
      "Epoch 47/100\n",
      "147/147 [==============================] - 143s 967ms/step - loss: 0.2119 - sparse_categorical_accuracy: 0.9332 - val_loss: 0.3696 - val_sparse_categorical_accuracy: 0.9019\n",
      "Epoch 48/100\n",
      "147/147 [==============================] - 139s 931ms/step - loss: 0.2076 - sparse_categorical_accuracy: 0.9292 - val_loss: 0.3976 - val_sparse_categorical_accuracy: 0.8828\n",
      "Epoch 49/100\n",
      "147/147 [==============================] - 140s 947ms/step - loss: 0.1759 - sparse_categorical_accuracy: 0.9394 - val_loss: 0.3731 - val_sparse_categorical_accuracy: 0.8910\n",
      "Epoch 50/100\n",
      "147/147 [==============================] - 137s 926ms/step - loss: 0.1995 - sparse_categorical_accuracy: 0.9312 - val_loss: 0.3704 - val_sparse_categorical_accuracy: 0.8910\n",
      "Epoch 51/100\n",
      "147/147 [==============================] - 139s 938ms/step - loss: 0.2390 - sparse_categorical_accuracy: 0.9237 - val_loss: 0.3620 - val_sparse_categorical_accuracy: 0.8965\n",
      "Epoch 52/100\n",
      "147/147 [==============================] - 144s 968ms/step - loss: 0.2009 - sparse_categorical_accuracy: 0.9319 - val_loss: 0.3589 - val_sparse_categorical_accuracy: 0.8992\n",
      "Epoch 53/100\n",
      "147/147 [==============================] - 140s 944ms/step - loss: 0.2401 - sparse_categorical_accuracy: 0.9223 - val_loss: 0.3733 - val_sparse_categorical_accuracy: 0.8965\n",
      "Epoch 54/100\n",
      "147/147 [==============================] - 142s 959ms/step - loss: 0.1704 - sparse_categorical_accuracy: 0.9394 - val_loss: 0.3628 - val_sparse_categorical_accuracy: 0.8910\n",
      "Epoch 55/100\n",
      "147/147 [==============================] - 145s 970ms/step - loss: 0.2272 - sparse_categorical_accuracy: 0.9312 - val_loss: 0.3582 - val_sparse_categorical_accuracy: 0.8883\n",
      "Epoch 56/100\n",
      "147/147 [==============================] - 142s 959ms/step - loss: 0.1677 - sparse_categorical_accuracy: 0.9414 - val_loss: 0.3690 - val_sparse_categorical_accuracy: 0.8965\n",
      "Epoch 57/100\n",
      "147/147 [==============================] - 136s 917ms/step - loss: 0.1870 - sparse_categorical_accuracy: 0.9339 - val_loss: 0.3832 - val_sparse_categorical_accuracy: 0.8965\n",
      "Epoch 58/100\n",
      "147/147 [==============================] - 137s 923ms/step - loss: 0.1639 - sparse_categorical_accuracy: 0.9387 - val_loss: 0.3768 - val_sparse_categorical_accuracy: 0.8856\n",
      "Epoch 59/100\n",
      "147/147 [==============================] - 146s 980ms/step - loss: 0.1873 - sparse_categorical_accuracy: 0.9360 - val_loss: 0.3602 - val_sparse_categorical_accuracy: 0.8937\n",
      "Epoch 60/100\n",
      "147/147 [==============================] - 144s 965ms/step - loss: 0.1610 - sparse_categorical_accuracy: 0.9435 - val_loss: 0.3587 - val_sparse_categorical_accuracy: 0.8937\n",
      "Epoch 61/100\n",
      "147/147 [==============================] - 141s 947ms/step - loss: 0.2170 - sparse_categorical_accuracy: 0.9312 - val_loss: 0.3750 - val_sparse_categorical_accuracy: 0.8910\n",
      "Epoch 62/100\n",
      "147/147 [==============================] - 145s 977ms/step - loss: 0.2037 - sparse_categorical_accuracy: 0.9326 - val_loss: 0.3637 - val_sparse_categorical_accuracy: 0.8965\n",
      "Epoch 63/100\n",
      "147/147 [==============================] - 138s 933ms/step - loss: 0.1804 - sparse_categorical_accuracy: 0.9414 - val_loss: 0.3588 - val_sparse_categorical_accuracy: 0.8937\n",
      "Epoch 64/100\n",
      "147/147 [==============================] - 138s 923ms/step - loss: 0.2094 - sparse_categorical_accuracy: 0.9332 - val_loss: 0.3536 - val_sparse_categorical_accuracy: 0.8910\n",
      "Epoch 65/100\n",
      "147/147 [==============================] - 132s 890ms/step - loss: 0.2151 - sparse_categorical_accuracy: 0.9346 - val_loss: 0.3520 - val_sparse_categorical_accuracy: 0.9019\n",
      "Epoch 66/100\n",
      "147/147 [==============================] - 135s 909ms/step - loss: 0.1855 - sparse_categorical_accuracy: 0.9407 - val_loss: 0.3706 - val_sparse_categorical_accuracy: 0.8910\n",
      "Epoch 67/100\n",
      "147/147 [==============================] - 140s 938ms/step - loss: 0.1915 - sparse_categorical_accuracy: 0.9401 - val_loss: 0.3796 - val_sparse_categorical_accuracy: 0.8856\n",
      "Epoch 68/100\n",
      "147/147 [==============================] - 139s 939ms/step - loss: 0.1763 - sparse_categorical_accuracy: 0.9462 - val_loss: 0.3622 - val_sparse_categorical_accuracy: 0.8965\n",
      "Epoch 69/100\n",
      "147/147 [==============================] - 139s 934ms/step - loss: 0.2210 - sparse_categorical_accuracy: 0.9305 - val_loss: 0.3511 - val_sparse_categorical_accuracy: 0.9019\n",
      "Epoch 70/100\n",
      "147/147 [==============================] - 143s 960ms/step - loss: 0.1941 - sparse_categorical_accuracy: 0.9387 - val_loss: 0.3436 - val_sparse_categorical_accuracy: 0.8992\n",
      "Epoch 71/100\n",
      "147/147 [==============================] - 139s 939ms/step - loss: 0.1356 - sparse_categorical_accuracy: 0.9475 - val_loss: 0.3418 - val_sparse_categorical_accuracy: 0.8992\n",
      "Epoch 72/100\n",
      "147/147 [==============================] - 139s 934ms/step - loss: 0.1735 - sparse_categorical_accuracy: 0.9455 - val_loss: 0.3642 - val_sparse_categorical_accuracy: 0.8910\n",
      "Epoch 73/100\n",
      "147/147 [==============================] - 142s 955ms/step - loss: 0.1668 - sparse_categorical_accuracy: 0.9475 - val_loss: 0.3675 - val_sparse_categorical_accuracy: 0.8965\n",
      "Epoch 74/100\n",
      "147/147 [==============================] - 143s 962ms/step - loss: 0.1845 - sparse_categorical_accuracy: 0.9380 - val_loss: 0.3557 - val_sparse_categorical_accuracy: 0.8992\n",
      "Epoch 75/100\n",
      "147/147 [==============================] - 135s 909ms/step - loss: 0.1790 - sparse_categorical_accuracy: 0.9441 - val_loss: 0.3588 - val_sparse_categorical_accuracy: 0.8937\n",
      "Epoch 76/100\n",
      "147/147 [==============================] - 144s 969ms/step - loss: 0.1484 - sparse_categorical_accuracy: 0.9496 - val_loss: 0.3709 - val_sparse_categorical_accuracy: 0.8910\n",
      "Epoch 77/100\n",
      "147/147 [==============================] - 138s 929ms/step - loss: 0.1794 - sparse_categorical_accuracy: 0.9469 - val_loss: 0.3531 - val_sparse_categorical_accuracy: 0.9019\n",
      "Epoch 78/100\n",
      "147/147 [==============================] - 139s 936ms/step - loss: 0.1807 - sparse_categorical_accuracy: 0.9428 - val_loss: 0.3512 - val_sparse_categorical_accuracy: 0.9101\n",
      "Epoch 79/100\n",
      "147/147 [==============================] - 143s 956ms/step - loss: 0.1775 - sparse_categorical_accuracy: 0.9394 - val_loss: 0.3564 - val_sparse_categorical_accuracy: 0.8992\n",
      "Epoch 80/100\n",
      "147/147 [==============================] - 144s 973ms/step - loss: 0.1472 - sparse_categorical_accuracy: 0.9462 - val_loss: 0.3707 - val_sparse_categorical_accuracy: 0.8937\n",
      "Epoch 81/100\n",
      "147/147 [==============================] - 141s 951ms/step - loss: 0.1345 - sparse_categorical_accuracy: 0.9510 - val_loss: 0.3506 - val_sparse_categorical_accuracy: 0.8910\n",
      "Epoch 82/100\n",
      "147/147 [==============================] - 137s 923ms/step - loss: 0.1526 - sparse_categorical_accuracy: 0.9482 - val_loss: 0.3539 - val_sparse_categorical_accuracy: 0.8937\n",
      "Epoch 83/100\n",
      "147/147 [==============================] - 146s 976ms/step - loss: 0.1481 - sparse_categorical_accuracy: 0.9510 - val_loss: 0.3639 - val_sparse_categorical_accuracy: 0.8937\n",
      "Epoch 84/100\n",
      "147/147 [==============================] - 135s 906ms/step - loss: 0.1826 - sparse_categorical_accuracy: 0.9482 - val_loss: 0.3533 - val_sparse_categorical_accuracy: 0.8992\n",
      "Epoch 85/100\n",
      "147/147 [==============================] - 143s 958ms/step - loss: 0.1501 - sparse_categorical_accuracy: 0.9469 - val_loss: 0.3485 - val_sparse_categorical_accuracy: 0.8992\n",
      "Epoch 86/100\n",
      "147/147 [==============================] - 137s 922ms/step - loss: 0.1720 - sparse_categorical_accuracy: 0.9394 - val_loss: 0.3511 - val_sparse_categorical_accuracy: 0.8992\n",
      "Epoch 87/100\n",
      "147/147 [==============================] - 144s 972ms/step - loss: 0.1957 - sparse_categorical_accuracy: 0.9353 - val_loss: 0.3555 - val_sparse_categorical_accuracy: 0.8992\n",
      "Epoch 88/100\n",
      "147/147 [==============================] - 142s 957ms/step - loss: 0.1425 - sparse_categorical_accuracy: 0.9516 - val_loss: 0.3539 - val_sparse_categorical_accuracy: 0.8992\n",
      "Epoch 89/100\n",
      "147/147 [==============================] - 144s 971ms/step - loss: 0.1551 - sparse_categorical_accuracy: 0.9455 - val_loss: 0.3479 - val_sparse_categorical_accuracy: 0.9046\n",
      "Epoch 90/100\n",
      "147/147 [==============================] - 141s 951ms/step - loss: 0.1513 - sparse_categorical_accuracy: 0.9482 - val_loss: 0.3599 - val_sparse_categorical_accuracy: 0.8965\n",
      "Epoch 91/100\n",
      "147/147 [==============================] - 141s 946ms/step - loss: 0.1317 - sparse_categorical_accuracy: 0.9571 - val_loss: 0.3456 - val_sparse_categorical_accuracy: 0.8937\n",
      "Epoch 92/100\n",
      "147/147 [==============================] - 142s 952ms/step - loss: 0.1540 - sparse_categorical_accuracy: 0.9503 - val_loss: 0.3710 - val_sparse_categorical_accuracy: 0.8992\n",
      "Epoch 93/100\n",
      "147/147 [==============================] - 135s 904ms/step - loss: 0.1291 - sparse_categorical_accuracy: 0.9530 - val_loss: 0.3398 - val_sparse_categorical_accuracy: 0.9019\n",
      "Epoch 94/100\n",
      "147/147 [==============================] - 144s 969ms/step - loss: 0.1399 - sparse_categorical_accuracy: 0.9557 - val_loss: 0.3531 - val_sparse_categorical_accuracy: 0.9046\n",
      "Epoch 95/100\n",
      "147/147 [==============================] - 144s 975ms/step - loss: 0.1365 - sparse_categorical_accuracy: 0.9598 - val_loss: 0.3548 - val_sparse_categorical_accuracy: 0.9019\n",
      "Epoch 96/100\n",
      "147/147 [==============================] - 143s 962ms/step - loss: 0.1469 - sparse_categorical_accuracy: 0.9482 - val_loss: 0.3676 - val_sparse_categorical_accuracy: 0.9019\n",
      "Epoch 97/100\n",
      "147/147 [==============================] - 139s 938ms/step - loss: 0.1437 - sparse_categorical_accuracy: 0.9557 - val_loss: 0.3539 - val_sparse_categorical_accuracy: 0.9019\n",
      "Epoch 98/100\n",
      "147/147 [==============================] - 137s 917ms/step - loss: 0.1260 - sparse_categorical_accuracy: 0.9564 - val_loss: 0.3643 - val_sparse_categorical_accuracy: 0.9074\n",
      "Epoch 99/100\n",
      "147/147 [==============================] - 136s 912ms/step - loss: 0.1287 - sparse_categorical_accuracy: 0.9516 - val_loss: 0.3507 - val_sparse_categorical_accuracy: 0.9046\n",
      "Epoch 100/100\n",
      "147/147 [==============================] - 139s 932ms/step - loss: 0.1776 - sparse_categorical_accuracy: 0.9421 - val_loss: 0.3557 - val_sparse_categorical_accuracy: 0.9101\n"
     ]
    }
   ],
   "source": [
    "with tf.device('/device:GPU:2'):\n",
    "    history = model1.fit_generator(train1,\n",
    "      #              steps_per_epoch = nb_train1_samples // batch_size,      \n",
    "                    validation_data=validation,\n",
    "      #              validation_steps=nb_validation_samples // batch_size,  \n",
    "                    epochs=100,verbose=1)"
   ]
  },
  {
   "cell_type": "code",
   "execution_count": 63,
   "id": "3840fc5c-3c16-42e8-930c-d298d72aaa6f",
   "metadata": {
    "executionInfo": {
     "elapsed": 500,
     "status": "ok",
     "timestamp": 1670500351235,
     "user": {
      "displayName": "신동욱",
      "userId": "15777921251637057342"
     },
     "user_tz": -540
    },
    "id": "UNR34S9PMGfg"
   },
   "outputs": [],
   "source": [
    "moat1.save_weights('final_flower_moat1_4.h5')"
   ]
  },
  {
   "cell_type": "markdown",
   "id": "80446726-db02-4635-b8cf-0bab48a029e9",
   "metadata": {
    "id": "zyPMdp7V6F7B",
    "jp-MarkdownHeadingCollapsed": true,
    "tags": []
   },
   "source": [
    "- 'flower_moat1_final_disjoint1_1.hdf5' 가 82/83 으로 마무리 \n",
    "- 'flower_moat1_4.h5' 가 94/91로 마무리."
   ]
  },
  {
   "cell_type": "markdown",
   "id": "681aa7ad-47c3-44ca-a068-888e535a2d73",
   "metadata": {
    "id": "0so0CahKgT77"
   },
   "source": [
    "### model2"
   ]
  },
  {
   "cell_type": "code",
   "execution_count": 46,
   "id": "6ac505fb-53b1-436a-a80d-5d0fedf4fb17",
   "metadata": {},
   "outputs": [],
   "source": [
    "moat2 = moat.get_model(name='tiny_moat1_pretrain_256_no_pe_1k',input_shape=[256,256,3])\n",
    "moat2 = moat._load_moat_pretrained_checkpoint(moat1, path=\"./moat1/model-ckpt-0\")\n",
    "o2 = moat2.output[\"stage5\"]\n",
    "r2 = tf.keras.layers.Flatten(name='flatten_layer1')(o2)\n",
    "out2 = tf.keras.layers.Dense(\n",
    "    units=5, activation='softmax', name='output_layer')(r2)\n",
    "\n",
    "def create_model():\n",
    "    return tf.keras.models.Model(moat2.input, out2)"
   ]
  },
  {
   "cell_type": "code",
   "execution_count": 47,
   "id": "cff2b14b-53e5-4bdf-94a9-6f13444a55cc",
   "metadata": {
    "colab": {
     "base_uri": "https://localhost:8080/",
     "height": 1000
    },
    "executionInfo": {
     "elapsed": 3506506,
     "status": "error",
     "timestamp": 1670505822883,
     "user": {
      "displayName": "신동욱",
      "userId": "15777921251637057342"
     },
     "user_tz": -540
    },
    "id": "_ac7YQqLYbgO",
    "outputId": "a4a62921-dd28-42df-dbf2-a22d77c47d9b",
    "tags": []
   },
   "outputs": [
    {
     "name": "stdout",
     "output_type": "stream",
     "text": [
      "\u001b[31mPlease check your arguments if you have upgraded adabelief-tf from version 0.0.1.\n",
      "\u001b[31mModifications to default arguments:\n",
      "\u001b[31m                           eps  weight_decouple    rectify\n",
      "-----------------------  -----  -----------------  -------------\n",
      "adabelief-tf=0.0.1       1e-08  Not supported      Not supported\n",
      ">=0.1.0 (Current 0.2.1)  1e-14  supported          default: True\n",
      "\u001b[34mSGD better than Adam (e.g. CNN for Image Classification)    Adam better than SGD (e.g. Transformer, GAN)\n",
      "----------------------------------------------------------  ----------------------------------------------\n",
      "Recommended epsilon = 1e-7                                  Recommended epsilon = 1e-14\n",
      "\u001b[34mFor a complete table of recommended hyperparameters, see\n",
      "\u001b[34mhttps://github.com/juntang-zhuang/Adabelief-Optimizer\n",
      "\u001b[32mYou can disable the log message by setting \"print_change_log = False\", though it is recommended to keep as a reminder.\n",
      "\u001b[0m\n"
     ]
    }
   ],
   "source": [
    "with tf.device('/device:GPU:2'):\n",
    "    model2=create_model()\n",
    " #   model2.load_weights('flower_moat1_2.h5')\n",
    "  #  moat1 = moat._load_moat_pretrained_checkpoint(moat1, path=\"./moat1/model-ckpt-0\")\n",
    "    opt2 = AdaBeliefOptimizer(learning_rate=1e-6, beta_1= 0.9, beta_2=0.999, weight_decay= 0.05,  epsilon=1e-14)\n",
    "    model2.compile(optimizer=opt2,\n",
    "                   loss='sparse_categorical_crossentropy', \n",
    "                   metrics = tf.keras.metrics.SparseCategoricalAccuracy())\n",
    "#    checkpointer = ModelCheckpoint(filepath='flower_disjoint1_1.hdf5', \n",
    "#                                   verbose=1, \n",
    "#                                   monitor =\"val_sparse_categorical_accuracy\",\n",
    "#                                   save_best_only=True)\n",
    "#    csv_logger = CSVLogger('flower_disjoint1_1.log')"
   ]
  },
  {
   "cell_type": "code",
   "execution_count": 48,
   "id": "a51d32f5-cbe0-47fd-994f-49bad5dabc91",
   "metadata": {},
   "outputs": [
    {
     "name": "stdout",
     "output_type": "stream",
     "text": [
      "2.6.0\n"
     ]
    }
   ],
   "source": [
    "print(tf.__version__)"
   ]
  },
  {
   "cell_type": "code",
   "execution_count": 49,
   "id": "edee4ec1-1d8f-4d7a-9d1d-9fb6fcd48ab9",
   "metadata": {
    "colab": {
     "base_uri": "https://localhost:8080/",
     "height": 1000
    },
    "executionInfo": {
     "elapsed": 3506506,
     "status": "error",
     "timestamp": 1670505822883,
     "user": {
      "displayName": "신동욱",
      "userId": "15777921251637057342"
     },
     "user_tz": -540
    },
    "id": "_ac7YQqLYbgO",
    "outputId": "a4a62921-dd28-42df-dbf2-a22d77c47d9b",
    "tags": []
   },
   "outputs": [
    {
     "name": "stdout",
     "output_type": "stream",
     "text": [
      "Epoch 1/313\n",
      "147/147 [==============================] - 259s 830ms/step - loss: 8.9507 - sparse_categorical_accuracy: 0.2112 - val_loss: 7.4043 - val_sparse_categorical_accuracy: 0.2834\n",
      "Epoch 2/313\n",
      "147/147 [==============================] - 124s 826ms/step - loss: 7.0148 - sparse_categorical_accuracy: 0.1989 - val_loss: 5.5012 - val_sparse_categorical_accuracy: 0.2725\n",
      "Epoch 3/313\n",
      "147/147 [==============================] - 119s 781ms/step - loss: 5.1455 - sparse_categorical_accuracy: 0.2166 - val_loss: 4.2067 - val_sparse_categorical_accuracy: 0.2997\n",
      "Epoch 4/313\n",
      "147/147 [==============================] - 127s 842ms/step - loss: 4.3484 - sparse_categorical_accuracy: 0.2432 - val_loss: 3.7410 - val_sparse_categorical_accuracy: 0.3297\n",
      "Epoch 5/313\n",
      "147/147 [==============================] - 119s 793ms/step - loss: 3.9450 - sparse_categorical_accuracy: 0.2868 - val_loss: 3.4561 - val_sparse_categorical_accuracy: 0.3488\n",
      "Epoch 6/313\n",
      "147/147 [==============================] - 121s 794ms/step - loss: 3.8297 - sparse_categorical_accuracy: 0.2963 - val_loss: 3.2419 - val_sparse_categorical_accuracy: 0.3651\n",
      "Epoch 7/313\n",
      "147/147 [==============================] - 124s 828ms/step - loss: 3.5034 - sparse_categorical_accuracy: 0.3079 - val_loss: 3.0256 - val_sparse_categorical_accuracy: 0.3815\n",
      "Epoch 8/313\n",
      "147/147 [==============================] - 120s 799ms/step - loss: 3.2279 - sparse_categorical_accuracy: 0.3474 - val_loss: 2.8417 - val_sparse_categorical_accuracy: 0.3951\n",
      "Epoch 9/313\n",
      "147/147 [==============================] - 116s 754ms/step - loss: 3.3149 - sparse_categorical_accuracy: 0.3440 - val_loss: 2.6955 - val_sparse_categorical_accuracy: 0.4414\n",
      "Epoch 10/313\n",
      "147/147 [==============================] - 122s 807ms/step - loss: 2.9825 - sparse_categorical_accuracy: 0.3815 - val_loss: 2.5388 - val_sparse_categorical_accuracy: 0.4659\n",
      "Epoch 11/313\n",
      "147/147 [==============================] - 122s 801ms/step - loss: 2.9203 - sparse_categorical_accuracy: 0.3842 - val_loss: 2.4024 - val_sparse_categorical_accuracy: 0.4823\n",
      "Epoch 12/313\n",
      "147/147 [==============================] - 117s 786ms/step - loss: 2.8021 - sparse_categorical_accuracy: 0.4162 - val_loss: 2.2961 - val_sparse_categorical_accuracy: 0.4959\n",
      "Epoch 13/313\n",
      "147/147 [==============================] - 116s 776ms/step - loss: 2.6508 - sparse_categorical_accuracy: 0.4305 - val_loss: 2.1853 - val_sparse_categorical_accuracy: 0.5368\n",
      "Epoch 14/313\n",
      "147/147 [==============================] - 116s 775ms/step - loss: 2.4439 - sparse_categorical_accuracy: 0.4775 - val_loss: 2.0908 - val_sparse_categorical_accuracy: 0.5395\n",
      "Epoch 15/313\n",
      "147/147 [==============================] - 128s 849ms/step - loss: 2.3953 - sparse_categorical_accuracy: 0.4871 - val_loss: 2.0029 - val_sparse_categorical_accuracy: 0.5531\n",
      "Epoch 16/313\n",
      "147/147 [==============================] - 118s 780ms/step - loss: 2.2855 - sparse_categorical_accuracy: 0.5116 - val_loss: 1.9386 - val_sparse_categorical_accuracy: 0.5777\n",
      "Epoch 17/313\n",
      "147/147 [==============================] - 119s 796ms/step - loss: 2.1349 - sparse_categorical_accuracy: 0.5116 - val_loss: 1.8978 - val_sparse_categorical_accuracy: 0.5831\n",
      "Epoch 18/313\n",
      "147/147 [==============================] - 121s 794ms/step - loss: 2.2182 - sparse_categorical_accuracy: 0.5204 - val_loss: 1.8206 - val_sparse_categorical_accuracy: 0.5804\n",
      "Epoch 19/313\n",
      "147/147 [==============================] - 124s 822ms/step - loss: 2.0661 - sparse_categorical_accuracy: 0.5252 - val_loss: 1.7732 - val_sparse_categorical_accuracy: 0.5995\n",
      "Epoch 20/313\n",
      "147/147 [==============================] - 118s 784ms/step - loss: 1.9357 - sparse_categorical_accuracy: 0.5552 - val_loss: 1.7447 - val_sparse_categorical_accuracy: 0.6049\n",
      "Epoch 21/313\n",
      "147/147 [==============================] - 117s 781ms/step - loss: 1.8918 - sparse_categorical_accuracy: 0.5586 - val_loss: 1.6315 - val_sparse_categorical_accuracy: 0.6104\n",
      "Epoch 22/313\n",
      "147/147 [==============================] - 119s 800ms/step - loss: 1.8392 - sparse_categorical_accuracy: 0.5702 - val_loss: 1.5949 - val_sparse_categorical_accuracy: 0.6267\n",
      "Epoch 23/313\n",
      "147/147 [==============================] - 116s 768ms/step - loss: 1.7833 - sparse_categorical_accuracy: 0.5715 - val_loss: 1.5401 - val_sparse_categorical_accuracy: 0.6349\n",
      "Epoch 24/313\n",
      "147/147 [==============================] - 118s 786ms/step - loss: 1.6877 - sparse_categorical_accuracy: 0.5988 - val_loss: 1.5003 - val_sparse_categorical_accuracy: 0.6431\n",
      "Epoch 25/313\n",
      "147/147 [==============================] - 121s 804ms/step - loss: 1.6781 - sparse_categorical_accuracy: 0.5899 - val_loss: 1.4503 - val_sparse_categorical_accuracy: 0.6485\n",
      "Epoch 26/313\n",
      "147/147 [==============================] - 120s 806ms/step - loss: 1.6742 - sparse_categorical_accuracy: 0.6138 - val_loss: 1.4028 - val_sparse_categorical_accuracy: 0.6322\n",
      "Epoch 27/313\n",
      "147/147 [==============================] - 123s 816ms/step - loss: 1.5910 - sparse_categorical_accuracy: 0.6213 - val_loss: 1.3901 - val_sparse_categorical_accuracy: 0.6485\n",
      "Epoch 28/313\n",
      "147/147 [==============================] - 119s 794ms/step - loss: 1.4368 - sparse_categorical_accuracy: 0.6553 - val_loss: 1.3080 - val_sparse_categorical_accuracy: 0.6567\n",
      "Epoch 29/313\n",
      "147/147 [==============================] - 119s 790ms/step - loss: 1.5892 - sparse_categorical_accuracy: 0.6294 - val_loss: 1.2853 - val_sparse_categorical_accuracy: 0.6567\n",
      "Epoch 30/313\n",
      "147/147 [==============================] - 122s 813ms/step - loss: 1.4768 - sparse_categorical_accuracy: 0.6444 - val_loss: 1.2231 - val_sparse_categorical_accuracy: 0.6757\n",
      "Epoch 31/313\n",
      "147/147 [==============================] - 120s 800ms/step - loss: 1.3690 - sparse_categorical_accuracy: 0.6560 - val_loss: 1.2068 - val_sparse_categorical_accuracy: 0.6975\n",
      "Epoch 32/313\n",
      "147/147 [==============================] - 120s 802ms/step - loss: 1.4152 - sparse_categorical_accuracy: 0.6594 - val_loss: 1.1622 - val_sparse_categorical_accuracy: 0.7003\n",
      "Epoch 33/313\n",
      "147/147 [==============================] - 118s 786ms/step - loss: 1.4520 - sparse_categorical_accuracy: 0.6587 - val_loss: 1.1393 - val_sparse_categorical_accuracy: 0.7112\n",
      "Epoch 34/313\n",
      "147/147 [==============================] - 124s 828ms/step - loss: 1.3753 - sparse_categorical_accuracy: 0.6737 - val_loss: 1.1284 - val_sparse_categorical_accuracy: 0.7084\n",
      "Epoch 35/313\n",
      "147/147 [==============================] - 120s 802ms/step - loss: 1.3774 - sparse_categorical_accuracy: 0.6866 - val_loss: 1.1116 - val_sparse_categorical_accuracy: 0.7166\n",
      "Epoch 36/313\n",
      "147/147 [==============================] - 119s 797ms/step - loss: 1.2443 - sparse_categorical_accuracy: 0.6928 - val_loss: 1.0651 - val_sparse_categorical_accuracy: 0.7084\n",
      "Epoch 37/313\n",
      "147/147 [==============================] - 119s 794ms/step - loss: 1.2814 - sparse_categorical_accuracy: 0.6880 - val_loss: 1.0339 - val_sparse_categorical_accuracy: 0.7166\n",
      "Epoch 38/313\n",
      "147/147 [==============================] - 125s 838ms/step - loss: 1.1971 - sparse_categorical_accuracy: 0.6982 - val_loss: 1.0203 - val_sparse_categorical_accuracy: 0.7275\n",
      "Epoch 39/313\n",
      "147/147 [==============================] - 117s 775ms/step - loss: 1.2247 - sparse_categorical_accuracy: 0.7084 - val_loss: 1.0136 - val_sparse_categorical_accuracy: 0.7330\n",
      "Epoch 40/313\n",
      "147/147 [==============================] - 122s 809ms/step - loss: 1.1891 - sparse_categorical_accuracy: 0.7023 - val_loss: 0.9880 - val_sparse_categorical_accuracy: 0.7221\n",
      "Epoch 41/313\n",
      "147/147 [==============================] - 117s 777ms/step - loss: 1.1046 - sparse_categorical_accuracy: 0.7180 - val_loss: 0.9791 - val_sparse_categorical_accuracy: 0.7493\n",
      "Epoch 42/313\n",
      "147/147 [==============================] - 118s 787ms/step - loss: 1.1838 - sparse_categorical_accuracy: 0.7010 - val_loss: 0.9657 - val_sparse_categorical_accuracy: 0.7357\n",
      "Epoch 43/313\n",
      "147/147 [==============================] - 119s 792ms/step - loss: 1.1609 - sparse_categorical_accuracy: 0.7187 - val_loss: 0.9360 - val_sparse_categorical_accuracy: 0.7439\n",
      "Epoch 44/313\n",
      "147/147 [==============================] - 130s 871ms/step - loss: 1.1088 - sparse_categorical_accuracy: 0.7221 - val_loss: 0.9160 - val_sparse_categorical_accuracy: 0.7548\n",
      "Epoch 45/313\n",
      "147/147 [==============================] - 120s 806ms/step - loss: 1.0965 - sparse_categorical_accuracy: 0.7262 - val_loss: 0.8840 - val_sparse_categorical_accuracy: 0.7629\n",
      "Epoch 46/313\n",
      "147/147 [==============================] - 126s 836ms/step - loss: 1.0707 - sparse_categorical_accuracy: 0.7350 - val_loss: 0.8686 - val_sparse_categorical_accuracy: 0.7711\n",
      "Epoch 47/313\n",
      "147/147 [==============================] - 123s 827ms/step - loss: 1.0685 - sparse_categorical_accuracy: 0.7391 - val_loss: 0.8502 - val_sparse_categorical_accuracy: 0.7766\n",
      "Epoch 48/313\n",
      "147/147 [==============================] - 124s 827ms/step - loss: 1.0589 - sparse_categorical_accuracy: 0.7405 - val_loss: 0.8458 - val_sparse_categorical_accuracy: 0.7766\n",
      "Epoch 49/313\n",
      "147/147 [==============================] - 119s 795ms/step - loss: 0.9842 - sparse_categorical_accuracy: 0.7486 - val_loss: 0.8382 - val_sparse_categorical_accuracy: 0.7738\n",
      "Epoch 50/313\n",
      "147/147 [==============================] - 132s 879ms/step - loss: 0.9243 - sparse_categorical_accuracy: 0.7548 - val_loss: 0.8224 - val_sparse_categorical_accuracy: 0.7902\n",
      "Epoch 51/313\n",
      "147/147 [==============================] - 122s 811ms/step - loss: 0.9943 - sparse_categorical_accuracy: 0.7480 - val_loss: 0.8101 - val_sparse_categorical_accuracy: 0.7984\n",
      "Epoch 52/313\n",
      "147/147 [==============================] - 121s 802ms/step - loss: 0.9502 - sparse_categorical_accuracy: 0.7493 - val_loss: 0.7878 - val_sparse_categorical_accuracy: 0.7875\n",
      "Epoch 53/313\n",
      "147/147 [==============================] - 117s 778ms/step - loss: 0.8965 - sparse_categorical_accuracy: 0.7629 - val_loss: 0.7582 - val_sparse_categorical_accuracy: 0.8065\n",
      "Epoch 54/313\n",
      "147/147 [==============================] - 121s 806ms/step - loss: 1.0094 - sparse_categorical_accuracy: 0.7609 - val_loss: 0.7681 - val_sparse_categorical_accuracy: 0.8038\n",
      "Epoch 55/313\n",
      "147/147 [==============================] - 117s 780ms/step - loss: 0.8782 - sparse_categorical_accuracy: 0.7718 - val_loss: 0.7484 - val_sparse_categorical_accuracy: 0.8065\n",
      "Epoch 56/313\n",
      "147/147 [==============================] - 124s 834ms/step - loss: 0.8837 - sparse_categorical_accuracy: 0.7670 - val_loss: 0.7551 - val_sparse_categorical_accuracy: 0.8065\n",
      "Epoch 57/313\n",
      "147/147 [==============================] - 121s 808ms/step - loss: 0.8900 - sparse_categorical_accuracy: 0.7711 - val_loss: 0.7330 - val_sparse_categorical_accuracy: 0.8120\n",
      "Epoch 58/313\n",
      "147/147 [==============================] - 120s 798ms/step - loss: 0.8818 - sparse_categorical_accuracy: 0.7663 - val_loss: 0.7305 - val_sparse_categorical_accuracy: 0.8256\n",
      "Epoch 59/313\n",
      "147/147 [==============================] - 121s 806ms/step - loss: 0.8297 - sparse_categorical_accuracy: 0.7943 - val_loss: 0.7153 - val_sparse_categorical_accuracy: 0.8229\n",
      "Epoch 60/313\n",
      "147/147 [==============================] - 126s 844ms/step - loss: 0.8720 - sparse_categorical_accuracy: 0.7759 - val_loss: 0.6971 - val_sparse_categorical_accuracy: 0.8202\n",
      "Epoch 61/313\n",
      "147/147 [==============================] - 115s 770ms/step - loss: 0.8271 - sparse_categorical_accuracy: 0.7854 - val_loss: 0.7159 - val_sparse_categorical_accuracy: 0.8229\n",
      "Epoch 62/313\n",
      "147/147 [==============================] - 120s 799ms/step - loss: 0.8565 - sparse_categorical_accuracy: 0.7752 - val_loss: 0.6964 - val_sparse_categorical_accuracy: 0.8174\n",
      "Epoch 63/313\n",
      "147/147 [==============================] - 117s 781ms/step - loss: 0.8027 - sparse_categorical_accuracy: 0.7820 - val_loss: 0.6758 - val_sparse_categorical_accuracy: 0.8174\n",
      "Epoch 64/313\n",
      "147/147 [==============================] - 118s 788ms/step - loss: 0.8656 - sparse_categorical_accuracy: 0.7800 - val_loss: 0.6725 - val_sparse_categorical_accuracy: 0.8256\n",
      "Epoch 65/313\n",
      "147/147 [==============================] - 121s 802ms/step - loss: 0.7997 - sparse_categorical_accuracy: 0.7868 - val_loss: 0.6674 - val_sparse_categorical_accuracy: 0.8283\n",
      "Epoch 66/313\n",
      "147/147 [==============================] - 119s 790ms/step - loss: 0.7871 - sparse_categorical_accuracy: 0.7895 - val_loss: 0.6591 - val_sparse_categorical_accuracy: 0.8311\n",
      "Epoch 67/313\n",
      "147/147 [==============================] - 116s 779ms/step - loss: 0.7727 - sparse_categorical_accuracy: 0.8004 - val_loss: 0.6507 - val_sparse_categorical_accuracy: 0.8256\n",
      "Epoch 68/313\n",
      "147/147 [==============================] - 113s 752ms/step - loss: 0.7083 - sparse_categorical_accuracy: 0.7997 - val_loss: 0.6546 - val_sparse_categorical_accuracy: 0.8256\n",
      "Epoch 69/313\n",
      "147/147 [==============================] - 116s 777ms/step - loss: 0.6793 - sparse_categorical_accuracy: 0.8147 - val_loss: 0.6546 - val_sparse_categorical_accuracy: 0.8338\n",
      "Epoch 70/313\n",
      "147/147 [==============================] - 121s 809ms/step - loss: 0.6899 - sparse_categorical_accuracy: 0.8168 - val_loss: 0.6325 - val_sparse_categorical_accuracy: 0.8338\n",
      "Epoch 71/313\n",
      "147/147 [==============================] - 116s 779ms/step - loss: 0.6765 - sparse_categorical_accuracy: 0.8052 - val_loss: 0.6253 - val_sparse_categorical_accuracy: 0.8338\n",
      "Epoch 72/313\n",
      "147/147 [==============================] - 123s 822ms/step - loss: 0.7370 - sparse_categorical_accuracy: 0.8011 - val_loss: 0.6200 - val_sparse_categorical_accuracy: 0.8338\n",
      "Epoch 73/313\n",
      "147/147 [==============================] - 119s 793ms/step - loss: 0.7420 - sparse_categorical_accuracy: 0.8052 - val_loss: 0.6199 - val_sparse_categorical_accuracy: 0.8283\n",
      "Epoch 74/313\n",
      "147/147 [==============================] - 121s 809ms/step - loss: 0.6056 - sparse_categorical_accuracy: 0.8263 - val_loss: 0.6094 - val_sparse_categorical_accuracy: 0.8365\n",
      "Epoch 75/313\n",
      "147/147 [==============================] - 120s 801ms/step - loss: 0.6526 - sparse_categorical_accuracy: 0.8140 - val_loss: 0.6025 - val_sparse_categorical_accuracy: 0.8365\n",
      "Epoch 76/313\n",
      "147/147 [==============================] - 121s 807ms/step - loss: 0.6905 - sparse_categorical_accuracy: 0.8208 - val_loss: 0.5931 - val_sparse_categorical_accuracy: 0.8392\n",
      "Epoch 77/313\n",
      "147/147 [==============================] - 123s 823ms/step - loss: 0.6205 - sparse_categorical_accuracy: 0.8256 - val_loss: 0.6191 - val_sparse_categorical_accuracy: 0.8365\n",
      "Epoch 78/313\n",
      "147/147 [==============================] - 117s 777ms/step - loss: 0.6858 - sparse_categorical_accuracy: 0.8188 - val_loss: 0.5902 - val_sparse_categorical_accuracy: 0.8392\n",
      "Epoch 79/313\n",
      "147/147 [==============================] - 117s 771ms/step - loss: 0.5739 - sparse_categorical_accuracy: 0.8433 - val_loss: 0.5779 - val_sparse_categorical_accuracy: 0.8420\n",
      "Epoch 80/313\n",
      "147/147 [==============================] - 120s 797ms/step - loss: 0.6662 - sparse_categorical_accuracy: 0.8351 - val_loss: 0.5869 - val_sparse_categorical_accuracy: 0.8392\n",
      "Epoch 81/313\n",
      "147/147 [==============================] - 120s 800ms/step - loss: 0.6378 - sparse_categorical_accuracy: 0.8229 - val_loss: 0.5759 - val_sparse_categorical_accuracy: 0.8338\n",
      "Epoch 82/313\n",
      "147/147 [==============================] - 122s 815ms/step - loss: 0.6391 - sparse_categorical_accuracy: 0.8243 - val_loss: 0.5807 - val_sparse_categorical_accuracy: 0.8392\n",
      "Epoch 83/313\n",
      "147/147 [==============================] - 119s 790ms/step - loss: 0.5810 - sparse_categorical_accuracy: 0.8331 - val_loss: 0.5665 - val_sparse_categorical_accuracy: 0.8447\n",
      "Epoch 84/313\n",
      "147/147 [==============================] - 124s 827ms/step - loss: 0.6699 - sparse_categorical_accuracy: 0.8140 - val_loss: 0.5688 - val_sparse_categorical_accuracy: 0.8365\n",
      "Epoch 85/313\n",
      "147/147 [==============================] - 119s 791ms/step - loss: 0.5833 - sparse_categorical_accuracy: 0.8358 - val_loss: 0.5629 - val_sparse_categorical_accuracy: 0.8365\n",
      "Epoch 86/313\n",
      "147/147 [==============================] - 117s 773ms/step - loss: 0.5924 - sparse_categorical_accuracy: 0.8317 - val_loss: 0.5567 - val_sparse_categorical_accuracy: 0.8474\n",
      "Epoch 87/313\n",
      "147/147 [==============================] - 130s 866ms/step - loss: 0.6010 - sparse_categorical_accuracy: 0.8345 - val_loss: 0.5445 - val_sparse_categorical_accuracy: 0.8529\n",
      "Epoch 88/313\n",
      "147/147 [==============================] - 131s 877ms/step - loss: 0.5063 - sparse_categorical_accuracy: 0.8508 - val_loss: 0.5380 - val_sparse_categorical_accuracy: 0.8529\n",
      "Epoch 89/313\n",
      "147/147 [==============================] - 129s 869ms/step - loss: 0.5297 - sparse_categorical_accuracy: 0.8495 - val_loss: 0.5259 - val_sparse_categorical_accuracy: 0.8610\n",
      "Epoch 90/313\n",
      "147/147 [==============================] - 136s 913ms/step - loss: 0.5745 - sparse_categorical_accuracy: 0.8358 - val_loss: 0.5147 - val_sparse_categorical_accuracy: 0.8447\n",
      "Epoch 91/313\n",
      "147/147 [==============================] - 134s 890ms/step - loss: 0.5941 - sparse_categorical_accuracy: 0.8290 - val_loss: 0.5185 - val_sparse_categorical_accuracy: 0.8529\n",
      "Epoch 92/313\n",
      "147/147 [==============================] - 133s 891ms/step - loss: 0.5173 - sparse_categorical_accuracy: 0.8454 - val_loss: 0.5082 - val_sparse_categorical_accuracy: 0.8529\n",
      "Epoch 93/313\n",
      "147/147 [==============================] - 127s 853ms/step - loss: 0.6035 - sparse_categorical_accuracy: 0.8474 - val_loss: 0.5195 - val_sparse_categorical_accuracy: 0.8501\n",
      "Epoch 94/313\n",
      "147/147 [==============================] - 132s 883ms/step - loss: 0.5756 - sparse_categorical_accuracy: 0.8426 - val_loss: 0.5243 - val_sparse_categorical_accuracy: 0.8638\n",
      "Epoch 95/313\n",
      "147/147 [==============================] - 125s 839ms/step - loss: 0.5187 - sparse_categorical_accuracy: 0.8529 - val_loss: 0.5169 - val_sparse_categorical_accuracy: 0.8610\n",
      "Epoch 96/313\n",
      "147/147 [==============================] - 135s 907ms/step - loss: 0.5670 - sparse_categorical_accuracy: 0.8413 - val_loss: 0.5130 - val_sparse_categorical_accuracy: 0.8501\n",
      "Epoch 97/313\n",
      "147/147 [==============================] - 131s 875ms/step - loss: 0.5108 - sparse_categorical_accuracy: 0.8604 - val_loss: 0.5087 - val_sparse_categorical_accuracy: 0.8501\n",
      "Epoch 98/313\n",
      "147/147 [==============================] - 132s 884ms/step - loss: 0.5500 - sparse_categorical_accuracy: 0.8535 - val_loss: 0.5154 - val_sparse_categorical_accuracy: 0.8529\n",
      "Epoch 99/313\n",
      "147/147 [==============================] - 134s 904ms/step - loss: 0.5072 - sparse_categorical_accuracy: 0.8563 - val_loss: 0.5023 - val_sparse_categorical_accuracy: 0.8447\n",
      "Epoch 100/313\n",
      "147/147 [==============================] - 126s 841ms/step - loss: 0.5293 - sparse_categorical_accuracy: 0.8542 - val_loss: 0.4945 - val_sparse_categorical_accuracy: 0.8529\n",
      "Epoch 101/313\n",
      "147/147 [==============================] - 129s 869ms/step - loss: 0.5128 - sparse_categorical_accuracy: 0.8474 - val_loss: 0.4873 - val_sparse_categorical_accuracy: 0.8447\n",
      "Epoch 102/313\n",
      "147/147 [==============================] - 125s 834ms/step - loss: 0.5093 - sparse_categorical_accuracy: 0.8672 - val_loss: 0.4748 - val_sparse_categorical_accuracy: 0.8529\n",
      "Epoch 103/313\n",
      "147/147 [==============================] - 128s 861ms/step - loss: 0.4759 - sparse_categorical_accuracy: 0.8597 - val_loss: 0.4669 - val_sparse_categorical_accuracy: 0.8529\n",
      "Epoch 104/313\n",
      "147/147 [==============================] - 138s 929ms/step - loss: 0.4633 - sparse_categorical_accuracy: 0.8658 - val_loss: 0.4651 - val_sparse_categorical_accuracy: 0.8583\n",
      "Epoch 105/313\n",
      "147/147 [==============================] - 132s 888ms/step - loss: 0.4930 - sparse_categorical_accuracy: 0.8604 - val_loss: 0.4597 - val_sparse_categorical_accuracy: 0.8583\n",
      "Epoch 106/313\n",
      "147/147 [==============================] - 129s 860ms/step - loss: 0.4693 - sparse_categorical_accuracy: 0.8672 - val_loss: 0.4547 - val_sparse_categorical_accuracy: 0.8556\n",
      "Epoch 107/313\n",
      "147/147 [==============================] - 126s 840ms/step - loss: 0.4863 - sparse_categorical_accuracy: 0.8624 - val_loss: 0.4531 - val_sparse_categorical_accuracy: 0.8583\n",
      "Epoch 108/313\n",
      "147/147 [==============================] - 131s 878ms/step - loss: 0.5012 - sparse_categorical_accuracy: 0.8651 - val_loss: 0.4767 - val_sparse_categorical_accuracy: 0.8583\n",
      "Epoch 109/313\n",
      "147/147 [==============================] - 132s 885ms/step - loss: 0.4742 - sparse_categorical_accuracy: 0.8624 - val_loss: 0.4719 - val_sparse_categorical_accuracy: 0.8474\n",
      "Epoch 110/313\n",
      "147/147 [==============================] - 125s 836ms/step - loss: 0.4448 - sparse_categorical_accuracy: 0.8747 - val_loss: 0.4594 - val_sparse_categorical_accuracy: 0.8692\n",
      "Epoch 111/313\n",
      "147/147 [==============================] - 133s 892ms/step - loss: 0.4650 - sparse_categorical_accuracy: 0.8651 - val_loss: 0.4732 - val_sparse_categorical_accuracy: 0.8556\n",
      "Epoch 112/313\n",
      "147/147 [==============================] - 134s 898ms/step - loss: 0.4257 - sparse_categorical_accuracy: 0.8713 - val_loss: 0.4610 - val_sparse_categorical_accuracy: 0.8638\n",
      "Epoch 113/313\n",
      "147/147 [==============================] - 130s 869ms/step - loss: 0.4212 - sparse_categorical_accuracy: 0.8787 - val_loss: 0.4543 - val_sparse_categorical_accuracy: 0.8638\n",
      "Epoch 114/313\n",
      "147/147 [==============================] - 126s 847ms/step - loss: 0.4547 - sparse_categorical_accuracy: 0.8774 - val_loss: 0.4563 - val_sparse_categorical_accuracy: 0.8610\n",
      "Epoch 115/313\n",
      "147/147 [==============================] - 124s 830ms/step - loss: 0.4639 - sparse_categorical_accuracy: 0.8726 - val_loss: 0.4493 - val_sparse_categorical_accuracy: 0.8610\n",
      "Epoch 116/313\n",
      "147/147 [==============================] - 128s 862ms/step - loss: 0.4119 - sparse_categorical_accuracy: 0.8760 - val_loss: 0.4522 - val_sparse_categorical_accuracy: 0.8610\n",
      "Epoch 117/313\n",
      "147/147 [==============================] - 128s 857ms/step - loss: 0.4587 - sparse_categorical_accuracy: 0.8638 - val_loss: 0.4314 - val_sparse_categorical_accuracy: 0.8583\n",
      "Epoch 118/313\n",
      "147/147 [==============================] - 129s 862ms/step - loss: 0.4537 - sparse_categorical_accuracy: 0.8767 - val_loss: 0.4371 - val_sparse_categorical_accuracy: 0.8583\n",
      "Epoch 119/313\n",
      "147/147 [==============================] - 136s 913ms/step - loss: 0.4329 - sparse_categorical_accuracy: 0.8760 - val_loss: 0.4505 - val_sparse_categorical_accuracy: 0.8638\n",
      "Epoch 120/313\n",
      "147/147 [==============================] - 135s 910ms/step - loss: 0.4226 - sparse_categorical_accuracy: 0.8815 - val_loss: 0.4297 - val_sparse_categorical_accuracy: 0.8638\n",
      "Epoch 121/313\n",
      "147/147 [==============================] - 132s 886ms/step - loss: 0.3888 - sparse_categorical_accuracy: 0.8856 - val_loss: 0.4334 - val_sparse_categorical_accuracy: 0.8719\n",
      "Epoch 122/313\n",
      "147/147 [==============================] - 129s 867ms/step - loss: 0.3982 - sparse_categorical_accuracy: 0.8740 - val_loss: 0.4213 - val_sparse_categorical_accuracy: 0.8692\n",
      "Epoch 123/313\n",
      "147/147 [==============================] - 136s 911ms/step - loss: 0.4194 - sparse_categorical_accuracy: 0.8787 - val_loss: 0.4483 - val_sparse_categorical_accuracy: 0.8638\n",
      "Epoch 124/313\n",
      "147/147 [==============================] - 127s 854ms/step - loss: 0.3595 - sparse_categorical_accuracy: 0.8903 - val_loss: 0.4374 - val_sparse_categorical_accuracy: 0.8665\n",
      "Epoch 125/313\n",
      "147/147 [==============================] - 124s 833ms/step - loss: 0.3697 - sparse_categorical_accuracy: 0.8971 - val_loss: 0.4248 - val_sparse_categorical_accuracy: 0.8719\n",
      "Epoch 126/313\n",
      "147/147 [==============================] - 128s 857ms/step - loss: 0.4435 - sparse_categorical_accuracy: 0.8781 - val_loss: 0.4214 - val_sparse_categorical_accuracy: 0.8638\n",
      "Epoch 127/313\n",
      "147/147 [==============================] - 131s 871ms/step - loss: 0.3895 - sparse_categorical_accuracy: 0.8876 - val_loss: 0.4215 - val_sparse_categorical_accuracy: 0.8692\n",
      "Epoch 128/313\n",
      "147/147 [==============================] - 133s 887ms/step - loss: 0.4302 - sparse_categorical_accuracy: 0.8678 - val_loss: 0.4227 - val_sparse_categorical_accuracy: 0.8747\n",
      "Epoch 129/313\n",
      "147/147 [==============================] - 133s 890ms/step - loss: 0.4155 - sparse_categorical_accuracy: 0.8849 - val_loss: 0.4122 - val_sparse_categorical_accuracy: 0.8665\n",
      "Epoch 130/313\n",
      "147/147 [==============================] - 135s 912ms/step - loss: 0.4436 - sparse_categorical_accuracy: 0.8842 - val_loss: 0.4143 - val_sparse_categorical_accuracy: 0.8692\n",
      "Epoch 131/313\n",
      "147/147 [==============================] - 130s 871ms/step - loss: 0.3687 - sparse_categorical_accuracy: 0.8917 - val_loss: 0.4114 - val_sparse_categorical_accuracy: 0.8665\n",
      "Epoch 132/313\n",
      "147/147 [==============================] - 134s 902ms/step - loss: 0.3286 - sparse_categorical_accuracy: 0.8931 - val_loss: 0.4171 - val_sparse_categorical_accuracy: 0.8638\n",
      "Epoch 133/313\n",
      "147/147 [==============================] - 134s 898ms/step - loss: 0.3431 - sparse_categorical_accuracy: 0.8944 - val_loss: 0.4207 - val_sparse_categorical_accuracy: 0.8774\n",
      "Epoch 134/313\n",
      "147/147 [==============================] - 133s 884ms/step - loss: 0.3120 - sparse_categorical_accuracy: 0.9080 - val_loss: 0.4196 - val_sparse_categorical_accuracy: 0.8719\n",
      "Epoch 135/313\n",
      "147/147 [==============================] - 133s 891ms/step - loss: 0.3625 - sparse_categorical_accuracy: 0.8917 - val_loss: 0.3997 - val_sparse_categorical_accuracy: 0.8747\n",
      "Epoch 136/313\n",
      "147/147 [==============================] - 136s 906ms/step - loss: 0.3885 - sparse_categorical_accuracy: 0.8869 - val_loss: 0.4137 - val_sparse_categorical_accuracy: 0.8774\n",
      "Epoch 137/313\n",
      "147/147 [==============================] - 129s 867ms/step - loss: 0.3199 - sparse_categorical_accuracy: 0.8992 - val_loss: 0.4115 - val_sparse_categorical_accuracy: 0.8747\n",
      "Epoch 138/313\n",
      "147/147 [==============================] - 135s 904ms/step - loss: 0.3808 - sparse_categorical_accuracy: 0.8849 - val_loss: 0.4093 - val_sparse_categorical_accuracy: 0.8692\n",
      "Epoch 139/313\n",
      "147/147 [==============================] - 137s 918ms/step - loss: 0.3391 - sparse_categorical_accuracy: 0.8896 - val_loss: 0.3985 - val_sparse_categorical_accuracy: 0.8747\n",
      "Epoch 140/313\n",
      "147/147 [==============================] - 140s 939ms/step - loss: 0.3504 - sparse_categorical_accuracy: 0.8890 - val_loss: 0.3962 - val_sparse_categorical_accuracy: 0.8747\n",
      "Epoch 141/313\n",
      "147/147 [==============================] - 130s 871ms/step - loss: 0.3954 - sparse_categorical_accuracy: 0.8842 - val_loss: 0.3860 - val_sparse_categorical_accuracy: 0.8665\n",
      "Epoch 142/313\n",
      "147/147 [==============================] - 134s 899ms/step - loss: 0.3260 - sparse_categorical_accuracy: 0.9005 - val_loss: 0.3930 - val_sparse_categorical_accuracy: 0.8692\n",
      "Epoch 143/313\n",
      "147/147 [==============================] - 137s 920ms/step - loss: 0.3399 - sparse_categorical_accuracy: 0.8903 - val_loss: 0.3772 - val_sparse_categorical_accuracy: 0.8747\n",
      "Epoch 144/313\n",
      "147/147 [==============================] - 136s 911ms/step - loss: 0.3148 - sparse_categorical_accuracy: 0.9005 - val_loss: 0.3919 - val_sparse_categorical_accuracy: 0.8856\n",
      "Epoch 145/313\n",
      "147/147 [==============================] - 131s 875ms/step - loss: 0.3316 - sparse_categorical_accuracy: 0.9087 - val_loss: 0.3789 - val_sparse_categorical_accuracy: 0.8747\n",
      "Epoch 146/313\n",
      "147/147 [==============================] - 135s 907ms/step - loss: 0.2972 - sparse_categorical_accuracy: 0.9094 - val_loss: 0.3849 - val_sparse_categorical_accuracy: 0.8692\n",
      "Epoch 147/313\n",
      "147/147 [==============================] - 129s 868ms/step - loss: 0.3454 - sparse_categorical_accuracy: 0.8958 - val_loss: 0.3938 - val_sparse_categorical_accuracy: 0.8719\n",
      "Epoch 148/313\n",
      "147/147 [==============================] - 131s 881ms/step - loss: 0.3423 - sparse_categorical_accuracy: 0.9053 - val_loss: 0.3797 - val_sparse_categorical_accuracy: 0.8747\n",
      "Epoch 149/313\n",
      "147/147 [==============================] - 128s 860ms/step - loss: 0.2776 - sparse_categorical_accuracy: 0.9162 - val_loss: 0.3804 - val_sparse_categorical_accuracy: 0.8719\n",
      "Epoch 150/313\n",
      "147/147 [==============================] - 145s 967ms/step - loss: 0.3685 - sparse_categorical_accuracy: 0.8985 - val_loss: 0.3761 - val_sparse_categorical_accuracy: 0.8828\n",
      "Epoch 151/313\n",
      "147/147 [==============================] - 124s 833ms/step - loss: 0.2730 - sparse_categorical_accuracy: 0.9108 - val_loss: 0.3748 - val_sparse_categorical_accuracy: 0.8801\n",
      "Epoch 152/313\n",
      "147/147 [==============================] - 128s 851ms/step - loss: 0.3217 - sparse_categorical_accuracy: 0.8999 - val_loss: 0.3790 - val_sparse_categorical_accuracy: 0.8828\n",
      "Epoch 153/313\n",
      "147/147 [==============================] - 131s 885ms/step - loss: 0.2693 - sparse_categorical_accuracy: 0.9128 - val_loss: 0.3840 - val_sparse_categorical_accuracy: 0.8856\n",
      "Epoch 154/313\n",
      "147/147 [==============================] - 138s 919ms/step - loss: 0.3113 - sparse_categorical_accuracy: 0.9019 - val_loss: 0.3635 - val_sparse_categorical_accuracy: 0.8828\n",
      "Epoch 155/313\n",
      "147/147 [==============================] - 133s 893ms/step - loss: 0.2792 - sparse_categorical_accuracy: 0.9121 - val_loss: 0.3690 - val_sparse_categorical_accuracy: 0.8774\n",
      "Epoch 156/313\n",
      "147/147 [==============================] - 134s 904ms/step - loss: 0.3164 - sparse_categorical_accuracy: 0.9046 - val_loss: 0.3721 - val_sparse_categorical_accuracy: 0.8828\n",
      "Epoch 157/313\n",
      "147/147 [==============================] - 154s 1s/step - loss: 0.2969 - sparse_categorical_accuracy: 0.9108 - val_loss: 0.3670 - val_sparse_categorical_accuracy: 0.8801\n",
      "Epoch 158/313\n",
      "147/147 [==============================] - 156s 1s/step - loss: 0.2607 - sparse_categorical_accuracy: 0.9210 - val_loss: 0.3783 - val_sparse_categorical_accuracy: 0.8719\n",
      "Epoch 159/313\n",
      "147/147 [==============================] - 154s 1s/step - loss: 0.2851 - sparse_categorical_accuracy: 0.9046 - val_loss: 0.3700 - val_sparse_categorical_accuracy: 0.8774\n",
      "Epoch 160/313\n",
      "147/147 [==============================] - 153s 1s/step - loss: 0.2797 - sparse_categorical_accuracy: 0.9149 - val_loss: 0.3790 - val_sparse_categorical_accuracy: 0.8828\n",
      "Epoch 161/313\n",
      "147/147 [==============================] - 159s 1s/step - loss: 0.2779 - sparse_categorical_accuracy: 0.9108 - val_loss: 0.3594 - val_sparse_categorical_accuracy: 0.8828\n",
      "Epoch 162/313\n",
      "147/147 [==============================] - 156s 1s/step - loss: 0.2413 - sparse_categorical_accuracy: 0.9292 - val_loss: 0.3657 - val_sparse_categorical_accuracy: 0.8774\n",
      "Epoch 163/313\n",
      "147/147 [==============================] - 153s 1s/step - loss: 0.2506 - sparse_categorical_accuracy: 0.9278 - val_loss: 0.3551 - val_sparse_categorical_accuracy: 0.8828\n",
      "Epoch 164/313\n",
      "147/147 [==============================] - 158s 1s/step - loss: 0.3024 - sparse_categorical_accuracy: 0.9067 - val_loss: 0.3564 - val_sparse_categorical_accuracy: 0.8828\n",
      "Epoch 165/313\n",
      "147/147 [==============================] - 158s 1s/step - loss: 0.2518 - sparse_categorical_accuracy: 0.9176 - val_loss: 0.3633 - val_sparse_categorical_accuracy: 0.8856\n",
      "Epoch 166/313\n",
      "147/147 [==============================] - 157s 1s/step - loss: 0.2762 - sparse_categorical_accuracy: 0.9169 - val_loss: 0.3537 - val_sparse_categorical_accuracy: 0.8856\n",
      "Epoch 167/313\n",
      "147/147 [==============================] - 153s 1s/step - loss: 0.2801 - sparse_categorical_accuracy: 0.9033 - val_loss: 0.3499 - val_sparse_categorical_accuracy: 0.8774\n",
      "Epoch 168/313\n",
      "147/147 [==============================] - 151s 1s/step - loss: 0.3244 - sparse_categorical_accuracy: 0.9067 - val_loss: 0.3618 - val_sparse_categorical_accuracy: 0.8692\n",
      "Epoch 169/313\n",
      "147/147 [==============================] - 153s 1s/step - loss: 0.2639 - sparse_categorical_accuracy: 0.9176 - val_loss: 0.3588 - val_sparse_categorical_accuracy: 0.8747\n",
      "Epoch 170/313\n",
      "147/147 [==============================] - 158s 1s/step - loss: 0.2115 - sparse_categorical_accuracy: 0.9339 - val_loss: 0.3536 - val_sparse_categorical_accuracy: 0.8719\n",
      "Epoch 171/313\n",
      "147/147 [==============================] - 157s 1s/step - loss: 0.2996 - sparse_categorical_accuracy: 0.9026 - val_loss: 0.3458 - val_sparse_categorical_accuracy: 0.8801\n",
      "Epoch 172/313\n",
      "147/147 [==============================] - 148s 997ms/step - loss: 0.2827 - sparse_categorical_accuracy: 0.9080 - val_loss: 0.3572 - val_sparse_categorical_accuracy: 0.8747\n",
      "Epoch 173/313\n",
      "147/147 [==============================] - 156s 1s/step - loss: 0.2799 - sparse_categorical_accuracy: 0.9149 - val_loss: 0.3552 - val_sparse_categorical_accuracy: 0.8801\n",
      "Epoch 174/313\n",
      "147/147 [==============================] - 153s 1s/step - loss: 0.2544 - sparse_categorical_accuracy: 0.9278 - val_loss: 0.3536 - val_sparse_categorical_accuracy: 0.8774\n",
      "Epoch 175/313\n",
      "147/147 [==============================] - 152s 1s/step - loss: 0.2690 - sparse_categorical_accuracy: 0.9169 - val_loss: 0.3399 - val_sparse_categorical_accuracy: 0.8801\n",
      "Epoch 176/313\n",
      "147/147 [==============================] - 157s 1s/step - loss: 0.2600 - sparse_categorical_accuracy: 0.9189 - val_loss: 0.3389 - val_sparse_categorical_accuracy: 0.8774\n",
      "Epoch 177/313\n",
      "147/147 [==============================] - 166s 1s/step - loss: 0.2653 - sparse_categorical_accuracy: 0.9285 - val_loss: 0.3395 - val_sparse_categorical_accuracy: 0.8910\n",
      "Epoch 178/313\n",
      "147/147 [==============================] - 163s 1s/step - loss: 0.2217 - sparse_categorical_accuracy: 0.9237 - val_loss: 0.3341 - val_sparse_categorical_accuracy: 0.8801\n",
      "Epoch 179/313\n",
      "147/147 [==============================] - 167s 1s/step - loss: 0.2534 - sparse_categorical_accuracy: 0.9326 - val_loss: 0.3133 - val_sparse_categorical_accuracy: 0.8828\n",
      "Epoch 180/313\n",
      "147/147 [==============================] - 158s 1s/step - loss: 0.2463 - sparse_categorical_accuracy: 0.9237 - val_loss: 0.3200 - val_sparse_categorical_accuracy: 0.8883\n",
      "Epoch 181/313\n",
      "147/147 [==============================] - 148s 1s/step - loss: 0.2682 - sparse_categorical_accuracy: 0.9128 - val_loss: 0.3355 - val_sparse_categorical_accuracy: 0.8828\n",
      "Epoch 182/313\n",
      "147/147 [==============================] - 153s 1s/step - loss: 0.2852 - sparse_categorical_accuracy: 0.9108 - val_loss: 0.3329 - val_sparse_categorical_accuracy: 0.8801\n",
      "Epoch 183/313\n",
      "147/147 [==============================] - 155s 1s/step - loss: 0.2622 - sparse_categorical_accuracy: 0.9183 - val_loss: 0.3242 - val_sparse_categorical_accuracy: 0.8856\n",
      "Epoch 184/313\n",
      "147/147 [==============================] - 156s 1s/step - loss: 0.2605 - sparse_categorical_accuracy: 0.9196 - val_loss: 0.3188 - val_sparse_categorical_accuracy: 0.8883\n",
      "Epoch 185/313\n",
      "147/147 [==============================] - 154s 1s/step - loss: 0.2308 - sparse_categorical_accuracy: 0.9251 - val_loss: 0.3343 - val_sparse_categorical_accuracy: 0.8774\n",
      "Epoch 186/313\n",
      "147/147 [==============================] - 156s 1s/step - loss: 0.2618 - sparse_categorical_accuracy: 0.9108 - val_loss: 0.3221 - val_sparse_categorical_accuracy: 0.8828\n",
      "Epoch 187/313\n",
      "147/147 [==============================] - 155s 1s/step - loss: 0.2300 - sparse_categorical_accuracy: 0.9298 - val_loss: 0.3227 - val_sparse_categorical_accuracy: 0.8856\n",
      "Epoch 188/313\n",
      "147/147 [==============================] - 152s 1s/step - loss: 0.2636 - sparse_categorical_accuracy: 0.9128 - val_loss: 0.3292 - val_sparse_categorical_accuracy: 0.8801\n",
      "Epoch 189/313\n",
      "147/147 [==============================] - 154s 1s/step - loss: 0.2214 - sparse_categorical_accuracy: 0.9271 - val_loss: 0.3360 - val_sparse_categorical_accuracy: 0.8856\n",
      "Epoch 190/313\n",
      "147/147 [==============================] - 155s 1s/step - loss: 0.2367 - sparse_categorical_accuracy: 0.9203 - val_loss: 0.3192 - val_sparse_categorical_accuracy: 0.8883\n",
      "Epoch 191/313\n",
      "147/147 [==============================] - 153s 1s/step - loss: 0.2314 - sparse_categorical_accuracy: 0.9271 - val_loss: 0.3122 - val_sparse_categorical_accuracy: 0.8883\n",
      "Epoch 192/313\n",
      "147/147 [==============================] - 160s 1s/step - loss: 0.2169 - sparse_categorical_accuracy: 0.9353 - val_loss: 0.3165 - val_sparse_categorical_accuracy: 0.8801\n",
      "Epoch 193/313\n",
      "147/147 [==============================] - 152s 1s/step - loss: 0.2079 - sparse_categorical_accuracy: 0.9346 - val_loss: 0.3145 - val_sparse_categorical_accuracy: 0.8856\n",
      "Epoch 194/313\n",
      "147/147 [==============================] - 155s 1s/step - loss: 0.2472 - sparse_categorical_accuracy: 0.9257 - val_loss: 0.3249 - val_sparse_categorical_accuracy: 0.8856\n",
      "Epoch 195/313\n",
      "147/147 [==============================] - 156s 1s/step - loss: 0.2294 - sparse_categorical_accuracy: 0.9298 - val_loss: 0.3202 - val_sparse_categorical_accuracy: 0.8828\n",
      "Epoch 196/313\n",
      "147/147 [==============================] - 151s 1s/step - loss: 0.2296 - sparse_categorical_accuracy: 0.9305 - val_loss: 0.3115 - val_sparse_categorical_accuracy: 0.8774\n",
      "Epoch 197/313\n",
      "147/147 [==============================] - 155s 1s/step - loss: 0.2239 - sparse_categorical_accuracy: 0.9319 - val_loss: 0.3166 - val_sparse_categorical_accuracy: 0.8774\n",
      "Epoch 198/313\n",
      "147/147 [==============================] - 160s 1s/step - loss: 0.1942 - sparse_categorical_accuracy: 0.9346 - val_loss: 0.3156 - val_sparse_categorical_accuracy: 0.8856\n",
      "Epoch 199/313\n",
      "147/147 [==============================] - 147s 991ms/step - loss: 0.2191 - sparse_categorical_accuracy: 0.9346 - val_loss: 0.3192 - val_sparse_categorical_accuracy: 0.8828\n",
      "Epoch 200/313\n",
      "147/147 [==============================] - 156s 1s/step - loss: 0.2315 - sparse_categorical_accuracy: 0.9278 - val_loss: 0.3163 - val_sparse_categorical_accuracy: 0.8801\n",
      "Epoch 201/313\n",
      "147/147 [==============================] - 151s 1s/step - loss: 0.1996 - sparse_categorical_accuracy: 0.9360 - val_loss: 0.3322 - val_sparse_categorical_accuracy: 0.8828\n",
      "Epoch 202/313\n",
      "147/147 [==============================] - 155s 1s/step - loss: 0.2237 - sparse_categorical_accuracy: 0.9366 - val_loss: 0.3161 - val_sparse_categorical_accuracy: 0.8801\n",
      "Epoch 203/313\n",
      "147/147 [==============================] - 155s 1s/step - loss: 0.2121 - sparse_categorical_accuracy: 0.9319 - val_loss: 0.3107 - val_sparse_categorical_accuracy: 0.8828\n",
      "Epoch 204/313\n",
      "147/147 [==============================] - 154s 1s/step - loss: 0.2063 - sparse_categorical_accuracy: 0.9326 - val_loss: 0.3182 - val_sparse_categorical_accuracy: 0.8856\n",
      "Epoch 205/313\n",
      "147/147 [==============================] - 156s 1s/step - loss: 0.1916 - sparse_categorical_accuracy: 0.9387 - val_loss: 0.3129 - val_sparse_categorical_accuracy: 0.8774\n",
      "Epoch 206/313\n",
      "147/147 [==============================] - 154s 1s/step - loss: 0.2150 - sparse_categorical_accuracy: 0.9292 - val_loss: 0.3095 - val_sparse_categorical_accuracy: 0.8910\n",
      "Epoch 207/313\n",
      "147/147 [==============================] - 162s 1s/step - loss: 0.1896 - sparse_categorical_accuracy: 0.9346 - val_loss: 0.3077 - val_sparse_categorical_accuracy: 0.8883\n",
      "Epoch 208/313\n",
      "147/147 [==============================] - 154s 1s/step - loss: 0.1998 - sparse_categorical_accuracy: 0.9366 - val_loss: 0.3090 - val_sparse_categorical_accuracy: 0.8910\n",
      "Epoch 209/313\n",
      "147/147 [==============================] - 153s 1s/step - loss: 0.1968 - sparse_categorical_accuracy: 0.9407 - val_loss: 0.3133 - val_sparse_categorical_accuracy: 0.8801\n",
      "Epoch 210/313\n",
      "147/147 [==============================] - 153s 1s/step - loss: 0.1852 - sparse_categorical_accuracy: 0.9380 - val_loss: 0.3137 - val_sparse_categorical_accuracy: 0.8828\n",
      "Epoch 211/313\n",
      "147/147 [==============================] - 156s 1s/step - loss: 0.2158 - sparse_categorical_accuracy: 0.9346 - val_loss: 0.3242 - val_sparse_categorical_accuracy: 0.8801\n",
      "Epoch 212/313\n",
      "147/147 [==============================] - 158s 1s/step - loss: 0.1832 - sparse_categorical_accuracy: 0.9387 - val_loss: 0.3078 - val_sparse_categorical_accuracy: 0.8883\n",
      "Epoch 213/313\n",
      "147/147 [==============================] - 152s 1s/step - loss: 0.1648 - sparse_categorical_accuracy: 0.9489 - val_loss: 0.3114 - val_sparse_categorical_accuracy: 0.8828\n",
      "Epoch 214/313\n",
      "147/147 [==============================] - 153s 1s/step - loss: 0.1770 - sparse_categorical_accuracy: 0.9462 - val_loss: 0.3120 - val_sparse_categorical_accuracy: 0.8910\n",
      "Epoch 215/313\n",
      "147/147 [==============================] - 153s 1s/step - loss: 0.1659 - sparse_categorical_accuracy: 0.9482 - val_loss: 0.3185 - val_sparse_categorical_accuracy: 0.8965\n",
      "Epoch 216/313\n",
      "147/147 [==============================] - 146s 980ms/step - loss: 0.2026 - sparse_categorical_accuracy: 0.9360 - val_loss: 0.3179 - val_sparse_categorical_accuracy: 0.8801\n",
      "Epoch 217/313\n",
      "147/147 [==============================] - 96s 640ms/step - loss: 0.1945 - sparse_categorical_accuracy: 0.9339 - val_loss: 0.3268 - val_sparse_categorical_accuracy: 0.8856\n",
      "Epoch 218/313\n",
      "147/147 [==============================] - 139s 933ms/step - loss: 0.2211 - sparse_categorical_accuracy: 0.9353 - val_loss: 0.3285 - val_sparse_categorical_accuracy: 0.8883\n",
      "Epoch 219/313\n",
      "147/147 [==============================] - 156s 1s/step - loss: 0.1988 - sparse_categorical_accuracy: 0.9421 - val_loss: 0.3301 - val_sparse_categorical_accuracy: 0.8801\n",
      "Epoch 220/313\n",
      "147/147 [==============================] - 157s 1s/step - loss: 0.1627 - sparse_categorical_accuracy: 0.9435 - val_loss: 0.3187 - val_sparse_categorical_accuracy: 0.8883\n",
      "Epoch 221/313\n",
      "147/147 [==============================] - 160s 1s/step - loss: 0.1603 - sparse_categorical_accuracy: 0.9462 - val_loss: 0.3307 - val_sparse_categorical_accuracy: 0.8828\n",
      "Epoch 222/313\n",
      "147/147 [==============================] - 148s 995ms/step - loss: 0.1821 - sparse_categorical_accuracy: 0.9455 - val_loss: 0.3335 - val_sparse_categorical_accuracy: 0.8801\n",
      "Epoch 223/313\n",
      "147/147 [==============================] - 158s 1s/step - loss: 0.1779 - sparse_categorical_accuracy: 0.9482 - val_loss: 0.3211 - val_sparse_categorical_accuracy: 0.8801\n",
      "Epoch 224/313\n",
      "147/147 [==============================] - 151s 1s/step - loss: 0.1881 - sparse_categorical_accuracy: 0.9346 - val_loss: 0.3259 - val_sparse_categorical_accuracy: 0.8856\n",
      "Epoch 225/313\n",
      "147/147 [==============================] - 159s 1s/step - loss: 0.1700 - sparse_categorical_accuracy: 0.9373 - val_loss: 0.3149 - val_sparse_categorical_accuracy: 0.8856\n",
      "Epoch 226/313\n",
      "147/147 [==============================] - 151s 1s/step - loss: 0.1634 - sparse_categorical_accuracy: 0.9448 - val_loss: 0.3247 - val_sparse_categorical_accuracy: 0.8828\n",
      "Epoch 227/313\n",
      "147/147 [==============================] - 150s 1s/step - loss: 0.1967 - sparse_categorical_accuracy: 0.9394 - val_loss: 0.3308 - val_sparse_categorical_accuracy: 0.8801\n",
      "Epoch 228/313\n",
      "147/147 [==============================] - 156s 1s/step - loss: 0.1660 - sparse_categorical_accuracy: 0.9401 - val_loss: 0.3114 - val_sparse_categorical_accuracy: 0.8910\n",
      "Epoch 229/313\n",
      "147/147 [==============================] - 154s 1s/step - loss: 0.1329 - sparse_categorical_accuracy: 0.9530 - val_loss: 0.3169 - val_sparse_categorical_accuracy: 0.8937\n",
      "Epoch 230/313\n",
      "147/147 [==============================] - 157s 1s/step - loss: 0.1563 - sparse_categorical_accuracy: 0.9441 - val_loss: 0.3094 - val_sparse_categorical_accuracy: 0.8883\n",
      "Epoch 231/313\n",
      "147/147 [==============================] - 161s 1s/step - loss: 0.1844 - sparse_categorical_accuracy: 0.9401 - val_loss: 0.3187 - val_sparse_categorical_accuracy: 0.8801\n",
      "Epoch 232/313\n",
      "147/147 [==============================] - 153s 1s/step - loss: 0.1799 - sparse_categorical_accuracy: 0.9475 - val_loss: 0.3252 - val_sparse_categorical_accuracy: 0.8856\n",
      "Epoch 233/313\n",
      "147/147 [==============================] - 157s 1s/step - loss: 0.1714 - sparse_categorical_accuracy: 0.9469 - val_loss: 0.3233 - val_sparse_categorical_accuracy: 0.8856\n",
      "Epoch 234/313\n",
      "147/147 [==============================] - 144s 972ms/step - loss: 0.1677 - sparse_categorical_accuracy: 0.9394 - val_loss: 0.3142 - val_sparse_categorical_accuracy: 0.8883\n",
      "Epoch 235/313\n",
      "147/147 [==============================] - 146s 982ms/step - loss: 0.1600 - sparse_categorical_accuracy: 0.9482 - val_loss: 0.3256 - val_sparse_categorical_accuracy: 0.8910\n",
      "Epoch 236/313\n",
      "147/147 [==============================] - 145s 975ms/step - loss: 0.1417 - sparse_categorical_accuracy: 0.9550 - val_loss: 0.3284 - val_sparse_categorical_accuracy: 0.8828\n",
      "Epoch 237/313\n",
      "147/147 [==============================] - 143s 964ms/step - loss: 0.1746 - sparse_categorical_accuracy: 0.9462 - val_loss: 0.3128 - val_sparse_categorical_accuracy: 0.9019\n",
      "Epoch 238/313\n",
      "147/147 [==============================] - 145s 972ms/step - loss: 0.1574 - sparse_categorical_accuracy: 0.9475 - val_loss: 0.3352 - val_sparse_categorical_accuracy: 0.8774\n",
      "Epoch 239/313\n",
      "147/147 [==============================] - 146s 982ms/step - loss: 0.1710 - sparse_categorical_accuracy: 0.9475 - val_loss: 0.3092 - val_sparse_categorical_accuracy: 0.8937\n",
      "Epoch 240/313\n",
      "147/147 [==============================] - 145s 979ms/step - loss: 0.1510 - sparse_categorical_accuracy: 0.9482 - val_loss: 0.3214 - val_sparse_categorical_accuracy: 0.8828\n",
      "Epoch 241/313\n",
      "147/147 [==============================] - 147s 994ms/step - loss: 0.1644 - sparse_categorical_accuracy: 0.9441 - val_loss: 0.3123 - val_sparse_categorical_accuracy: 0.8856\n",
      "Epoch 242/313\n",
      "147/147 [==============================] - 140s 941ms/step - loss: 0.1432 - sparse_categorical_accuracy: 0.9510 - val_loss: 0.3264 - val_sparse_categorical_accuracy: 0.8910\n",
      "Epoch 243/313\n",
      "147/147 [==============================] - 143s 958ms/step - loss: 0.1187 - sparse_categorical_accuracy: 0.9550 - val_loss: 0.3189 - val_sparse_categorical_accuracy: 0.8856\n",
      "Epoch 244/313\n",
      "147/147 [==============================] - 148s 995ms/step - loss: 0.1185 - sparse_categorical_accuracy: 0.9557 - val_loss: 0.3119 - val_sparse_categorical_accuracy: 0.8937\n",
      "Epoch 245/313\n",
      "147/147 [==============================] - 152s 1s/step - loss: 0.1239 - sparse_categorical_accuracy: 0.9612 - val_loss: 0.3219 - val_sparse_categorical_accuracy: 0.8992\n",
      "Epoch 246/313\n",
      "147/147 [==============================] - 158s 1s/step - loss: 0.1240 - sparse_categorical_accuracy: 0.9571 - val_loss: 0.3161 - val_sparse_categorical_accuracy: 0.9046\n",
      "Epoch 247/313\n",
      "147/147 [==============================] - 155s 1s/step - loss: 0.1271 - sparse_categorical_accuracy: 0.9544 - val_loss: 0.3072 - val_sparse_categorical_accuracy: 0.9046\n",
      "Epoch 248/313\n",
      "147/147 [==============================] - 151s 1s/step - loss: 0.1536 - sparse_categorical_accuracy: 0.9455 - val_loss: 0.3115 - val_sparse_categorical_accuracy: 0.9019\n",
      "Epoch 249/313\n",
      "147/147 [==============================] - 157s 1s/step - loss: 0.1565 - sparse_categorical_accuracy: 0.9489 - val_loss: 0.3210 - val_sparse_categorical_accuracy: 0.9074\n",
      "Epoch 250/313\n",
      "147/147 [==============================] - 162s 1s/step - loss: 0.1508 - sparse_categorical_accuracy: 0.9598 - val_loss: 0.3186 - val_sparse_categorical_accuracy: 0.9019\n",
      "Epoch 251/313\n",
      "147/147 [==============================] - 156s 1s/step - loss: 0.1331 - sparse_categorical_accuracy: 0.9523 - val_loss: 0.3079 - val_sparse_categorical_accuracy: 0.9046\n",
      "Epoch 252/313\n",
      "147/147 [==============================] - 158s 1s/step - loss: 0.1392 - sparse_categorical_accuracy: 0.9564 - val_loss: 0.3061 - val_sparse_categorical_accuracy: 0.9046\n",
      "Epoch 253/313\n",
      "147/147 [==============================] - 155s 1s/step - loss: 0.1043 - sparse_categorical_accuracy: 0.9598 - val_loss: 0.3116 - val_sparse_categorical_accuracy: 0.9074\n",
      "Epoch 254/313\n",
      "147/147 [==============================] - 156s 1s/step - loss: 0.1383 - sparse_categorical_accuracy: 0.9530 - val_loss: 0.3165 - val_sparse_categorical_accuracy: 0.9019\n",
      "Epoch 255/313\n",
      "147/147 [==============================] - 158s 1s/step - loss: 0.1407 - sparse_categorical_accuracy: 0.9578 - val_loss: 0.3073 - val_sparse_categorical_accuracy: 0.9019\n",
      "Epoch 256/313\n",
      "147/147 [==============================] - 153s 1s/step - loss: 0.1302 - sparse_categorical_accuracy: 0.9537 - val_loss: 0.2954 - val_sparse_categorical_accuracy: 0.9074\n",
      "Epoch 257/313\n",
      "147/147 [==============================] - 162s 1s/step - loss: 0.1362 - sparse_categorical_accuracy: 0.9557 - val_loss: 0.3052 - val_sparse_categorical_accuracy: 0.9128\n",
      "Epoch 258/313\n",
      "147/147 [==============================] - 152s 1s/step - loss: 0.1347 - sparse_categorical_accuracy: 0.9578 - val_loss: 0.2990 - val_sparse_categorical_accuracy: 0.9155\n",
      "Epoch 259/313\n",
      "147/147 [==============================] - 154s 1s/step - loss: 0.1159 - sparse_categorical_accuracy: 0.9625 - val_loss: 0.3042 - val_sparse_categorical_accuracy: 0.9155\n",
      "Epoch 260/313\n",
      "147/147 [==============================] - 175s 1s/step - loss: 0.1406 - sparse_categorical_accuracy: 0.9482 - val_loss: 0.3093 - val_sparse_categorical_accuracy: 0.9128\n",
      "Epoch 261/313\n",
      "147/147 [==============================] - 180s 1s/step - loss: 0.1371 - sparse_categorical_accuracy: 0.9564 - val_loss: 0.3031 - val_sparse_categorical_accuracy: 0.9074\n",
      "Epoch 262/313\n",
      " 67/147 [============>.................] - ETA: 1:30 - loss: 0.1251 - sparse_categorical_accuracy: 0.9597"
     ]
    },
    {
     "ename": "KeyboardInterrupt",
     "evalue": "",
     "output_type": "error",
     "traceback": [
      "\u001b[0;31m---------------------------------------------------------------------------\u001b[0m",
      "\u001b[0;31mKeyboardInterrupt\u001b[0m                         Traceback (most recent call last)",
      "\u001b[0;32m<ipython-input-49-1741d12cc974>\u001b[0m in \u001b[0;36m<module>\u001b[0;34m\u001b[0m\n\u001b[1;32m      4\u001b[0m                     \u001b[0mvalidation_data\u001b[0m\u001b[0;34m=\u001b[0m\u001b[0mvalidation\u001b[0m\u001b[0;34m,\u001b[0m\u001b[0;34m\u001b[0m\u001b[0;34m\u001b[0m\u001b[0m\n\u001b[1;32m      5\u001b[0m       \u001b[0;31m#              validation_steps=nb_validation_samples // batch_size,\u001b[0m\u001b[0;34m\u001b[0m\u001b[0;34m\u001b[0m\u001b[0;34m\u001b[0m\u001b[0m\n\u001b[0;32m----> 6\u001b[0;31m                     epochs=313,verbose=1)\n\u001b[0m",
      "\u001b[0;32m/usr/local/lib/python3.6/dist-packages/keras/engine/training.py\u001b[0m in \u001b[0;36mfit_generator\u001b[0;34m(self, generator, steps_per_epoch, epochs, verbose, callbacks, validation_data, validation_steps, validation_freq, class_weight, max_queue_size, workers, use_multiprocessing, shuffle, initial_epoch)\u001b[0m\n\u001b[1;32m   1987\u001b[0m         \u001b[0muse_multiprocessing\u001b[0m\u001b[0;34m=\u001b[0m\u001b[0muse_multiprocessing\u001b[0m\u001b[0;34m,\u001b[0m\u001b[0;34m\u001b[0m\u001b[0;34m\u001b[0m\u001b[0m\n\u001b[1;32m   1988\u001b[0m         \u001b[0mshuffle\u001b[0m\u001b[0;34m=\u001b[0m\u001b[0mshuffle\u001b[0m\u001b[0;34m,\u001b[0m\u001b[0;34m\u001b[0m\u001b[0;34m\u001b[0m\u001b[0m\n\u001b[0;32m-> 1989\u001b[0;31m         initial_epoch=initial_epoch)\n\u001b[0m\u001b[1;32m   1990\u001b[0m \u001b[0;34m\u001b[0m\u001b[0m\n\u001b[1;32m   1991\u001b[0m   \u001b[0;34m@\u001b[0m\u001b[0mdoc_controls\u001b[0m\u001b[0;34m.\u001b[0m\u001b[0mdo_not_generate_docs\u001b[0m\u001b[0;34m\u001b[0m\u001b[0;34m\u001b[0m\u001b[0m\n",
      "\u001b[0;32m/usr/local/lib/python3.6/dist-packages/keras/engine/training.py\u001b[0m in \u001b[0;36mfit\u001b[0;34m(self, x, y, batch_size, epochs, verbose, callbacks, validation_split, validation_data, shuffle, class_weight, sample_weight, initial_epoch, steps_per_epoch, validation_steps, validation_batch_size, validation_freq, max_queue_size, workers, use_multiprocessing)\u001b[0m\n\u001b[1;32m   1182\u001b[0m                 _r=1):\n\u001b[1;32m   1183\u001b[0m               \u001b[0mcallbacks\u001b[0m\u001b[0;34m.\u001b[0m\u001b[0mon_train_batch_begin\u001b[0m\u001b[0;34m(\u001b[0m\u001b[0mstep\u001b[0m\u001b[0;34m)\u001b[0m\u001b[0;34m\u001b[0m\u001b[0;34m\u001b[0m\u001b[0m\n\u001b[0;32m-> 1184\u001b[0;31m               \u001b[0mtmp_logs\u001b[0m \u001b[0;34m=\u001b[0m \u001b[0mself\u001b[0m\u001b[0;34m.\u001b[0m\u001b[0mtrain_function\u001b[0m\u001b[0;34m(\u001b[0m\u001b[0miterator\u001b[0m\u001b[0;34m)\u001b[0m\u001b[0;34m\u001b[0m\u001b[0;34m\u001b[0m\u001b[0m\n\u001b[0m\u001b[1;32m   1185\u001b[0m               \u001b[0;32mif\u001b[0m \u001b[0mdata_handler\u001b[0m\u001b[0;34m.\u001b[0m\u001b[0mshould_sync\u001b[0m\u001b[0;34m:\u001b[0m\u001b[0;34m\u001b[0m\u001b[0;34m\u001b[0m\u001b[0m\n\u001b[1;32m   1186\u001b[0m                 \u001b[0mcontext\u001b[0m\u001b[0;34m.\u001b[0m\u001b[0masync_wait\u001b[0m\u001b[0;34m(\u001b[0m\u001b[0;34m)\u001b[0m\u001b[0;34m\u001b[0m\u001b[0;34m\u001b[0m\u001b[0m\n",
      "\u001b[0;32m~/.local/lib/python3.6/site-packages/tensorflow/python/eager/def_function.py\u001b[0m in \u001b[0;36m__call__\u001b[0;34m(self, *args, **kwds)\u001b[0m\n\u001b[1;32m    883\u001b[0m   \u001b[0;32mdef\u001b[0m \u001b[0mget_concrete_function\u001b[0m\u001b[0;34m(\u001b[0m\u001b[0mself\u001b[0m\u001b[0;34m,\u001b[0m \u001b[0;34m*\u001b[0m\u001b[0margs\u001b[0m\u001b[0;34m,\u001b[0m \u001b[0;34m**\u001b[0m\u001b[0mkwargs\u001b[0m\u001b[0;34m)\u001b[0m\u001b[0;34m:\u001b[0m\u001b[0;34m\u001b[0m\u001b[0;34m\u001b[0m\u001b[0m\n\u001b[1;32m    884\u001b[0m     \"\"\"Returns a `ConcreteFunction` specialized to inputs and execution context.\n\u001b[0;32m--> 885\u001b[0;31m \u001b[0;34m\u001b[0m\u001b[0m\n\u001b[0m\u001b[1;32m    886\u001b[0m     \u001b[0mIf\u001b[0m \u001b[0mthis\u001b[0m\u001b[0;31m \u001b[0m\u001b[0;31m`\u001b[0m\u001b[0mFunction\u001b[0m\u001b[0;31m`\u001b[0m \u001b[0mwas\u001b[0m \u001b[0mcreated\u001b[0m \u001b[0;32mwith\u001b[0m \u001b[0man\u001b[0m\u001b[0;31m \u001b[0m\u001b[0;31m`\u001b[0m\u001b[0minput_signature\u001b[0m\u001b[0;31m`\u001b[0m\u001b[0;34m,\u001b[0m\u001b[0;31m \u001b[0m\u001b[0;31m`\u001b[0m\u001b[0margs\u001b[0m\u001b[0;31m`\u001b[0m \u001b[0;32mand\u001b[0m\u001b[0;34m\u001b[0m\u001b[0;34m\u001b[0m\u001b[0m\n\u001b[1;32m    887\u001b[0m     \u001b[0;31m`\u001b[0m\u001b[0mkwargs\u001b[0m\u001b[0;31m`\u001b[0m \u001b[0mmay\u001b[0m \u001b[0mbe\u001b[0m \u001b[0momitted\u001b[0m\u001b[0;34m.\u001b[0m \u001b[0mWith\u001b[0m \u001b[0man\u001b[0m \u001b[0minput\u001b[0m \u001b[0msignature\u001b[0m \u001b[0mthere\u001b[0m \u001b[0;32mis\u001b[0m \u001b[0monly\u001b[0m \u001b[0mone\u001b[0m\u001b[0;34m\u001b[0m\u001b[0;34m\u001b[0m\u001b[0m\n",
      "\u001b[0;32m~/.local/lib/python3.6/site-packages/tensorflow/python/eager/def_function.py\u001b[0m in \u001b[0;36m_call\u001b[0;34m(self, *args, **kwds)\u001b[0m\n\u001b[1;32m    915\u001b[0m \u001b[0;34m\u001b[0m\u001b[0m\n\u001b[1;32m    916\u001b[0m     \u001b[0mNested\u001b[0m \u001b[0mstructures\u001b[0m \u001b[0mcontaining\u001b[0m \u001b[0mTensors\u001b[0m \u001b[0mmay\u001b[0m \u001b[0mbe\u001b[0m \u001b[0mspecified\u001b[0m \u001b[0mwhen\u001b[0m \u001b[0mretrieving\u001b[0m\u001b[0;34m\u001b[0m\u001b[0;34m\u001b[0m\u001b[0m\n\u001b[0;32m--> 917\u001b[0;31m     \u001b[0mconcrete\u001b[0m \u001b[0mfunctions\u001b[0m\u001b[0;34m.\u001b[0m \u001b[0mStructures\u001b[0m \u001b[0;32mwith\u001b[0m \u001b[0mmultiple\u001b[0m \u001b[0mTensors\u001b[0m \u001b[0mare\u001b[0m \u001b[0mexpanded\u001b[0m \u001b[0minto\u001b[0m\u001b[0;34m\u001b[0m\u001b[0;34m\u001b[0m\u001b[0m\n\u001b[0m\u001b[1;32m    918\u001b[0m     \u001b[0mmultiple\u001b[0m \u001b[0marguments\u001b[0m \u001b[0mof\u001b[0m \u001b[0mthe\u001b[0m \u001b[0mconcrete\u001b[0m \u001b[0mfunction\u001b[0m\u001b[0;34m.\u001b[0m \u001b[0mSince\u001b[0m \u001b[0mmultiple\u001b[0m \u001b[0mconcrete\u001b[0m\u001b[0;34m\u001b[0m\u001b[0;34m\u001b[0m\u001b[0m\n\u001b[1;32m    919\u001b[0m     \u001b[0mfunction\u001b[0m \u001b[0marguments\u001b[0m \u001b[0mare\u001b[0m \u001b[0massociated\u001b[0m \u001b[0;32mwith\u001b[0m \u001b[0mone\u001b[0m \u001b[0margument\u001b[0m \u001b[0mto\u001b[0m \u001b[0mthe\u001b[0m \u001b[0moriginal\u001b[0m\u001b[0;34m\u001b[0m\u001b[0;34m\u001b[0m\u001b[0m\n",
      "\u001b[0;32m~/.local/lib/python3.6/site-packages/tensorflow/python/eager/function.py\u001b[0m in \u001b[0;36m__call__\u001b[0;34m(self, *args, **kwargs)\u001b[0m\n\u001b[1;32m   3038\u001b[0m \u001b[0;34m\u001b[0m\u001b[0m\n\u001b[1;32m   3039\u001b[0m   \u001b[0mW\u001b[0m \u001b[0;34m=\u001b[0m \u001b[0mtf\u001b[0m\u001b[0;34m.\u001b[0m\u001b[0mrandom\u001b[0m\u001b[0;34m.\u001b[0m\u001b[0mnormal\u001b[0m\u001b[0;34m(\u001b[0m\u001b[0;34m(\u001b[0m\u001b[0;36m3\u001b[0m\u001b[0;34m,\u001b[0m \u001b[0;36m5\u001b[0m\u001b[0;34m)\u001b[0m\u001b[0;34m)\u001b[0m\u001b[0;34m\u001b[0m\u001b[0;34m\u001b[0m\u001b[0m\n\u001b[0;32m-> 3040\u001b[0;31m   \u001b[0mx\u001b[0m \u001b[0;34m=\u001b[0m \u001b[0mtf\u001b[0m\u001b[0;34m.\u001b[0m\u001b[0mrandom\u001b[0m\u001b[0;34m.\u001b[0m\u001b[0mnormal\u001b[0m\u001b[0;34m(\u001b[0m\u001b[0;34m(\u001b[0m\u001b[0;36m5\u001b[0m\u001b[0;34m,\u001b[0m \u001b[0;36m1\u001b[0m\u001b[0;34m)\u001b[0m\u001b[0;34m)\u001b[0m\u001b[0;34m\u001b[0m\u001b[0;34m\u001b[0m\u001b[0m\n\u001b[0m\u001b[1;32m   3041\u001b[0m \u001b[0;34m\u001b[0m\u001b[0m\n\u001b[1;32m   3042\u001b[0m   \u001b[0;31m# Executes a graph that applies dropout.\u001b[0m\u001b[0;34m\u001b[0m\u001b[0;34m\u001b[0m\u001b[0;34m\u001b[0m\u001b[0m\n",
      "\u001b[0;32m~/.local/lib/python3.6/site-packages/tensorflow/python/eager/function.py\u001b[0m in \u001b[0;36m_call_flat\u001b[0;34m(self, args, captured_inputs, cancellation_manager)\u001b[0m\n\u001b[1;32m   1962\u001b[0m     \u001b[0;32mif\u001b[0m \u001b[0mself\u001b[0m\u001b[0;34m.\u001b[0m\u001b[0m_func_graph\u001b[0m\u001b[0;34m.\u001b[0m\u001b[0mstructured_outputs\u001b[0m \u001b[0;32mis\u001b[0m \u001b[0;32mNone\u001b[0m\u001b[0;34m:\u001b[0m\u001b[0;34m\u001b[0m\u001b[0;34m\u001b[0m\u001b[0m\n\u001b[1;32m   1963\u001b[0m       \u001b[0;32mreturn\u001b[0m \u001b[0mresult\u001b[0m\u001b[0;34m\u001b[0m\u001b[0;34m\u001b[0m\u001b[0m\n\u001b[0;32m-> 1964\u001b[0;31m \u001b[0;34m\u001b[0m\u001b[0m\n\u001b[0m\u001b[1;32m   1965\u001b[0m     \u001b[0;31m# Replace outputs with results, skipping over any 'None' values.\u001b[0m\u001b[0;34m\u001b[0m\u001b[0;34m\u001b[0m\u001b[0;34m\u001b[0m\u001b[0m\n\u001b[1;32m   1966\u001b[0m     outputs_list = nest.flatten(self._func_graph.structured_outputs,\n",
      "\u001b[0;32m~/.local/lib/python3.6/site-packages/tensorflow/python/eager/function.py\u001b[0m in \u001b[0;36mcall\u001b[0;34m(self, ctx, args, cancellation_manager)\u001b[0m\n\u001b[1;32m    594\u001b[0m               \u001b[0mstr\u001b[0m\u001b[0;34m(\u001b[0m\u001b[0mself\u001b[0m\u001b[0;34m.\u001b[0m\u001b[0msignature\u001b[0m\u001b[0;34m.\u001b[0m\u001b[0mname\u001b[0m\u001b[0;34m)\u001b[0m\u001b[0;34m,\u001b[0m\u001b[0;34m\u001b[0m\u001b[0;34m\u001b[0m\u001b[0m\n\u001b[1;32m    595\u001b[0m               \u001b[0mnum_outputs\u001b[0m\u001b[0;34m=\u001b[0m\u001b[0mself\u001b[0m\u001b[0;34m.\u001b[0m\u001b[0m_num_outputs\u001b[0m\u001b[0;34m,\u001b[0m\u001b[0;34m\u001b[0m\u001b[0;34m\u001b[0m\u001b[0m\n\u001b[0;32m--> 596\u001b[0;31m               \u001b[0minputs\u001b[0m\u001b[0;34m=\u001b[0m\u001b[0margs\u001b[0m\u001b[0;34m,\u001b[0m\u001b[0;34m\u001b[0m\u001b[0;34m\u001b[0m\u001b[0m\n\u001b[0m\u001b[1;32m    597\u001b[0m               \u001b[0mattrs\u001b[0m\u001b[0;34m=\u001b[0m\u001b[0mattrs\u001b[0m\u001b[0;34m,\u001b[0m\u001b[0;34m\u001b[0m\u001b[0;34m\u001b[0m\u001b[0m\n\u001b[1;32m    598\u001b[0m               ctx=ctx)\n",
      "\u001b[0;32m~/.local/lib/python3.6/site-packages/tensorflow/python/eager/execute.py\u001b[0m in \u001b[0;36mquick_execute\u001b[0;34m(op_name, num_outputs, inputs, attrs, ctx, name)\u001b[0m\n\u001b[1;32m     58\u001b[0m     \u001b[0mctx\u001b[0m\u001b[0;34m.\u001b[0m\u001b[0mensure_initialized\u001b[0m\u001b[0;34m(\u001b[0m\u001b[0;34m)\u001b[0m\u001b[0;34m\u001b[0m\u001b[0;34m\u001b[0m\u001b[0m\n\u001b[1;32m     59\u001b[0m     tensors = pywrap_tfe.TFE_Py_Execute(ctx._handle, device_name, op_name,\n\u001b[0;32m---> 60\u001b[0;31m                                         inputs, attrs, num_outputs)\n\u001b[0m\u001b[1;32m     61\u001b[0m   \u001b[0;32mexcept\u001b[0m \u001b[0mcore\u001b[0m\u001b[0;34m.\u001b[0m\u001b[0m_NotOkStatusException\u001b[0m \u001b[0;32mas\u001b[0m \u001b[0me\u001b[0m\u001b[0;34m:\u001b[0m\u001b[0;34m\u001b[0m\u001b[0;34m\u001b[0m\u001b[0m\n\u001b[1;32m     62\u001b[0m     \u001b[0;32mif\u001b[0m \u001b[0mname\u001b[0m \u001b[0;32mis\u001b[0m \u001b[0;32mnot\u001b[0m \u001b[0;32mNone\u001b[0m\u001b[0;34m:\u001b[0m\u001b[0;34m\u001b[0m\u001b[0;34m\u001b[0m\u001b[0m\n",
      "\u001b[0;31mKeyboardInterrupt\u001b[0m: "
     ]
    }
   ],
   "source": [
    "with tf.device('/device:GPU:2'):\n",
    "    history = model2.fit_generator(train2,\n",
    "      #              steps_per_epoch = nb_train1_samples // batch_size,      \n",
    "                    validation_data=validation,\n",
    "      #              validation_steps=nb_validation_samples // batch_size,  \n",
    "                    epochs=313,verbose=1)"
   ]
  },
  {
   "cell_type": "code",
   "execution_count": 62,
   "id": "a0d5c90c-8f56-406a-b74a-5c864efe87b9",
   "metadata": {
    "executionInfo": {
     "elapsed": 500,
     "status": "ok",
     "timestamp": 1670500351235,
     "user": {
      "displayName": "신동욱",
      "userId": "15777921251637057342"
     },
     "user_tz": -540
    },
    "id": "UNR34S9PMGfg"
   },
   "outputs": [],
   "source": [
    "moat2.save_weights('final_flower_moat2_1.h5')"
   ]
  },
  {
   "cell_type": "markdown",
   "id": "1daf1e34-1b83-40d7-8a7e-63db57b86d0e",
   "metadata": {},
   "source": [
    "- 모델2 95/90 달성"
   ]
  },
  {
   "cell_type": "markdown",
   "id": "95356265-3f60-4ae6-9621-5e2ccb5e2de0",
   "metadata": {
    "id": "i0Veqj-KK2Nl"
   },
   "source": [
    "## 앙상블 V1"
   ]
  },
  {
   "cell_type": "code",
   "execution_count": 71,
   "id": "ef1ee708-cb29-437f-ae7c-3d15e12e35d7",
   "metadata": {
    "colab": {
     "base_uri": "https://localhost:8080/",
     "height": 1000
    },
    "executionInfo": {
     "elapsed": 1545183,
     "status": "error",
     "timestamp": 1670240550383,
     "user": {
      "displayName": "신동욱",
      "userId": "15777921251637057342"
     },
     "user_tz": -540
    },
    "id": "gwC1ZV0_K3ss",
    "outputId": "3b3e7b48-65e2-4cc5-ef42-1e1fe2cdd63a"
   },
   "outputs": [],
   "source": [
    "moat3 = moat.get_model(name='tiny_moat1_pretrain_256_no_pe_1k',input_shape=[256,256,3])\n",
    "moat4 = moat.get_model(name='tiny_moat1_pretrain_256_no_pe_1k',input_shape=[256,256,3])\n",
    "moat3._name=\"moat3\"\n",
    "moat4._name=\"moat4\"\n",
    "\n",
    "for layer in moat4.layers:\n",
    "    layer._name = layer.name + str(\"_2\")"
   ]
  },
  {
   "cell_type": "code",
   "execution_count": 72,
   "id": "07febf4a-9f23-4f81-bc71-e75b550d3c25",
   "metadata": {
    "colab": {
     "base_uri": "https://localhost:8080/",
     "height": 1000
    },
    "executionInfo": {
     "elapsed": 1545183,
     "status": "error",
     "timestamp": 1670240550383,
     "user": {
      "displayName": "신동욱",
      "userId": "15777921251637057342"
     },
     "user_tz": -540
    },
    "id": "gwC1ZV0_K3ss",
    "outputId": "3b3e7b48-65e2-4cc5-ef42-1e1fe2cdd63a"
   },
   "outputs": [],
   "source": [
    "moat3.load_weights('final_flower_moat1_4.h5')\n",
    "moat4.load_weights('final_flower_moat2_1.h5')\n",
    "\n",
    "moat3.trainable=False\n",
    "moat4.trainable=False"
   ]
  },
  {
   "cell_type": "code",
   "execution_count": 111,
   "id": "25d67497-4c0a-43f7-8b67-d1a76d304ced",
   "metadata": {
    "colab": {
     "base_uri": "https://localhost:8080/",
     "height": 1000
    },
    "executionInfo": {
     "elapsed": 1545183,
     "status": "error",
     "timestamp": 1670240550383,
     "user": {
      "displayName": "신동욱",
      "userId": "15777921251637057342"
     },
     "user_tz": -540
    },
    "id": "gwC1ZV0_K3ss",
    "outputId": "3b3e7b48-65e2-4cc5-ef42-1e1fe2cdd63a"
   },
   "outputs": [],
   "source": [
    "en_input = Input(shape=(256,256,3))\n",
    "x = moat3(en_input)\n",
    "y = moat4(en_input)\n",
    "\n",
    "b1 = tf.keras.layers.Flatten(name='flatten_layer1')(x[\"stage5\"])\n",
    "b2 = tf.keras.layers.Flatten(name='flatten_layer2')(y[\"stage5\"])\n",
    "\n",
    "z= tf.concat([b1, b2],axis=1)\n",
    "\n",
    "l= Dense(units=256, activation='gelu')(z)\n",
    "en_out = Dense(units=5, activation='softmax')(l)"
   ]
  },
  {
   "cell_type": "code",
   "execution_count": 74,
   "id": "30cfb170-83a0-4832-8b86-3c0093921279",
   "metadata": {
    "colab": {
     "base_uri": "https://localhost:8080/",
     "height": 1000
    },
    "executionInfo": {
     "elapsed": 1545183,
     "status": "error",
     "timestamp": 1670240550383,
     "user": {
      "displayName": "신동욱",
      "userId": "15777921251637057342"
     },
     "user_tz": -540
    },
    "id": "gwC1ZV0_K3ss",
    "outputId": "3b3e7b48-65e2-4cc5-ef42-1e1fe2cdd63a"
   },
   "outputs": [
    {
     "name": "stdout",
     "output_type": "stream",
     "text": [
      "\u001b[31mPlease check your arguments if you have upgraded adabelief-tf from version 0.0.1.\n",
      "\u001b[31mModifications to default arguments:\n",
      "\u001b[31m                           eps  weight_decouple    rectify\n",
      "-----------------------  -----  -----------------  -------------\n",
      "adabelief-tf=0.0.1       1e-08  Not supported      Not supported\n",
      ">=0.1.0 (Current 0.2.1)  1e-14  supported          default: True\n",
      "\u001b[34mSGD better than Adam (e.g. CNN for Image Classification)    Adam better than SGD (e.g. Transformer, GAN)\n",
      "----------------------------------------------------------  ----------------------------------------------\n",
      "Recommended epsilon = 1e-7                                  Recommended epsilon = 1e-14\n",
      "\u001b[34mFor a complete table of recommended hyperparameters, see\n",
      "\u001b[34mhttps://github.com/juntang-zhuang/Adabelief-Optimizer\n",
      "\u001b[32mYou can disable the log message by setting \"print_change_log = False\", though it is recommended to keep as a reminder.\n",
      "\u001b[0m\n"
     ]
    }
   ],
   "source": [
    "def create_model3():\n",
    "    return tf.keras.models.Model(inputs=en_input, outputs=en_out) \n",
    "\n",
    "#moat2 = moat.get_model(\n",
    "#    name='tiny_moat0_pretrain_256_no_pe_1k',input_shape=[256,256,3])\n",
    "#moat2 = moat._load_moat_pretrained_checkpoint(moat1, path=\"./model-ckpt-0\")\n",
    "\n",
    "opt2 = AdaBeliefOptimizer(learning_rate=5e-4, beta_1= 0.9, beta_2=0.999, weight_decay= 0.05,  epsilon=1e-14, clipnorm=1)"
   ]
  },
  {
   "cell_type": "code",
   "execution_count": 79,
   "id": "091b63e3-66bc-451d-8dd0-421f4958dd84",
   "metadata": {
    "colab": {
     "base_uri": "https://localhost:8080/",
     "height": 1000
    },
    "executionInfo": {
     "elapsed": 1545183,
     "status": "error",
     "timestamp": 1670240550383,
     "user": {
      "displayName": "신동욱",
      "userId": "15777921251637057342"
     },
     "user_tz": -540
    },
    "id": "gwC1ZV0_K3ss",
    "outputId": "3b3e7b48-65e2-4cc5-ef42-1e1fe2cdd63a"
   },
   "outputs": [
    {
     "name": "stdout",
     "output_type": "stream",
     "text": [
      "Epoch 1/100\n",
      "184/184 [==============================] - 85s 262ms/step - loss: 2.5346 - sparse_categorical_accuracy: 0.8007 - val_loss: 1.9284 - val_sparse_categorical_accuracy: 0.8501\n",
      "Epoch 2/100\n",
      "184/184 [==============================] - 44s 225ms/step - loss: 1.9473 - sparse_categorical_accuracy: 0.8638 - val_loss: 1.0403 - val_sparse_categorical_accuracy: 0.9155\n",
      "Epoch 3/100\n",
      "184/184 [==============================] - 45s 235ms/step - loss: 1.4252 - sparse_categorical_accuracy: 0.8954 - val_loss: 3.3255 - val_sparse_categorical_accuracy: 0.8365\n",
      "Epoch 4/100\n",
      "184/184 [==============================] - 44s 232ms/step - loss: 1.3365 - sparse_categorical_accuracy: 0.9114 - val_loss: 1.6143 - val_sparse_categorical_accuracy: 0.8556\n",
      "Epoch 5/100\n",
      "184/184 [==============================] - 42s 222ms/step - loss: 0.9660 - sparse_categorical_accuracy: 0.9128 - val_loss: 0.9537 - val_sparse_categorical_accuracy: 0.8965\n",
      "Epoch 6/100\n",
      "184/184 [==============================] - 42s 223ms/step - loss: 0.5604 - sparse_categorical_accuracy: 0.9268 - val_loss: 1.3432 - val_sparse_categorical_accuracy: 0.8283\n",
      "Epoch 7/100\n",
      "184/184 [==============================] - 42s 221ms/step - loss: 0.5440 - sparse_categorical_accuracy: 0.9111 - val_loss: 0.3803 - val_sparse_categorical_accuracy: 0.9183\n",
      "Epoch 8/100\n",
      "184/184 [==============================] - 43s 223ms/step - loss: 0.3557 - sparse_categorical_accuracy: 0.9387 - val_loss: 0.9579 - val_sparse_categorical_accuracy: 0.8610\n",
      "Epoch 9/100\n",
      "184/184 [==============================] - 44s 227ms/step - loss: 0.2806 - sparse_categorical_accuracy: 0.9370 - val_loss: 0.7892 - val_sparse_categorical_accuracy: 0.9019\n",
      "Epoch 10/100\n",
      "184/184 [==============================] - 43s 224ms/step - loss: 0.2896 - sparse_categorical_accuracy: 0.9346 - val_loss: 0.6820 - val_sparse_categorical_accuracy: 0.8883\n",
      "Epoch 11/100\n",
      "184/184 [==============================] - 42s 221ms/step - loss: 0.2157 - sparse_categorical_accuracy: 0.9465 - val_loss: 0.4932 - val_sparse_categorical_accuracy: 0.9019\n",
      "Epoch 12/100\n",
      "184/184 [==============================] - 43s 227ms/step - loss: 0.2468 - sparse_categorical_accuracy: 0.9503 - val_loss: 0.5097 - val_sparse_categorical_accuracy: 0.9128\n",
      "Epoch 13/100\n",
      "184/184 [==============================] - 46s 238ms/step - loss: 0.2295 - sparse_categorical_accuracy: 0.9550 - val_loss: 0.3890 - val_sparse_categorical_accuracy: 0.9264\n",
      "Epoch 14/100\n",
      "184/184 [==============================] - 43s 227ms/step - loss: 0.2066 - sparse_categorical_accuracy: 0.9489 - val_loss: 0.5215 - val_sparse_categorical_accuracy: 0.8910\n",
      "Epoch 15/100\n",
      "184/184 [==============================] - 45s 234ms/step - loss: 0.2420 - sparse_categorical_accuracy: 0.9506 - val_loss: 0.5345 - val_sparse_categorical_accuracy: 0.9128\n",
      "Epoch 16/100\n",
      "184/184 [==============================] - 44s 223ms/step - loss: 0.2024 - sparse_categorical_accuracy: 0.9506 - val_loss: 0.3998 - val_sparse_categorical_accuracy: 0.8965\n",
      "Epoch 17/100\n",
      "184/184 [==============================] - 43s 225ms/step - loss: 0.1791 - sparse_categorical_accuracy: 0.9619 - val_loss: 0.9520 - val_sparse_categorical_accuracy: 0.8747\n",
      "Epoch 18/100\n",
      "184/184 [==============================] - 43s 225ms/step - loss: 0.1632 - sparse_categorical_accuracy: 0.9595 - val_loss: 0.7559 - val_sparse_categorical_accuracy: 0.8529\n",
      "Epoch 19/100\n",
      "184/184 [==============================] - 44s 232ms/step - loss: 0.1654 - sparse_categorical_accuracy: 0.9601 - val_loss: 0.4675 - val_sparse_categorical_accuracy: 0.9074\n",
      "Epoch 20/100\n",
      "184/184 [==============================] - 43s 224ms/step - loss: 0.1724 - sparse_categorical_accuracy: 0.9537 - val_loss: 0.5435 - val_sparse_categorical_accuracy: 0.9183\n",
      "Epoch 21/100\n",
      "184/184 [==============================] - 47s 249ms/step - loss: 0.2304 - sparse_categorical_accuracy: 0.9595 - val_loss: 0.5125 - val_sparse_categorical_accuracy: 0.9046\n",
      "Epoch 22/100\n",
      "184/184 [==============================] - 47s 244ms/step - loss: 0.1357 - sparse_categorical_accuracy: 0.9581 - val_loss: 0.7426 - val_sparse_categorical_accuracy: 0.9074\n",
      "Epoch 23/100\n",
      "184/184 [==============================] - 47s 246ms/step - loss: 0.1410 - sparse_categorical_accuracy: 0.9659 - val_loss: 0.5538 - val_sparse_categorical_accuracy: 0.9101\n",
      "Epoch 24/100\n",
      "184/184 [==============================] - 48s 252ms/step - loss: 0.1564 - sparse_categorical_accuracy: 0.9605 - val_loss: 0.5203 - val_sparse_categorical_accuracy: 0.9046\n",
      "Epoch 25/100\n",
      "184/184 [==============================] - 48s 250ms/step - loss: 0.1616 - sparse_categorical_accuracy: 0.9619 - val_loss: 0.5283 - val_sparse_categorical_accuracy: 0.9155\n",
      "Epoch 26/100\n",
      "184/184 [==============================] - 47s 246ms/step - loss: 0.1558 - sparse_categorical_accuracy: 0.9653 - val_loss: 0.6497 - val_sparse_categorical_accuracy: 0.9101\n",
      "Epoch 27/100\n",
      "184/184 [==============================] - 48s 253ms/step - loss: 0.1643 - sparse_categorical_accuracy: 0.9649 - val_loss: 0.6259 - val_sparse_categorical_accuracy: 0.8992\n",
      "Epoch 28/100\n",
      "184/184 [==============================] - 49s 253ms/step - loss: 0.1456 - sparse_categorical_accuracy: 0.9666 - val_loss: 0.9216 - val_sparse_categorical_accuracy: 0.8747\n",
      "Epoch 29/100\n"
     ]
    },
    {
     "ename": "KeyboardInterrupt",
     "evalue": "",
     "output_type": "error",
     "traceback": [
      "\u001b[0;31m---------------------------------------------------------------------------\u001b[0m",
      "\u001b[0;31mKeyboardInterrupt\u001b[0m                         Traceback (most recent call last)",
      "\u001b[0;32m<ipython-input-79-df08c4151389>\u001b[0m in \u001b[0;36m<module>\u001b[0;34m\u001b[0m\n\u001b[1;32m     10\u001b[0m   \u001b[0;31m#                  validation_steps=nb_validation_samples // batch_size,\u001b[0m\u001b[0;34m\u001b[0m\u001b[0;34m\u001b[0m\u001b[0;34m\u001b[0m\u001b[0m\n\u001b[1;32m     11\u001b[0m                     \u001b[0mepochs\u001b[0m\u001b[0;34m=\u001b[0m\u001b[0;36m100\u001b[0m\u001b[0;34m,\u001b[0m\u001b[0;34m\u001b[0m\u001b[0;34m\u001b[0m\u001b[0m\n\u001b[0;32m---> 12\u001b[0;31m                     verbose=1)\n\u001b[0m",
      "\u001b[0;32m/usr/local/lib/python3.6/dist-packages/keras/engine/training.py\u001b[0m in \u001b[0;36mfit_generator\u001b[0;34m(self, generator, steps_per_epoch, epochs, verbose, callbacks, validation_data, validation_steps, validation_freq, class_weight, max_queue_size, workers, use_multiprocessing, shuffle, initial_epoch)\u001b[0m\n\u001b[1;32m   1987\u001b[0m         \u001b[0muse_multiprocessing\u001b[0m\u001b[0;34m=\u001b[0m\u001b[0muse_multiprocessing\u001b[0m\u001b[0;34m,\u001b[0m\u001b[0;34m\u001b[0m\u001b[0;34m\u001b[0m\u001b[0m\n\u001b[1;32m   1988\u001b[0m         \u001b[0mshuffle\u001b[0m\u001b[0;34m=\u001b[0m\u001b[0mshuffle\u001b[0m\u001b[0;34m,\u001b[0m\u001b[0;34m\u001b[0m\u001b[0;34m\u001b[0m\u001b[0m\n\u001b[0;32m-> 1989\u001b[0;31m         initial_epoch=initial_epoch)\n\u001b[0m\u001b[1;32m   1990\u001b[0m \u001b[0;34m\u001b[0m\u001b[0m\n\u001b[1;32m   1991\u001b[0m   \u001b[0;34m@\u001b[0m\u001b[0mdoc_controls\u001b[0m\u001b[0;34m.\u001b[0m\u001b[0mdo_not_generate_docs\u001b[0m\u001b[0;34m\u001b[0m\u001b[0;34m\u001b[0m\u001b[0m\n",
      "\u001b[0;32m/usr/local/lib/python3.6/dist-packages/keras/engine/training.py\u001b[0m in \u001b[0;36mfit\u001b[0;34m(self, x, y, batch_size, epochs, verbose, callbacks, validation_split, validation_data, shuffle, class_weight, sample_weight, initial_epoch, steps_per_epoch, validation_steps, validation_batch_size, validation_freq, max_queue_size, workers, use_multiprocessing)\u001b[0m\n\u001b[1;32m   1182\u001b[0m                 _r=1):\n\u001b[1;32m   1183\u001b[0m               \u001b[0mcallbacks\u001b[0m\u001b[0;34m.\u001b[0m\u001b[0mon_train_batch_begin\u001b[0m\u001b[0;34m(\u001b[0m\u001b[0mstep\u001b[0m\u001b[0;34m)\u001b[0m\u001b[0;34m\u001b[0m\u001b[0;34m\u001b[0m\u001b[0m\n\u001b[0;32m-> 1184\u001b[0;31m               \u001b[0mtmp_logs\u001b[0m \u001b[0;34m=\u001b[0m \u001b[0mself\u001b[0m\u001b[0;34m.\u001b[0m\u001b[0mtrain_function\u001b[0m\u001b[0;34m(\u001b[0m\u001b[0miterator\u001b[0m\u001b[0;34m)\u001b[0m\u001b[0;34m\u001b[0m\u001b[0;34m\u001b[0m\u001b[0m\n\u001b[0m\u001b[1;32m   1185\u001b[0m               \u001b[0;32mif\u001b[0m \u001b[0mdata_handler\u001b[0m\u001b[0;34m.\u001b[0m\u001b[0mshould_sync\u001b[0m\u001b[0;34m:\u001b[0m\u001b[0;34m\u001b[0m\u001b[0;34m\u001b[0m\u001b[0m\n\u001b[1;32m   1186\u001b[0m                 \u001b[0mcontext\u001b[0m\u001b[0;34m.\u001b[0m\u001b[0masync_wait\u001b[0m\u001b[0;34m(\u001b[0m\u001b[0;34m)\u001b[0m\u001b[0;34m\u001b[0m\u001b[0;34m\u001b[0m\u001b[0m\n",
      "\u001b[0;32m~/.local/lib/python3.6/site-packages/tensorflow/python/eager/def_function.py\u001b[0m in \u001b[0;36m__call__\u001b[0;34m(self, *args, **kwds)\u001b[0m\n\u001b[1;32m    883\u001b[0m   \u001b[0;32mdef\u001b[0m \u001b[0mget_concrete_function\u001b[0m\u001b[0;34m(\u001b[0m\u001b[0mself\u001b[0m\u001b[0;34m,\u001b[0m \u001b[0;34m*\u001b[0m\u001b[0margs\u001b[0m\u001b[0;34m,\u001b[0m \u001b[0;34m**\u001b[0m\u001b[0mkwargs\u001b[0m\u001b[0;34m)\u001b[0m\u001b[0;34m:\u001b[0m\u001b[0;34m\u001b[0m\u001b[0;34m\u001b[0m\u001b[0m\n\u001b[1;32m    884\u001b[0m     \"\"\"Returns a `ConcreteFunction` specialized to inputs and execution context.\n\u001b[0;32m--> 885\u001b[0;31m \u001b[0;34m\u001b[0m\u001b[0m\n\u001b[0m\u001b[1;32m    886\u001b[0m     \u001b[0mIf\u001b[0m \u001b[0mthis\u001b[0m\u001b[0;31m \u001b[0m\u001b[0;31m`\u001b[0m\u001b[0mFunction\u001b[0m\u001b[0;31m`\u001b[0m \u001b[0mwas\u001b[0m \u001b[0mcreated\u001b[0m \u001b[0;32mwith\u001b[0m \u001b[0man\u001b[0m\u001b[0;31m \u001b[0m\u001b[0;31m`\u001b[0m\u001b[0minput_signature\u001b[0m\u001b[0;31m`\u001b[0m\u001b[0;34m,\u001b[0m\u001b[0;31m \u001b[0m\u001b[0;31m`\u001b[0m\u001b[0margs\u001b[0m\u001b[0;31m`\u001b[0m \u001b[0;32mand\u001b[0m\u001b[0;34m\u001b[0m\u001b[0;34m\u001b[0m\u001b[0m\n\u001b[1;32m    887\u001b[0m     \u001b[0;31m`\u001b[0m\u001b[0mkwargs\u001b[0m\u001b[0;31m`\u001b[0m \u001b[0mmay\u001b[0m \u001b[0mbe\u001b[0m \u001b[0momitted\u001b[0m\u001b[0;34m.\u001b[0m \u001b[0mWith\u001b[0m \u001b[0man\u001b[0m \u001b[0minput\u001b[0m \u001b[0msignature\u001b[0m \u001b[0mthere\u001b[0m \u001b[0;32mis\u001b[0m \u001b[0monly\u001b[0m \u001b[0mone\u001b[0m\u001b[0;34m\u001b[0m\u001b[0;34m\u001b[0m\u001b[0m\n",
      "\u001b[0;32m~/.local/lib/python3.6/site-packages/tensorflow/python/eager/def_function.py\u001b[0m in \u001b[0;36m_call\u001b[0;34m(self, *args, **kwds)\u001b[0m\n\u001b[1;32m    915\u001b[0m \u001b[0;34m\u001b[0m\u001b[0m\n\u001b[1;32m    916\u001b[0m     \u001b[0mNested\u001b[0m \u001b[0mstructures\u001b[0m \u001b[0mcontaining\u001b[0m \u001b[0mTensors\u001b[0m \u001b[0mmay\u001b[0m \u001b[0mbe\u001b[0m \u001b[0mspecified\u001b[0m \u001b[0mwhen\u001b[0m \u001b[0mretrieving\u001b[0m\u001b[0;34m\u001b[0m\u001b[0;34m\u001b[0m\u001b[0m\n\u001b[0;32m--> 917\u001b[0;31m     \u001b[0mconcrete\u001b[0m \u001b[0mfunctions\u001b[0m\u001b[0;34m.\u001b[0m \u001b[0mStructures\u001b[0m \u001b[0;32mwith\u001b[0m \u001b[0mmultiple\u001b[0m \u001b[0mTensors\u001b[0m \u001b[0mare\u001b[0m \u001b[0mexpanded\u001b[0m \u001b[0minto\u001b[0m\u001b[0;34m\u001b[0m\u001b[0;34m\u001b[0m\u001b[0m\n\u001b[0m\u001b[1;32m    918\u001b[0m     \u001b[0mmultiple\u001b[0m \u001b[0marguments\u001b[0m \u001b[0mof\u001b[0m \u001b[0mthe\u001b[0m \u001b[0mconcrete\u001b[0m \u001b[0mfunction\u001b[0m\u001b[0;34m.\u001b[0m \u001b[0mSince\u001b[0m \u001b[0mmultiple\u001b[0m \u001b[0mconcrete\u001b[0m\u001b[0;34m\u001b[0m\u001b[0;34m\u001b[0m\u001b[0m\n\u001b[1;32m    919\u001b[0m     \u001b[0mfunction\u001b[0m \u001b[0marguments\u001b[0m \u001b[0mare\u001b[0m \u001b[0massociated\u001b[0m \u001b[0;32mwith\u001b[0m \u001b[0mone\u001b[0m \u001b[0margument\u001b[0m \u001b[0mto\u001b[0m \u001b[0mthe\u001b[0m \u001b[0moriginal\u001b[0m\u001b[0;34m\u001b[0m\u001b[0;34m\u001b[0m\u001b[0m\n",
      "\u001b[0;32m~/.local/lib/python3.6/site-packages/tensorflow/python/eager/function.py\u001b[0m in \u001b[0;36m__call__\u001b[0;34m(self, *args, **kwargs)\u001b[0m\n\u001b[1;32m   3038\u001b[0m \u001b[0;34m\u001b[0m\u001b[0m\n\u001b[1;32m   3039\u001b[0m   \u001b[0mW\u001b[0m \u001b[0;34m=\u001b[0m \u001b[0mtf\u001b[0m\u001b[0;34m.\u001b[0m\u001b[0mrandom\u001b[0m\u001b[0;34m.\u001b[0m\u001b[0mnormal\u001b[0m\u001b[0;34m(\u001b[0m\u001b[0;34m(\u001b[0m\u001b[0;36m3\u001b[0m\u001b[0;34m,\u001b[0m \u001b[0;36m5\u001b[0m\u001b[0;34m)\u001b[0m\u001b[0;34m)\u001b[0m\u001b[0;34m\u001b[0m\u001b[0;34m\u001b[0m\u001b[0m\n\u001b[0;32m-> 3040\u001b[0;31m   \u001b[0mx\u001b[0m \u001b[0;34m=\u001b[0m \u001b[0mtf\u001b[0m\u001b[0;34m.\u001b[0m\u001b[0mrandom\u001b[0m\u001b[0;34m.\u001b[0m\u001b[0mnormal\u001b[0m\u001b[0;34m(\u001b[0m\u001b[0;34m(\u001b[0m\u001b[0;36m5\u001b[0m\u001b[0;34m,\u001b[0m \u001b[0;36m1\u001b[0m\u001b[0;34m)\u001b[0m\u001b[0;34m)\u001b[0m\u001b[0;34m\u001b[0m\u001b[0;34m\u001b[0m\u001b[0m\n\u001b[0m\u001b[1;32m   3041\u001b[0m \u001b[0;34m\u001b[0m\u001b[0m\n\u001b[1;32m   3042\u001b[0m   \u001b[0;31m# Executes a graph that applies dropout.\u001b[0m\u001b[0;34m\u001b[0m\u001b[0;34m\u001b[0m\u001b[0;34m\u001b[0m\u001b[0m\n",
      "\u001b[0;32m~/.local/lib/python3.6/site-packages/tensorflow/python/eager/function.py\u001b[0m in \u001b[0;36m_call_flat\u001b[0;34m(self, args, captured_inputs, cancellation_manager)\u001b[0m\n\u001b[1;32m   1962\u001b[0m     \u001b[0;32mif\u001b[0m \u001b[0mself\u001b[0m\u001b[0;34m.\u001b[0m\u001b[0m_func_graph\u001b[0m\u001b[0;34m.\u001b[0m\u001b[0mstructured_outputs\u001b[0m \u001b[0;32mis\u001b[0m \u001b[0;32mNone\u001b[0m\u001b[0;34m:\u001b[0m\u001b[0;34m\u001b[0m\u001b[0;34m\u001b[0m\u001b[0m\n\u001b[1;32m   1963\u001b[0m       \u001b[0;32mreturn\u001b[0m \u001b[0mresult\u001b[0m\u001b[0;34m\u001b[0m\u001b[0;34m\u001b[0m\u001b[0m\n\u001b[0;32m-> 1964\u001b[0;31m \u001b[0;34m\u001b[0m\u001b[0m\n\u001b[0m\u001b[1;32m   1965\u001b[0m     \u001b[0;31m# Replace outputs with results, skipping over any 'None' values.\u001b[0m\u001b[0;34m\u001b[0m\u001b[0;34m\u001b[0m\u001b[0;34m\u001b[0m\u001b[0m\n\u001b[1;32m   1966\u001b[0m     outputs_list = nest.flatten(self._func_graph.structured_outputs,\n",
      "\u001b[0;32m~/.local/lib/python3.6/site-packages/tensorflow/python/eager/function.py\u001b[0m in \u001b[0;36mcall\u001b[0;34m(self, ctx, args, cancellation_manager)\u001b[0m\n\u001b[1;32m    594\u001b[0m               \u001b[0mstr\u001b[0m\u001b[0;34m(\u001b[0m\u001b[0mself\u001b[0m\u001b[0;34m.\u001b[0m\u001b[0msignature\u001b[0m\u001b[0;34m.\u001b[0m\u001b[0mname\u001b[0m\u001b[0;34m)\u001b[0m\u001b[0;34m,\u001b[0m\u001b[0;34m\u001b[0m\u001b[0;34m\u001b[0m\u001b[0m\n\u001b[1;32m    595\u001b[0m               \u001b[0mnum_outputs\u001b[0m\u001b[0;34m=\u001b[0m\u001b[0mself\u001b[0m\u001b[0;34m.\u001b[0m\u001b[0m_num_outputs\u001b[0m\u001b[0;34m,\u001b[0m\u001b[0;34m\u001b[0m\u001b[0;34m\u001b[0m\u001b[0m\n\u001b[0;32m--> 596\u001b[0;31m               \u001b[0minputs\u001b[0m\u001b[0;34m=\u001b[0m\u001b[0margs\u001b[0m\u001b[0;34m,\u001b[0m\u001b[0;34m\u001b[0m\u001b[0;34m\u001b[0m\u001b[0m\n\u001b[0m\u001b[1;32m    597\u001b[0m               \u001b[0mattrs\u001b[0m\u001b[0;34m=\u001b[0m\u001b[0mattrs\u001b[0m\u001b[0;34m,\u001b[0m\u001b[0;34m\u001b[0m\u001b[0;34m\u001b[0m\u001b[0m\n\u001b[1;32m    598\u001b[0m               ctx=ctx)\n",
      "\u001b[0;32m~/.local/lib/python3.6/site-packages/tensorflow/python/eager/execute.py\u001b[0m in \u001b[0;36mquick_execute\u001b[0;34m(op_name, num_outputs, inputs, attrs, ctx, name)\u001b[0m\n\u001b[1;32m     58\u001b[0m     \u001b[0mctx\u001b[0m\u001b[0;34m.\u001b[0m\u001b[0mensure_initialized\u001b[0m\u001b[0;34m(\u001b[0m\u001b[0;34m)\u001b[0m\u001b[0;34m\u001b[0m\u001b[0;34m\u001b[0m\u001b[0m\n\u001b[1;32m     59\u001b[0m     tensors = pywrap_tfe.TFE_Py_Execute(ctx._handle, device_name, op_name,\n\u001b[0;32m---> 60\u001b[0;31m                                         inputs, attrs, num_outputs)\n\u001b[0m\u001b[1;32m     61\u001b[0m   \u001b[0;32mexcept\u001b[0m \u001b[0mcore\u001b[0m\u001b[0;34m.\u001b[0m\u001b[0m_NotOkStatusException\u001b[0m \u001b[0;32mas\u001b[0m \u001b[0me\u001b[0m\u001b[0;34m:\u001b[0m\u001b[0;34m\u001b[0m\u001b[0;34m\u001b[0m\u001b[0m\n\u001b[1;32m     62\u001b[0m     \u001b[0;32mif\u001b[0m \u001b[0mname\u001b[0m \u001b[0;32mis\u001b[0m \u001b[0;32mnot\u001b[0m \u001b[0;32mNone\u001b[0m\u001b[0;34m:\u001b[0m\u001b[0;34m\u001b[0m\u001b[0;34m\u001b[0m\u001b[0m\n",
      "\u001b[0;31mKeyboardInterrupt\u001b[0m: "
     ]
    }
   ],
   "source": [
    "with tf.device('/device:GPU:2'):\n",
    "    en_model = create_model3()\n",
    "    en_model.compile(optimizer=opt2,\n",
    "              loss='sparse_categorical_crossentropy', metrics = tf.keras.metrics.SparseCategoricalAccuracy())\n",
    "#    checkpointer = ModelCheckpoint(filepath='ensemble_1.hdf5', verbose=1, save_best_only=True)\n",
    "#    csv_logger = CSVLogger('ensemble_1.hdf5.log')\n",
    "    history = en_model.fit_generator(train, \n",
    "  #                  steps_per_epoch = nb_train_samples // batch_size,      \n",
    "                    validation_data=validation,\n",
    "  #                  validation_steps=nb_validation_samples // batch_size,  \n",
    "                    epochs=100,                                             \n",
    "                    verbose=1)"
   ]
  },
  {
   "cell_type": "code",
   "execution_count": 80,
   "id": "d64992bc-e377-4a33-a57a-202260ef77da",
   "metadata": {
    "executionInfo": {
     "elapsed": 500,
     "status": "ok",
     "timestamp": 1670500351235,
     "user": {
      "displayName": "신동욱",
      "userId": "15777921251637057342"
     },
     "user_tz": -540
    },
    "id": "UNR34S9PMGfg"
   },
   "outputs": [],
   "source": [
    "en_model.save_weights('final_flower_en_1.h5')"
   ]
  },
  {
   "cell_type": "markdown",
   "id": "259b9363-3976-4f65-95da-ac5328b48501",
   "metadata": {},
   "source": [
    "- 96/87 도달"
   ]
  },
  {
   "cell_type": "markdown",
   "id": "9aa1f4ca-b00b-4af6-bb4a-e3e8f45c1bd0",
   "metadata": {
    "tags": []
   },
   "source": [
    "-----\n",
    "## full model training"
   ]
  },
  {
   "cell_type": "code",
   "execution_count": 92,
   "id": "6b843cef-4ffa-4d3e-b4d6-e9db497eec60",
   "metadata": {
    "colab": {
     "base_uri": "https://localhost:8080/",
     "height": 1000
    },
    "executionInfo": {
     "elapsed": 1545183,
     "status": "error",
     "timestamp": 1670240550383,
     "user": {
      "displayName": "신동욱",
      "userId": "15777921251637057342"
     },
     "user_tz": -540
    },
    "id": "gwC1ZV0_K3ss",
    "outputId": "3b3e7b48-65e2-4cc5-ef42-1e1fe2cdd63a"
   },
   "outputs": [],
   "source": [
    "moat5 = moat.get_model(name='tiny_moat1_pretrain_256_no_pe_1k',input_shape=[256,256,3])\n",
    "moat6 = moat.get_model(name='tiny_moat1_pretrain_256_no_pe_1k',input_shape=[256,256,3])\n",
    "moat5._name=\"moat3\"\n",
    "moat6._name=\"moat4\"\n",
    "\n",
    "for layer in moat6.layers:\n",
    "    layer._name = layer.name + str(\"_2\")"
   ]
  },
  {
   "cell_type": "code",
   "execution_count": 96,
   "id": "f71f378e-e4e8-4f36-9f2e-15067954b705",
   "metadata": {
    "colab": {
     "base_uri": "https://localhost:8080/",
     "height": 1000
    },
    "executionInfo": {
     "elapsed": 1545183,
     "status": "error",
     "timestamp": 1670240550383,
     "user": {
      "displayName": "신동욱",
      "userId": "15777921251637057342"
     },
     "user_tz": -540
    },
    "id": "gwC1ZV0_K3ss",
    "outputId": "3b3e7b48-65e2-4cc5-ef42-1e1fe2cdd63a"
   },
   "outputs": [],
   "source": [
    "'''\n",
    "moat5.load_weights('final_flower_moat1_4.h5')\n",
    "moat6.load_weights('final_flower_moat2_1.h5')\n",
    "'''\n",
    "moat5.trainable=False\n",
    "moat6.trainable=False\n"
   ]
  },
  {
   "cell_type": "code",
   "execution_count": 97,
   "id": "b7d6b822-83a1-4e97-a2e1-ebf3dae82861",
   "metadata": {
    "colab": {
     "base_uri": "https://localhost:8080/",
     "height": 1000
    },
    "executionInfo": {
     "elapsed": 1545183,
     "status": "error",
     "timestamp": 1670240550383,
     "user": {
      "displayName": "신동욱",
      "userId": "15777921251637057342"
     },
     "user_tz": -540
    },
    "id": "gwC1ZV0_K3ss",
    "outputId": "3b3e7b48-65e2-4cc5-ef42-1e1fe2cdd63a"
   },
   "outputs": [],
   "source": [
    "full_input = Input(shape=(256,256,3))\n",
    "x = moat5(full_input)\n",
    "y = moat6(full_input)\n",
    "\n",
    "b1 = tf.keras.layers.Flatten(name='flatten_layer1')(x[\"stage5\"])\n",
    "b2 = tf.keras.layers.Flatten(name='flatten_layer2')(y[\"stage5\"])\n",
    "\n",
    "z= tf.concat([b1, b2],axis=1)\n",
    "\n",
    "l= Dense(units=256, activation='gelu')(z)\n",
    "full_out = Dense(units=5, activation='softmax')(l)"
   ]
  },
  {
   "cell_type": "code",
   "execution_count": 98,
   "id": "f1478150-46ea-4ef0-a5ef-05ae10dd3d47",
   "metadata": {
    "colab": {
     "base_uri": "https://localhost:8080/",
     "height": 1000
    },
    "executionInfo": {
     "elapsed": 1545183,
     "status": "error",
     "timestamp": 1670240550383,
     "user": {
      "displayName": "신동욱",
      "userId": "15777921251637057342"
     },
     "user_tz": -540
    },
    "id": "gwC1ZV0_K3ss",
    "outputId": "3b3e7b48-65e2-4cc5-ef42-1e1fe2cdd63a"
   },
   "outputs": [
    {
     "name": "stdout",
     "output_type": "stream",
     "text": [
      "\u001b[31mPlease check your arguments if you have upgraded adabelief-tf from version 0.0.1.\n",
      "\u001b[31mModifications to default arguments:\n",
      "\u001b[31m                           eps  weight_decouple    rectify\n",
      "-----------------------  -----  -----------------  -------------\n",
      "adabelief-tf=0.0.1       1e-08  Not supported      Not supported\n",
      ">=0.1.0 (Current 0.2.1)  1e-14  supported          default: True\n",
      "\u001b[34mSGD better than Adam (e.g. CNN for Image Classification)    Adam better than SGD (e.g. Transformer, GAN)\n",
      "----------------------------------------------------------  ----------------------------------------------\n",
      "Recommended epsilon = 1e-7                                  Recommended epsilon = 1e-14\n",
      "\u001b[34mFor a complete table of recommended hyperparameters, see\n",
      "\u001b[34mhttps://github.com/juntang-zhuang/Adabelief-Optimizer\n",
      "\u001b[32mYou can disable the log message by setting \"print_change_log = False\", though it is recommended to keep as a reminder.\n",
      "\u001b[0m\n"
     ]
    }
   ],
   "source": [
    "def create_model3():\n",
    "    return tf.keras.models.Model(inputs=full_input, outputs=full_out) \n",
    "\n",
    "#moat2 = moat.get_model(\n",
    "#    name='tiny_moat0_pretrain_256_no_pe_1k',input_shape=[256,256,3])\n",
    "#moat2 = moat._load_moat_pretrained_checkpoint(moat1, path=\"./model-ckpt-0\")\n",
    "\n",
    "opt2 = AdaBeliefOptimizer(learning_rate=5e-4, beta_1= 0.9, beta_2=0.999, weight_decay= 0.05,  epsilon=1e-14, clipnorm=1)\n",
    "\n",
    "full_model = create_model3()\n",
    "full_model.compile(optimizer=opt2,\n",
    "              loss='sparse_categorical_crossentropy', metrics = tf.keras.metrics.SparseCategoricalAccuracy())\n",
    "full_model.load_weights('final_flower_en_1.h5')"
   ]
  },
  {
   "cell_type": "code",
   "execution_count": 99,
   "id": "4b86cae2-886a-49bf-8d70-2ae6953f6a44",
   "metadata": {
    "colab": {
     "base_uri": "https://localhost:8080/",
     "height": 1000
    },
    "executionInfo": {
     "elapsed": 1545183,
     "status": "error",
     "timestamp": 1670240550383,
     "user": {
      "displayName": "신동욱",
      "userId": "15777921251637057342"
     },
     "user_tz": -540
    },
    "id": "gwC1ZV0_K3ss",
    "outputId": "3b3e7b48-65e2-4cc5-ef42-1e1fe2cdd63a"
   },
   "outputs": [],
   "source": [
    "'''\n",
    "moat5.load_weights('final_flower_moat1_4.h5')\n",
    "moat6.load_weights('final_flower_moat2_1.h5')\n",
    "'''\n",
    "moat3.trainable=True\n",
    "moat4.trainable=True\n"
   ]
  },
  {
   "cell_type": "code",
   "execution_count": 105,
   "id": "aa616124-d275-43f3-839e-bdcf3c9996f5",
   "metadata": {
    "colab": {
     "base_uri": "https://localhost:8080/",
     "height": 1000
    },
    "executionInfo": {
     "elapsed": 1545183,
     "status": "error",
     "timestamp": 1670240550383,
     "user": {
      "displayName": "신동욱",
      "userId": "15777921251637057342"
     },
     "user_tz": -540
    },
    "id": "gwC1ZV0_K3ss",
    "outputId": "3b3e7b48-65e2-4cc5-ef42-1e1fe2cdd63a"
   },
   "outputs": [
    {
     "name": "stdout",
     "output_type": "stream",
     "text": [
      "Epoch 1/10\n",
      "184/184 [==============================] - 47s 244ms/step - loss: 0.1225 - sparse_categorical_accuracy: 0.9745 - val_loss: 0.5572 - val_sparse_categorical_accuracy: 0.9292\n",
      "Epoch 2/10\n",
      "184/184 [==============================] - 45s 234ms/step - loss: 0.1151 - sparse_categorical_accuracy: 0.9738 - val_loss: 0.6860 - val_sparse_categorical_accuracy: 0.9074\n",
      "Epoch 3/10\n",
      "184/184 [==============================] - 45s 229ms/step - loss: 0.1377 - sparse_categorical_accuracy: 0.9605 - val_loss: 0.6585 - val_sparse_categorical_accuracy: 0.8883\n",
      "Epoch 4/10\n",
      "184/184 [==============================] - 45s 234ms/step - loss: 0.1279 - sparse_categorical_accuracy: 0.9670 - val_loss: 0.6266 - val_sparse_categorical_accuracy: 0.9155\n",
      "Epoch 5/10\n",
      "184/184 [==============================] - 45s 230ms/step - loss: 0.1244 - sparse_categorical_accuracy: 0.9710 - val_loss: 0.5417 - val_sparse_categorical_accuracy: 0.9155\n",
      "Epoch 6/10\n",
      "184/184 [==============================] - 45s 234ms/step - loss: 0.1127 - sparse_categorical_accuracy: 0.9738 - val_loss: 0.6242 - val_sparse_categorical_accuracy: 0.9237\n",
      "Epoch 7/10\n",
      "184/184 [==============================] - 44s 225ms/step - loss: 0.0948 - sparse_categorical_accuracy: 0.9772 - val_loss: 0.6459 - val_sparse_categorical_accuracy: 0.9128\n",
      "Epoch 8/10\n",
      "184/184 [==============================] - 45s 232ms/step - loss: 0.1091 - sparse_categorical_accuracy: 0.9707 - val_loss: 0.5734 - val_sparse_categorical_accuracy: 0.9237\n",
      "Epoch 9/10\n",
      "184/184 [==============================] - 45s 236ms/step - loss: 0.1184 - sparse_categorical_accuracy: 0.9704 - val_loss: 0.6665 - val_sparse_categorical_accuracy: 0.9155\n",
      "Epoch 10/10\n",
      "184/184 [==============================] - 45s 232ms/step - loss: 0.1274 - sparse_categorical_accuracy: 0.9700 - val_loss: 0.7826 - val_sparse_categorical_accuracy: 0.8910\n"
     ]
    }
   ],
   "source": [
    "with tf.device('/device:GPU:2'):\n",
    "    \n",
    "#    checkpointer = ModelCheckpoint(filepath='ensemble_1.hdf5', verbose=1, save_best_only=True)\n",
    "#    csv_logger = CSVLogger('ensemble_1.hdf5.log')\n",
    "\n",
    "    history = full_model.fit_generator(train, \n",
    "  #                  steps_per_epoch = nb_train_samples // batch_size,      \n",
    "                    validation_data=validation,\n",
    "  #                  validation_steps=nb_validation_samples // batch_size,  \n",
    "                    epochs=10,                                             \n",
    "                    verbose=1)"
   ]
  },
  {
   "cell_type": "code",
   "execution_count": 106,
   "id": "861a3110-f973-4923-975c-7e114973b0ac",
   "metadata": {
    "executionInfo": {
     "elapsed": 500,
     "status": "ok",
     "timestamp": 1670500351235,
     "user": {
      "displayName": "신동욱",
      "userId": "15777921251637057342"
     },
     "user_tz": -540
    },
    "id": "UNR34S9PMGfg"
   },
   "outputs": [],
   "source": [
    "full_model.save_weights('final_flower_full_1.h5')"
   ]
  },
  {
   "cell_type": "markdown",
   "id": "78298419-1719-4ec0-8ba4-b0a641d2fae1",
   "metadata": {},
   "source": [
    "- 97/92 도달"
   ]
  },
  {
   "cell_type": "markdown",
   "id": "eb02fa04-0585-4d61-bd96-bcdeda90b17c",
   "metadata": {},
   "source": [
    "-------"
   ]
  },
  {
   "cell_type": "markdown",
   "id": "J5wXS9ZUd_CU",
   "metadata": {
    "id": "J5wXS9ZUd_CU"
   },
   "source": [
    "## 모델 평가 코드"
   ]
  },
  {
   "cell_type": "code",
   "execution_count": 107,
   "id": "31dd3255-afe7-4651-90fe-db1a655a032b",
   "metadata": {},
   "outputs": [],
   "source": [
    "loss,accuracy=full_model.evaluate(test)"
   ]
  },
  {
   "cell_type": "code",
   "execution_count": 108,
   "id": "2e8fe922-7de5-4f04-8414-093523575418",
   "metadata": {},
   "outputs": [
    {
     "name": "stdout",
     "output_type": "stream",
     "text": [
      "Accuracy 0.9564032554626465\n"
     ]
    }
   ],
   "source": [
    "print(\"Accuracy\",accuracy)"
   ]
  },
  {
   "cell_type": "code",
   "execution_count": 109,
   "id": "54d8d1fa-b69c-4bb8-84c9-6e47296b29d5",
   "metadata": {},
   "outputs": [
    {
     "name": "stdout",
     "output_type": "stream",
     "text": [
      "Model: \"model_21\"\n",
      "__________________________________________________________________________________________________\n",
      "Layer (type)                    Output Shape         Param #     Connected to                     \n",
      "==================================================================================================\n",
      "input_28 (InputLayer)           [(None, 256, 256, 3) 0                                            \n",
      "__________________________________________________________________________________________________\n",
      "moat3 (MOAT)                    {'stage1': (None, 12 4809320     input_28[0][0]                   \n",
      "__________________________________________________________________________________________________\n",
      "moat4 (MOAT)                    {'stage1': (None, 12 4809320     input_28[0][0]                   \n",
      "__________________________________________________________________________________________________\n",
      "flatten_layer1 (Flatten)        (None, 20480)        0           moat3[2][9]                      \n",
      "__________________________________________________________________________________________________\n",
      "flatten_layer2 (Flatten)        (None, 20480)        0           moat4[2][9]                      \n",
      "__________________________________________________________________________________________________\n",
      "tf.concat_5 (TFOpLambda)        (None, 40960)        0           flatten_layer1[0][0]             \n",
      "                                                                 flatten_layer2[0][0]             \n",
      "__________________________________________________________________________________________________\n",
      "dense_10 (Dense)                (None, 256)          10486016    tf.concat_5[0][0]                \n",
      "__________________________________________________________________________________________________\n",
      "dense_11 (Dense)                (None, 5)            1285        dense_10[0][0]                   \n",
      "==================================================================================================\n",
      "Total params: 20,105,941\n",
      "Trainable params: 10,487,301\n",
      "Non-trainable params: 9,618,640\n",
      "__________________________________________________________________________________________________\n"
     ]
    }
   ],
   "source": [
    "full_model.summary()"
   ]
  },
  {
   "cell_type": "markdown",
   "id": "62a5dc5e-0396-47f9-aebf-bb1afb317cd6",
   "metadata": {},
   "source": [
    "- accuracy 변하는거 그래프 그리기"
   ]
  },
  {
   "cell_type": "code",
   "execution_count": null,
   "id": "705dd11d-2c52-4b76-8bb7-f90daec3731c",
   "metadata": {},
   "outputs": [],
   "source": [
    "acc = history.history['accuracy']\n",
    "val_acc = history.history['val_accuracy']\n",
    "\n",
    "loss = history.history['loss']\n",
    "val_loss = history.history['val_loss']\n",
    "\n",
    "epochs_range = range(epochs)\n",
    "\n",
    "plt.figure(figsize=(8, 8))\n",
    "plt.subplot(1, 2, 1)\n",
    "plt.plot(epochs_range, acc, label='Training Accuracy')\n",
    "plt.plot(epochs_range, val_acc, label='Validation Accuracy')\n",
    "plt.legend(loc='lower right')\n",
    "plt.title('Training and Validation Accuracy')\n",
    "\n",
    "plt.subplot(1, 2, 2)\n",
    "plt.plot(epochs_range, loss, label='Training Loss')\n",
    "plt.plot(epochs_range, val_loss, label='Validation Loss')\n",
    "plt.legend(loc='upper right')\n",
    "plt.title('Training and Validation Loss')\n",
    "plt.show()"
   ]
  },
  {
   "cell_type": "markdown",
   "id": "dff90184-d857-4e1f-8fb4-038cdcfb6ad1",
   "metadata": {},
   "source": [
    "- 동욱쓰 evaluation code"
   ]
  },
  {
   "cell_type": "code",
   "execution_count": null,
   "id": "d610dff8-f9f5-4c0b-8894-282587adcdd7",
   "metadata": {
    "id": "PInitA9cJxND"
   },
   "outputs": [],
   "source": [
    "import numpy as np\n",
    "from sklearn.metrics import confusion_matrix,classification_report\n",
    "batch_size = 32\n",
    "num_of_test_samples = nb_test_samples"
   ]
  },
  {
   "cell_type": "code",
   "execution_count": null,
   "id": "8a663bff-fa1a-4f8a-bb87-277154ae7d19",
   "metadata": {
    "id": "PInitA9cJxND"
   },
   "outputs": [],
   "source": [
    "with tf.device('/device:GPU:2'):\n",
    "    predictions = full_model.predict_generator(test)"
   ]
  },
  {
   "cell_type": "code",
   "execution_count": null,
   "id": "6c2d10bd-3e34-46ac-8cc6-8122fafe68ac",
   "metadata": {
    "id": "PInitA9cJxND"
   },
   "outputs": [],
   "source": [
    "y_pred = np.argmax(predictions, axis=1)\n",
    "\n",
    "true_classes = test.features['label'].names\n",
    "\n",
    "class_labels = list(test_generator.class_indices.keys())\n",
    "\n",
    "print(class_labels)\n",
    "\n",
    "print(confusion_matrix(test_generator.classes, y_pred))\n",
    "\n",
    "report = classification_report(true_classes, y_pred, target_names=class_labels)\n",
    "print(report)"
   ]
  },
  {
   "cell_type": "code",
   "execution_count": null,
   "id": "BKmWBIcE1gLq",
   "metadata": {
    "id": "BKmWBIcE1gLq"
   },
   "outputs": [],
   "source": [
    "y_pred==(true_classes+1)"
   ]
  }
 ],
 "metadata": {
  "accelerator": "GPU",
  "colab": {
   "collapsed_sections": [
    "u-YcuD7WTUqC"
   ],
   "machine_shape": "hm",
   "provenance": []
  },
  "gpuClass": "premium",
  "kernelspec": {
   "display_name": "Python 3",
   "language": "python",
   "name": "python3"
  },
  "language_info": {
   "codemirror_mode": {
    "name": "ipython",
    "version": 3
   },
   "file_extension": ".py",
   "mimetype": "text/x-python",
   "name": "python",
   "nbconvert_exporter": "python",
   "pygments_lexer": "ipython3",
   "version": "3.6.13"
  }
 },
 "nbformat": 4,
 "nbformat_minor": 5
}
