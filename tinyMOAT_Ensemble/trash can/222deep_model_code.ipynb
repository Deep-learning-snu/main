{
 "cells": [
  {
   "cell_type": "code",
   "execution_count": 4,
   "id": "506ed8dd",
   "metadata": {},
   "outputs": [],
   "source": [
    "from deeplab2.model.pixel_encoder import moat\n",
    "import tensorflow as tf\n",
    "import numpy as np\n"
   ]
  },
  {
   "cell_type": "code",
   "execution_count": 5,
   "id": "9b98cfd0-95a6-427c-82c1-58a4e06c5171",
   "metadata": {},
   "outputs": [
    {
     "data": {
      "text/plain": [
       "'C:\\\\Users\\\\Kyungseon\\\\snu_dl\\\\main\\\\tinyMOAT_Ensemble'"
      ]
     },
     "execution_count": 5,
     "metadata": {},
     "output_type": "execute_result"
    }
   ],
   "source": [
    "\n",
    "import os\n",
    "os.environ['TF_CPP_MIN_LOG_LEVEL'] = '3'\n",
    "\n",
    "os.getcwd()"
   ]
  },
  {
   "cell_type": "markdown",
   "id": "97210838",
   "metadata": {},
   "source": [
    "### 우리가 어떤 인풋 사이즈로 하기로 했는지 잘 기억이 안남.\n",
    "get_model(name='tiny_moat0_pretrain_256_no_pe_1k',input_shape=[요기조절하면 됨])"
   ]
  },
  {
   "cell_type": "markdown",
   "id": "e43d9380",
   "metadata": {},
   "source": [
    "# 모델1 (바틀넥)"
   ]
  },
  {
   "cell_type": "code",
   "execution_count": 6,
   "id": "93a69be1",
   "metadata": {},
   "outputs": [],
   "source": [
    "moat1=moat.get_model(\n",
    "    name='tiny_moat0_pretrain_256_no_pe_1k',input_shape=[256,256,3])"
   ]
  },
  {
   "cell_type": "code",
   "execution_count": 7,
   "id": "787a3909",
   "metadata": {},
   "outputs": [],
   "source": [
    "moat1 = moat._load_moat_pretrained_checkpoint(moat1, path=\"./model-ckpt-0\")"
   ]
  },
  {
   "cell_type": "code",
   "execution_count": 8,
   "id": "48142ff4",
   "metadata": {},
   "outputs": [
    {
     "data": {
      "text/plain": [
       "{'stage1': (None, 128, 128, 32),\n",
       " 'res1': (None, 128, 128, 32),\n",
       " 'stage2': (None, 64, 64, 32),\n",
       " 'res2': (None, 64, 64, 32),\n",
       " 'stage3': (None, 32, 32, 64),\n",
       " 'res3': (None, 32, 32, 64),\n",
       " 'stage4': (None, 16, 16, 128),\n",
       " 'res4': (None, 16, 16, 128),\n",
       " 'stage5': (None, 8, 8, 256),\n",
       " 'res5': (None, 8, 8, 256)}"
      ]
     },
     "execution_count": 8,
     "metadata": {},
     "output_type": "execute_result"
    }
   ],
   "source": [
    "from tensorflow.keras.layers import (Input, Dense, concatenate, Conv2D, MaxPooling2D, Flatten)\n",
    "from tensorflow import keras\n",
    "\n",
    "moat1.input_shape\n",
    "moat1.output_shape"
   ]
  },
  {
   "cell_type": "code",
   "execution_count": 9,
   "id": "22cac32c",
   "metadata": {},
   "outputs": [],
   "source": [
    "y11 = moat1.output[\"stage1\"]\n",
    "y12 = moat1.output[\"res1\"]\n",
    "y21 = moat1.output[\"stage2\"]\n",
    "y22 = moat1.output[\"res2\"]\n",
    "y31 = moat1.output[\"stage3\"]\n",
    "y32 = moat1.output[\"res3\"]\n",
    "y41 = moat1.output[\"stage4\"]\n",
    "y42 = moat1.output[\"res4\"]\n",
    "y51 = moat1.output[\"stage5\"]\n",
    "y52 = moat1.output[\"res5\"]\n",
    "\n",
    "z1 = y11+y12\n",
    "z2 = y21+y22\n",
    "z3 = y31+y32\n",
    "z4 = y41+y42\n",
    "z5 = y51+y52"
   ]
  },
  {
   "cell_type": "code",
   "execution_count": 10,
   "id": "47178c4c",
   "metadata": {},
   "outputs": [],
   "source": [
    "a1=Conv2D(8,(1,1),activation='relu')(z1)\n",
    "a2=Conv2D(8,(3,3),activation='relu')(a1)\n",
    "a3=MaxPooling2D(2,2)(a2) \n",
    "a4=Conv2D(8,(3,3),activation='relu')(a3)\n",
    "a5=MaxPooling2D(2,2)(a4) \n",
    "a6=Conv2D(8,(3,3),activation='relu')(a5)\n",
    "a7=MaxPooling2D(2,2)(a6) \n",
    "a8=Conv2D(8,(3,3),activation='relu')(a7)\n",
    "a9=MaxPooling2D(2,2)(a8)\n",
    "a10=Conv2D(8,(3,3),activation='relu')(a9)\n",
    "a11=MaxPooling2D(2,2)(a10)\n",
    "a12=Conv2D(32,(1,1),activation='relu')(a11)\n",
    "aa1=Flatten(name='flatten_layer1')(a12)\n",
    "\n",
    "b1=Conv2D(8,(1,1),activation='relu')(z2)\n",
    "b2=Conv2D(8,(3,3),activation='relu')(b1)\n",
    "b3=MaxPooling2D(2,2)(b2) \n",
    "b4=Conv2D(8,(3,3),activation='relu')(b3)\n",
    "b5=MaxPooling2D(2,2)(b4) \n",
    "b6=Conv2D(8,(3,3),activation='relu')(b5)\n",
    "b7=MaxPooling2D(2,2)(b6) \n",
    "b8=Conv2D(8,(3,3),activation='relu')(b7)\n",
    "b9=MaxPooling2D(2,2)(b8)\n",
    "b10=Conv2D(32,(1,1),activation='relu')(b9)\n",
    "bb1=Flatten(name='flatten_layer2')(b10)\n",
    "\n",
    "c1=Conv2D(16,(1,1),activation='relu')(z3)\n",
    "c2=Conv2D(16,(3,3),activation='relu')(c1)\n",
    "c3=MaxPooling2D(2,2)(c2) \n",
    "c4=Conv2D(16,(3,3),activation='relu')(c3)\n",
    "c5=MaxPooling2D(2,2)(c4) \n",
    "c6=Conv2D(16,(3,3),activation='relu')(c5)\n",
    "c7=MaxPooling2D(2,2)(c6) \n",
    "c8=Conv2D(64,(1,1),activation='relu')(c7)\n",
    "cc1=Flatten(name='flatten_layer3')(c8)\n",
    "\n",
    "d1=Conv2D(32,(1,1),activation='relu')(z4)\n",
    "d2=Conv2D(32,(3,3),activation='relu')(d1)\n",
    "d3=MaxPooling2D(2,2)(d2) \n",
    "d4=Conv2D(32,(3,3),activation='relu')(d3)\n",
    "d5=MaxPooling2D(2,2)(d4) \n",
    "d6=Conv2D(128,(1,1),activation='relu')(d5)\n",
    "dd1=Flatten(name='flatten_layer4')(d6)\n",
    "\n",
    "e1=Conv2D(64,(1,1),activation='relu')(z5)\n",
    "e2=Conv2D(64,(3,3),activation='relu')(e1)\n",
    "e3=MaxPooling2D(2,2)(e2) \n",
    "e4=Conv2D(64,(2,2),activation='relu')(e3)\n",
    "e5=Conv2D(256,(1,1),activation='relu')(e4)\n",
    "ee1=Flatten(name='flatten_layer5')(e5)\n",
    "\n",
    "fc1=tf.concat([aa1,bb1,cc1,dd1,ee1],axis=1)\n",
    "out1=Dense(units=101, activation='softmax')(fc1)\n",
    "\n",
    "model1 = tf.keras.models.Model(moat1.input, out1)\n",
    "model1.compile(optimizer='adam',\n",
    "              loss='sparse_categorical_crossentropy',\n",
    "              metrics=['accuracy'])"
   ]
  },
  {
   "cell_type": "markdown",
   "id": "c8d94afc",
   "metadata": {},
   "source": [
    "# 모델 2"
   ]
  },
  {
   "cell_type": "code",
   "execution_count": 11,
   "id": "24330c81",
   "metadata": {},
   "outputs": [],
   "source": [
    "moat2=moat.get_model(\n",
    "    name='tiny_moat0_pretrain_256_no_pe_1k',input_shape=[256,256,3])"
   ]
  },
  {
   "cell_type": "code",
   "execution_count": 12,
   "id": "b252092c",
   "metadata": {},
   "outputs": [],
   "source": [
    "moat2 = moat._load_moat_pretrained_checkpoint(moat2, path=\"./model-ckpt-0\")"
   ]
  },
  {
   "cell_type": "code",
   "execution_count": 13,
   "id": "cd1506b6",
   "metadata": {},
   "outputs": [],
   "source": [
    "k11 = moat2.output[\"stage1\"]\n",
    "k12 = moat2.output[\"res1\"]\n",
    "k21 = moat2.output[\"stage2\"]\n",
    "k22 = moat2.output[\"res2\"]\n",
    "k31 = moat2.output[\"stage3\"]\n",
    "k32 = moat2.output[\"res3\"]\n",
    "k41 = moat2.output[\"stage4\"]\n",
    "k42 = moat2.output[\"res4\"]\n",
    "k51 = moat2.output[\"stage5\"]\n",
    "k52 = moat2.output[\"res5\"]\n",
    "\n",
    "l1 = k11+k12\n",
    "l2 = k21+k22\n",
    "l3 = k31+k32\n",
    "l4 = k41+k42\n",
    "l5 = k51+k52"
   ]
  },
  {
   "cell_type": "code",
   "execution_count": 14,
   "id": "8cab92c9",
   "metadata": {},
   "outputs": [],
   "source": [
    "f1=Conv2D(32,(3,3),activation='relu')(l1)\n",
    "f2=MaxPooling2D(2,2)(f1) \n",
    "f3=Conv2D(40,(3,3),activation='relu')(f2)\n",
    "f4=MaxPooling2D(2,2)(f3) \n",
    "f5=Conv2D(48,(3,3),activation='relu')(f4)\n",
    "f6=MaxPooling2D(2,2)(f5) \n",
    "f7=Conv2D(56,(3,3),activation='relu')(f6)\n",
    "f8=MaxPooling2D(2,2)(f7)\n",
    "f9=Conv2D(64,(3,3),activation='relu')(f8)\n",
    "f10=MaxPooling2D(2,2)(f9)\n",
    "f11=Conv2D(72,(2,2),activation='relu')(f10)\n",
    "ff1=Flatten(name='flatten_layer1')(f11)\n",
    "\n",
    "g1=Conv2D(32,(3,3),activation='relu')(l2)\n",
    "g2=MaxPooling2D(2,2)(g1) \n",
    "g3=Conv2D(40,(3,3),activation='relu')(g2)\n",
    "g4=MaxPooling2D(2,2)(g3) \n",
    "g5=Conv2D(48,(3,3),activation='relu')(g4)\n",
    "g6=MaxPooling2D(2,2)(g5) \n",
    "g7=Conv2D(56,(3,3),activation='relu')(g6)\n",
    "g8=MaxPooling2D(2,2)(g7)\n",
    "g9=Conv2D(64,(2,2),activation='relu')(g8)\n",
    "gg1=Flatten(name='flatten_layer2')(g9)\n",
    "\n",
    "h1=Conv2D(64,(3,3),activation='relu')(l3)\n",
    "h2=MaxPooling2D(2,2)(h1) \n",
    "h3=Conv2D(80,(3,3),activation='relu')(h2)\n",
    "h4=MaxPooling2D(2,2)(h3) \n",
    "h5=Conv2D(96,(3,3),activation='relu')(h4)\n",
    "h6=MaxPooling2D(2,2)(h5) \n",
    "h7=Conv2D(112,(2,2),activation='relu')(h6)\n",
    "hh1=Flatten(name='flatten_layer3')(h7)\n",
    "\n",
    "i1=Conv2D(128,(3,3),activation='relu')(l4)\n",
    "i2=MaxPooling2D(2,2)(i1) \n",
    "i3=Conv2D(160,(3,3),activation='relu')(i2)\n",
    "i4=MaxPooling2D(2,2)(i3) \n",
    "i5=Conv2D(200,(2,2),activation='relu')(i4)\n",
    "ii1=Flatten(name='flatten_layer4')(i5)\n",
    "\n",
    "j1=Conv2D(256,(3,3),activation='relu')(l5)\n",
    "j2=MaxPooling2D(2,2)(j1) \n",
    "j3=Conv2D(320,(3,3),activation='relu')(j2)\n",
    "jj1=Flatten(name='flatten_layer5')(j3)\n",
    "\n",
    "fc2=tf.concat([ff1,gg1,hh1,ii1,jj1],axis=1)\n",
    "out2=Dense(units=101, activation='softmax')(fc2)\n",
    "\n",
    "model2 = tf.keras.models.Model(moat2.input, out2)\n",
    "model2.compile(optimizer='adam',\n",
    "              loss='sparse_categorical_crossentropy',\n",
    "              metrics=['accuracy'])\n"
   ]
  },
  {
   "cell_type": "code",
   "execution_count": null,
   "id": "be42cdcd-bef4-43b3-ad19-fb83177f12a6",
   "metadata": {},
   "outputs": [],
   "source": []
  }
 ],
 "metadata": {
  "kernelspec": {
   "display_name": "Python 3 (ipykernel)",
   "language": "python",
   "name": "python3"
  },
  "language_info": {
   "codemirror_mode": {
    "name": "ipython",
    "version": 3
   },
   "file_extension": ".py",
   "mimetype": "text/x-python",
   "name": "python",
   "nbconvert_exporter": "python",
   "pygments_lexer": "ipython3",
   "version": "3.9.12"
  }
 },
 "nbformat": 4,
 "nbformat_minor": 5
}
