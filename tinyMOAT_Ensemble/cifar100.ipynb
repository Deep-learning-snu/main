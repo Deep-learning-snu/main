{
 "cells": [
  {
   "cell_type": "code",
   "execution_count": 1,
   "id": "90beabc7",
   "metadata": {},
   "outputs": [],
   "source": [
    "from shutil import copy\n",
    "from collections import defaultdict\n",
    "import scipy\n",
    "import numpy as np\n",
    "import matplotlib.pyplot as plt\n",
    "\n",
    "import random\n",
    "import cv2\n",
    "import glob\n",
    "from PIL import Image, ImageEnhance\n",
    "import PIL.ImageOps\n",
    "\n",
    "import torch\n",
    "import torchvision\n",
    "from torch import nn\n",
    "\n",
    "\n",
    "import os\n",
    "os.environ['TF_CPP_MIN_LOG_LEVEL'] = '3'\n",
    "\n",
    "# 0 = all messages are logged (default behavior)\n",
    "# 1 = INFO messages are not printed\n",
    "# 2 = INFO and WARNING messages are not printed\n",
    "# 3 = INFO, WARNING, and ERROR messages are not printed\n",
    "\n",
    "import tensorflow as tf\n",
    "from tensorflow import keras\n",
    "from tensorflow.python.ops.clip_ops import clip_by_global_norm\n",
    "from tensorflow.keras.datasets import mnist\n",
    "from tensorflow.keras import layers\n",
    "import tensorflow_datasets as tfds\n",
    "\n",
    "\n",
    "# Theano(th)와 Tensorflow(tf) 모두와 호환이 되는 Keras 모듈을 작성\n",
    "import keras.backend as K\n",
    "from keras import regularizers\n",
    "from keras.applications.mobilenet_v2 import MobileNetV2\n",
    "from keras.models import Model\n",
    "from tensorflow.keras.layers import Input, Conv2D, MaxPooling2D, GlobalAveragePooling2D, Activation, BatchNormalization, Dropout, Flatten, Dense, concatenate\n",
    "from tensorflow.keras.utils import to_categorical\n",
    "from keras.preprocessing.image import ImageDataGenerator # 데이터 전처리\n",
    "from keras.callbacks import ModelCheckpoint, CSVLogger\n",
    "#from keras.optimizers import SGD\n",
    "\n",
    "from keras_preprocessing.image import array_to_img, img_to_array, load_img\n",
    "\n",
    "from sklearn.model_selection import train_test_split\n",
    "\n",
    "\n",
    "from deeplab2.model.pixel_encoder import moat\n",
    "from AdaBelief_tf import AdaBeliefOptimizer"
   ]
  },
  {
   "cell_type": "markdown",
   "id": "92f5ad74",
   "metadata": {},
   "source": [
    "### https://www.tensorflow.org/datasets/catalog/cifar100"
   ]
  },
  {
   "cell_type": "code",
   "execution_count": 2,
   "id": "0d405946",
   "metadata": {},
   "outputs": [
    {
     "name": "stdout",
     "output_type": "stream",
     "text": [
      "Train: (45000, 32, 32, 3) (45000, 100)\n",
      "Valid: (5000, 32, 32, 3) (5000, 100)\n",
      "Test: (10000, 32, 32, 3) (10000, 100)\n"
     ]
    }
   ],
   "source": [
    "# 'cifar100' 대신 'food101' 이나 다른 데이터셋 이름 넣으면 ok\n",
    "from tensorflow.keras.datasets import cifar100\n",
    "\n",
    "(train_images, train_labels), (test_images, test_labels) = cifar100.load_data()\n",
    "\n",
    "train_ohe_labels = to_categorical(train_labels)\n",
    "test_ohe_labels = to_categorical(test_labels)\n",
    "\n",
    "tr_images, val_images, tr_ohe_labels, val_ohe_labels = train_test_split(train_images, train_ohe_labels,test_size=0.1,random_state=34)\n",
    "\n",
    "print('Train:', tr_images.shape, tr_ohe_labels.shape)\n",
    "print('Valid:', val_images.shape, val_ohe_labels.shape)\n",
    "print('Test:', test_images.shape, test_ohe_labels.shape)"
   ]
  },
  {
   "cell_type": "code",
   "execution_count": 3,
   "id": "3da414c3",
   "metadata": {},
   "outputs": [],
   "source": [
    "train_datagen = ImageDataGenerator(\n",
    "    rescale=1./255,\n",
    "    rotation_range=40,\n",
    "    width_shift_range=0.3,\n",
    "    height_shift_range=0.3,\n",
    "    shear_range=0.3,        # Shear angle in counter-clockwise direction as radians\n",
    "    zoom_range=0.3,         # Range for random zoom. If a float\n",
    "    horizontal_flip=True,   # Randomly flip inputs horizontally\n",
    "    fill_mode='nearest') \n",
    "\n",
    "val_datagen = ImageDataGenerator(\n",
    "    rescale=1./255,)\n",
    "\n",
    "test_datagen = ImageDataGenerator(\n",
    "    rescale=1./255,)"
   ]
  },
  {
   "cell_type": "code",
   "execution_count": 4,
   "id": "0acb7ff0",
   "metadata": {},
   "outputs": [],
   "source": [
    "# Numpy Array Iterator 객체 생성하여 모델 인풋으로 배치 사이즈만큼 집어넣을 준비\n",
    "train_generator = train_datagen.flow(x=tr_images, y=tr_ohe_labels, batch_size=32, shuffle=True)\n",
    "validation_generator = val_datagen.flow(x=val_images, y=val_ohe_labels, batch_size=32, shuffle=False)\n",
    "test_generator = test_datagen.flow(x=test_images, y=test_ohe_labels, batch_size=32, shuffle=False)"
   ]
  },
  {
   "cell_type": "code",
   "execution_count": 5,
   "id": "755177fc",
   "metadata": {},
   "outputs": [],
   "source": [
    "moat1 = moat.get_model(name='tiny_moat1_pretrain_256_no_pe_1k',input_shape=[32,32,3])\n",
    "moat1 = moat._load_moat_pretrained_checkpoint(moat1, path=\"./model-ckpt-0\")\n",
    "\n",
    "o1 = moat1.output[\"stage5\"]\n",
    "r1 = tf.keras.layers.Flatten(name='flatten_layer1')(o1)\n",
    "r1 = tf.keras.layers.BatchNormalization()(r1)\n",
    "out1 = tf.keras.layers.Dense(\n",
    "    units=100, activation='softmax', name='output_layer', kernel_initializer=\"he_normal\")(r1)  \n",
    "\n",
    "def create_model():\n",
    "    return tf.keras.models.Model(moat1.input, out1)"
   ]
  },
  {
   "cell_type": "code",
   "execution_count": null,
   "id": "59a4328d",
   "metadata": {},
   "outputs": [],
   "source": [
    "model1 = create_model2()\n",
    "#model1.load_weights('pet_final_disjoint1_1.hdf5')\n",
    "\n",
    "opt = AdaBeliefOptimizer(learning_rate=1e-5, beta_1= 0.9, beta_2=0.999, weight_decay= 0.05,  epsilon=1e-14)\n",
    "\n",
    "model1.compile(optimizer=opt,\n",
    "          loss='sparse_categorical_crossentropy', metrics = tf.keras.metrics.SparseCategoricalAccuracy())\n",
    "checkpointer = ModelCheckpoint(filepath='pet_final_disjoint1_2.hdf5', verbose=1, monitor =\"val_sparse_categorical_accuracy\",save_best_only=True)\n",
    "csv_logger = CSVLogger('pet_final_disjoint1_2.log')\n",
    "history = model1.fit_generator(train2_generator,\n",
    "                steps_per_epoch = nb_train2_samples // batch_size,      \n",
    "                validation_data=validation_generator,\n",
    "                validation_steps=nb_validation_samples // batch_size,  \n",
    "                epochs=80,                                             \n",
    "                verbose=1,\n",
    "                callbacks=[csv_logger, checkpointer])"
   ]
  },
  {
   "cell_type": "code",
   "execution_count": null,
   "id": "cf1a8c31",
   "metadata": {},
   "outputs": [],
   "source": []
  },
  {
   "cell_type": "code",
   "execution_count": null,
   "id": "6e8b8721",
   "metadata": {},
   "outputs": [],
   "source": []
  },
  {
   "cell_type": "code",
   "execution_count": null,
   "id": "d22fb6cf",
   "metadata": {},
   "outputs": [],
   "source": []
  },
  {
   "cell_type": "code",
   "execution_count": null,
   "id": "d1e9da8f",
   "metadata": {},
   "outputs": [],
   "source": []
  },
  {
   "cell_type": "code",
   "execution_count": null,
   "id": "6b29afec",
   "metadata": {},
   "outputs": [],
   "source": []
  },
  {
   "cell_type": "code",
   "execution_count": null,
   "id": "88cf15ad",
   "metadata": {},
   "outputs": [],
   "source": []
  },
  {
   "cell_type": "code",
   "execution_count": null,
   "id": "9a7f9a49",
   "metadata": {},
   "outputs": [],
   "source": []
  },
  {
   "cell_type": "code",
   "execution_count": null,
   "id": "01953b20",
   "metadata": {},
   "outputs": [],
   "source": []
  },
  {
   "cell_type": "code",
   "execution_count": null,
   "id": "0f8f2a12",
   "metadata": {},
   "outputs": [],
   "source": []
  },
  {
   "cell_type": "code",
   "execution_count": null,
   "id": "111f46da",
   "metadata": {},
   "outputs": [],
   "source": []
  }
 ],
 "metadata": {
  "kernelspec": {
   "display_name": "Python 3 (ipykernel)",
   "language": "python",
   "name": "python3"
  },
  "language_info": {
   "codemirror_mode": {
    "name": "ipython",
    "version": 3
   },
   "file_extension": ".py",
   "mimetype": "text/x-python",
   "name": "python",
   "nbconvert_exporter": "python",
   "pygments_lexer": "ipython3",
   "version": "3.9.12"
  }
 },
 "nbformat": 4,
 "nbformat_minor": 5
}
