{
 "cells": [
  {
   "cell_type": "code",
   "execution_count": null,
   "id": "506ed8dd",
   "metadata": {
    "colab": {
     "base_uri": "https://localhost:8080/",
     "height": 358
    },
    "executionInfo": {
     "elapsed": 381,
     "status": "error",
     "timestamp": 1669782135356,
     "user": {
      "displayName": "­신동욱 / 학생 / 통계학과",
      "userId": "15822326990747252140"
     },
     "user_tz": -540
    },
    "id": "506ed8dd",
    "outputId": "4556d428-7ac8-4a18-deba-95c72d4079f4"
   },
   "outputs": [],
   "source": [
    "import tensorflow as tf\n",
    "import numpy as np"
   ]
  },
  {
   "cell_type": "code",
   "execution_count": null,
   "id": "MzgWBKQ6i_XQ",
   "metadata": {
    "colab": {
     "base_uri": "https://localhost:8080/"
    },
    "executionInfo": {
     "elapsed": 2891,
     "status": "ok",
     "timestamp": 1669728356469,
     "user": {
      "displayName": "신동욱",
      "userId": "15777921251637057342"
     },
     "user_tz": -540
    },
    "id": "MzgWBKQ6i_XQ",
    "outputId": "f466666e-423e-49c6-ec3d-435f73a727cf"
   },
   "outputs": [],
   "source": [
    "from shutil import copy\n",
    "from collections import defaultdict\n",
    "import scipy\n",
    "import numpy as np\n",
    "import matplotlib.pyplot as plt\n",
    "\n",
    "import random\n",
    "#import cv2\n",
    "import glob\n",
    "from PIL import Image, ImageEnhance\n",
    "import PIL.ImageOps\n",
    "\n",
    "#import torch\n",
    "#import torchvision\n",
    "#from torch import nn\n",
    "\n",
    "import os\n",
    "os.environ['TF_CPP_MIN_LOG_LEVEL'] = '3'\n",
    "\n",
    "# 0 = all messages are logged (default behavior)\n",
    "# 1 = INFO messages are not printed\n",
    "# 2 = INFO and WARNING messages are not printed\n",
    "# 3 = INFO, WARNING, and ERROR messages are not printed\n",
    "\n",
    "from tensorflow.keras.datasets import mnist\n",
    "from tensorflow.keras import layers\n",
    "import tensorflow_datasets as tfds\n",
    "\n",
    "# Theano(th)와 Tensorflow(tf) 모두와 호환이 되는 Keras 모듈을 작성\n",
    "import keras.backend as K\n",
    "from keras import regularizers\n",
    "from keras.applications.mobilenet_v2 import MobileNetV2\n",
    "from keras.models import Model\n",
    "from keras.layers import Dense, Dropout, Conv2D\n",
    "from keras.layers import GlobalAveragePooling2D\n",
    "from keras.preprocessing.image import ImageDataGenerator # 데이터 전처리\n",
    "from keras.callbacks import ModelCheckpoint, CSVLogger\n",
    "#from keras.optimizers import SGD\n",
    "\n",
    "from keras_preprocessing.image import array_to_img, img_to_array, load_img\n",
    "\n",
    "print(tf.test.gpu_device_name())"
   ]
  },
  {
   "cell_type": "markdown",
   "id": "bOsIdo62wNyH",
   "metadata": {
    "id": "bOsIdo62wNyH",
    "tags": []
   },
   "source": [
    "## 기본 세팅"
   ]
  },
  {
   "cell_type": "code",
   "execution_count": null,
   "id": "3wpsE0xSw-zE",
   "metadata": {
    "colab": {
     "base_uri": "https://localhost:8080/"
    },
    "executionInfo": {
     "elapsed": 437,
     "status": "ok",
     "timestamp": 1669781794037,
     "user": {
      "displayName": "­신동욱 / 학생 / 통계학과",
      "userId": "15822326990747252140"
     },
     "user_tz": -540
    },
    "id": "3wpsE0xSw-zE",
    "outputId": "1228915c-60a5-4656-bd51-fd41dc814ba0"
   },
   "outputs": [],
   "source": [
    "!nvidia-smi"
   ]
  },
  {
   "cell_type": "markdown",
   "id": "6245334d-b64f-4c17-824b-83cbb096dce3",
   "metadata": {},
   "source": [
    "## data 불러오기 + split"
   ]
  },
  {
   "cell_type": "code",
   "execution_count": null,
   "id": "305a3762-90d9-4ae1-868b-7ea011eda97d",
   "metadata": {},
   "outputs": [],
   "source": [
    "import tensorflow_datasets as tfds\n",
    "\n",
    "(train_ds1,train_ds2, val_ds, test_ds), metadata = tfds.load(\n",
    "    'tf_flowers',\n",
    "    split=['train[:40%]','train[40%:80%]', 'train[80%:90%]', 'train[90%:]'],\n",
    "    with_info=True,\n",
    "    as_supervised=True,\n",
    ")"
   ]
  },
  {
   "cell_type": "code",
   "execution_count": null,
   "id": "f3aeadb5-5c4e-4fea-bb4f-64946f20f45b",
   "metadata": {},
   "outputs": [],
   "source": [
    "num_classes = metadata.features['label'].num_classes\n",
    "\n",
    "print(num_classes)"
   ]
  },
  {
   "cell_type": "code",
   "execution_count": null,
   "id": "e845545b-cd14-4362-857f-2d8c34be0094",
   "metadata": {},
   "outputs": [],
   "source": [
    "metadata.features['label'].names"
   ]
  },
  {
   "cell_type": "code",
   "execution_count": null,
   "id": "f55da9ec-7572-43fe-8a0b-51ec2e62fa22",
   "metadata": {},
   "outputs": [],
   "source": [
    "metadata.features['label'].str2int"
   ]
  },
  {
   "cell_type": "code",
   "execution_count": null,
   "id": "aa64eea4-2afe-44ae-b927-2ef2a319c518",
   "metadata": {},
   "outputs": [],
   "source": [
    "get_label_name = metadata.features['label'].int2str\n",
    "\n",
    "print(get_label_name)"
   ]
  },
  {
   "cell_type": "code",
   "execution_count": null,
   "id": "8b43bb47-3779-4e45-9a8a-be480cbd88b4",
   "metadata": {},
   "outputs": [],
   "source": [
    "td2=iter(train_ds2)\n",
    "\n",
    "image, label = next(td2)\n",
    "\n",
    "print(label)\n",
    "_ = plt.imshow(image)\n",
    "_ = plt.title(get_label_name(label))\n"
   ]
  },
  {
   "cell_type": "code",
   "execution_count": null,
   "id": "001aa033-accf-4a53-9972-45bd2b58a658",
   "metadata": {},
   "outputs": [],
   "source": [
    "IMG_SIZE = 256\n",
    "\n",
    "resize_and_rescale = tf.keras.Sequential([\n",
    "  layers.experimental.preprocessing.Resizing(IMG_SIZE, IMG_SIZE),\n",
    "  layers.experimental.preprocessing.Rescaling(1./255)\n",
    "])\n",
    "\n",
    "result = resize_and_rescale(image)\n",
    "_ = plt.imshow(result)"
   ]
  },
  {
   "cell_type": "code",
   "execution_count": null,
   "id": "f3e1c0a3-8519-48ae-9e6a-5e5aa0174b97",
   "metadata": {},
   "outputs": [],
   "source": [
    "data_augmentation = tf.keras.Sequential([\n",
    "  layers.experimental.preprocessing.RandomFlip(\"horizontal_and_vertical\"),\n",
    "  layers.experimental.preprocessing.RandomRotation(0.2),\n",
    "])"
   ]
  },
  {
   "cell_type": "code",
   "execution_count": null,
   "id": "95f39805-4cc3-498c-91b8-c6ed98854a56",
   "metadata": {},
   "outputs": [],
   "source": [
    "batch_size = 32\n",
    "AUTOTUNE = tf.data.experimental.AUTOTUNE\n",
    "\n",
    "def prepare(ds,shuffle=False ,augment=False):\n",
    "  # Resize and rescale all datasets\n",
    "    ds = ds.map(lambda x, y: (resize_and_rescale(x), y), \n",
    "              num_parallel_calls=AUTOTUNE)\n",
    "\n",
    "    if shuffle:\n",
    "        ds = ds.shuffle(1000)\n",
    "\n",
    "  # Batch all datasets\n",
    "    ds = ds.batch(batch_size)\n",
    "    \n",
    "    \n",
    "  # Use data augmentation only on the training set\n",
    "    if augment:\n",
    "        ds = ds.map(lambda x, y: (data_augmentation(x, training=True), y), \n",
    "                num_parallel_calls=AUTOTUNE)\n",
    "\n",
    "  # Use buffered prefecting on all datasets\n",
    "    return ds.prefetch(buffer_size=AUTOTUNE)"
   ]
  },
  {
   "cell_type": "code",
   "execution_count": null,
   "id": "b9b1a5c5-47a6-40cd-9d2e-a087edbe873f",
   "metadata": {},
   "outputs": [],
   "source": [
    "train1 = prepare(train_ds1,shuffle=True, augment=True)\n",
    "train2 = prepare(train_ds2, shuffle=True, augment=True)\n",
    "validation = prepare(val_ds)\n",
    "test = prepare(test_ds)"
   ]
  },
  {
   "cell_type": "markdown",
   "id": "b51b04e9-c5e9-4642-8ef6-677a771998e8",
   "metadata": {},
   "source": [
    "- train1,train2:1468, validation,test: 367"
   ]
  },
  {
   "cell_type": "markdown",
   "id": "CI0WrQFWwUZn",
   "metadata": {
    "id": "CI0WrQFWwUZn"
   },
   "source": [
    "## 모델 기본 세팅"
   ]
  },
  {
   "cell_type": "code",
   "execution_count": null,
   "id": "4c298366-181c-47d6-9b12-865e94ac13f4",
   "metadata": {},
   "outputs": [],
   "source": [
    "from deeplab2.model.pixel_encoder import moat"
   ]
  },
  {
   "cell_type": "code",
   "execution_count": null,
   "id": "UaJ_6ko4UYB3",
   "metadata": {
    "id": "UaJ_6ko4UYB3"
   },
   "outputs": [],
   "source": [
    "# releases the global state: avoid clutter from old models and layers\n",
    "K.clear_session()"
   ]
  },
  {
   "cell_type": "markdown",
   "id": "e43d9380",
   "metadata": {
    "id": "e43d9380"
   },
   "source": [
    "## 모델1 Disjoint two model"
   ]
  },
  {
   "cell_type": "code",
   "execution_count": null,
   "id": "48142ff4",
   "metadata": {
    "colab": {
     "base_uri": "https://localhost:8080/"
    },
    "executionInfo": {
     "elapsed": 7,
     "status": "ok",
     "timestamp": 1669728370444,
     "user": {
      "displayName": "신동욱",
      "userId": "15777921251637057342"
     },
     "user_tz": -540
    },
    "id": "48142ff4",
    "outputId": "b997e139-a74d-43de-e62b-e04245df0348"
   },
   "outputs": [],
   "source": [
    "from tensorflow.keras.layers import (Input, Dense, concatenate, Conv2D, MaxPooling2D, Flatten)\n",
    "from tensorflow import keras\n",
    "\n",
    "from AdaBelief_tf import AdaBeliefOptimizer\n",
    "opt = AdaBeliefOptimizer(learning_rate=5e-4, beta_1= 0.9, beta_2=0.999, weight_decay= 1e-4,  epsilon=1e-14, rectify=True)\n",
    "\n",
    "# tf.keras.optimizers.schedules.LearningRateSchedule 나중에. 오목한 형태로 하는게 좋을듯 함."
   ]
  },
  {
   "cell_type": "code",
   "execution_count": null,
   "id": "0567e524-f8ee-4771-8d3a-6aa3addc8304",
   "metadata": {},
   "outputs": [],
   "source": [
    "nb_train_samples =  1468*2\n",
    "nb_train1_samples =  1468\n",
    "nb_train2_samples =  1468  \n",
    "nb_validation_samples = 367\n",
    "nb_validation2_samples = 367   \n",
    "nb_test_samples = 367  \n",
    "batch_size = 16"
   ]
  },
  {
   "cell_type": "markdown",
   "id": "0so0CahKgT77",
   "metadata": {
    "id": "0so0CahKgT77"
   },
   "source": [
    "### model1"
   ]
  },
  {
   "cell_type": "code",
   "execution_count": null,
   "id": "d383aa35-71fe-4401-9a82-9a113e6f4bdc",
   "metadata": {},
   "outputs": [],
   "source": [
    "moat1 = moat.get_model(name='tiny_moat1_pretrain_256_no_pe_1k',input_shape=[256,256,3])\n",
    "moat1 = moat._load_moat_pretrained_checkpoint(moat1, path=\"./moat1/model-ckpt-0\")\n",
    "o1 = moat1.output[\"stage5\"]\n",
    "r1 = tf.keras.layers.Flatten(name='flatten_layer1')(o1)\n",
    "out1 = tf.keras.layers.Dense(\n",
    "    units=5, activation='softmax', name='output_layer')(r1)\n",
    "\n",
    "def create_model():\n",
    "    return tf.keras.models.Model(moat1.input, out1)"
   ]
  },
  {
   "cell_type": "code",
   "execution_count": null,
   "id": "_ac7YQqLYbgO",
   "metadata": {
    "colab": {
     "base_uri": "https://localhost:8080/",
     "height": 1000
    },
    "executionInfo": {
     "elapsed": 3506506,
     "status": "error",
     "timestamp": 1670505822883,
     "user": {
      "displayName": "신동욱",
      "userId": "15777921251637057342"
     },
     "user_tz": -540
    },
    "id": "_ac7YQqLYbgO",
    "outputId": "a4a62921-dd28-42df-dbf2-a22d77c47d9b",
    "tags": []
   },
   "outputs": [],
   "source": [
    "with tf.device('/device:GPU:0'):\n",
    "    model1=create_model()\n",
    "   # model1.load_weights('pet_final_disjoint1_3.hdf5')\n",
    "  # moat1 = moat._load_moat_pretrained_checkpoint(moat1, path=\"./model-ckpt-0\")\n",
    "    opt2 = AdaBeliefOptimizer(learning_rate=1e-6, beta_1= 0.9, beta_2=0.999, weight_decay= 0.05,  epsilon=1e-14)\n",
    "    model1.compile(optimizer=opt2,\n",
    "                   loss='sparse_categorical_crossentropy', \n",
    "                   metrics = tf.keras.metrics.SparseCategoricalAccuracy())\n",
    "    checkpointer = ModelCheckpoint(filepath='flower_disjoint1_1.hdf5', \n",
    "                                   verbose=1, \n",
    "                                   monitor =\"val_sparse_categorical_accuracy\",\n",
    "                                   save_best_only=True)\n",
    "    csv_logger = CSVLogger('flower_disjoint1_1.log')\n",
    "    history = model1.fit_generator(train1,\n",
    "                    steps_per_epoch = nb_train1_samples // batch_size,      \n",
    "                    validation_data=validation,\n",
    "                    validation_steps=nb_validation_samples // batch_size,  \n",
    "                    epochs=80,                                             \n",
    "                    verbose=1,\n",
    "                    callbacks=[csv_logger, checkpointer])\n"
   ]
  },
  {
   "cell_type": "code",
   "execution_count": null,
   "id": "3840fc5c-3c16-42e8-930c-d298d72aaa6f",
   "metadata": {
    "executionInfo": {
     "elapsed": 500,
     "status": "ok",
     "timestamp": 1670500351235,
     "user": {
      "displayName": "신동욱",
      "userId": "15777921251637057342"
     },
     "user_tz": -540
    },
    "id": "UNR34S9PMGfg"
   },
   "outputs": [],
   "source": [
    "  moat1.save_weights('pet_moat1_final_disjoint1_4.h5')"
   ]
  },
  {
   "cell_type": "code",
   "execution_count": null,
   "id": "0f4d244d-9a23-41ca-88f7-ba0be8e6446c",
   "metadata": {
    "id": "zyPMdp7V6F7B"
   },
   "outputs": [],
   "source": [
    "#### 'pet_moat1_final_disjoint1_4.hdf5' 가 91% 정도로 베스트 스코어."
   ]
  },
  {
   "cell_type": "code",
   "execution_count": null,
   "id": "e7481ef9-6dec-4cae-8123-0b346f051c90",
   "metadata": {
    "colab": {
     "base_uri": "https://localhost:8080/",
     "height": 617
    },
    "executionInfo": {
     "elapsed": 2310898,
     "status": "error",
     "timestamp": 1670508139935,
     "user": {
      "displayName": "신동욱",
      "userId": "15777921251637057342"
     },
     "user_tz": -540
    },
    "id": "ojRwCQelcWO5",
    "outputId": "dbc15bf3-a97f-458e-8c3e-97adc32a7110"
   },
   "outputs": [],
   "source": [
    "moat2 = moat.get_model(name='tiny_moat1_pretrain_256_no_pe_1k',input_shape=[256,256,3])\n",
    "moat2 = moat._load_moat_pretrained_checkpoint(moat2, path=\"./model-ckpt-0\")\n",
    "\n",
    "o2 = moat2.output[\"stage5\"]\n",
    "r2 = tf.keras.layers.Flatten(name='flatten_layer1')(o2)\n",
    "out2 = tf.keras.layers.Dense(\n",
    "    units=37, activation='softmax', name='output_layer')(r2)\n",
    "\n",
    "def create_model2():\n",
    "  return tf.keras.models.Model(moat2.input, out2)\n",
    "\n",
    "with tf.device('/device:GPU:0'):\n",
    "  model2 = create_model2()\n",
    "  model2.compile(optimizer=opt,\n",
    "              loss='sparse_categorical_crossentropy', metrics = tf.keras.metrics.SparseCategoricalAccuracy())\n",
    "  checkpointer = ModelCheckpoint(filepath='pet_final_disjoint2_2.hdf5', verbose=1, monitor =\"val_sparse_categorical_accuracy\",save_best_only=True)\n",
    "  csv_logger = CSVLogger('pet_final_disjoint2_2.log')\n",
    "  history = model2.fit_generator(train2_generator,\n",
    "                    steps_per_epoch = nb_train2_samples // batch_size,      \n",
    "                    validation_data=validation2_generator,\n",
    "                    validation_steps=nb_validation_samples // batch_size,  \n",
    "                    epochs=80,                                             \n",
    "                    verbose=1,\n",
    "                    callbacks=[csv_logger, checkpointer])\n"
   ]
  },
  {
   "cell_type": "code",
   "execution_count": null,
   "id": "7d5e3e9f-892a-42df-bec9-99d0b4de65e5",
   "metadata": {
    "id": "q_bO-RWsKH8i"
   },
   "outputs": [],
   "source": [
    "  moat2.save_weights('pet_moat2_final_disjoint2_2.h5')"
   ]
  },
  {
   "cell_type": "markdown",
   "id": "95356265-3f60-4ae6-9621-5e2ccb5e2de0",
   "metadata": {
    "id": "i0Veqj-KK2Nl"
   },
   "source": [
    "## 앙상블 V1"
   ]
  },
  {
   "cell_type": "code",
   "execution_count": null,
   "id": "031f468b-211f-43bb-91e3-a4cc88f8f8c9",
   "metadata": {
    "colab": {
     "base_uri": "https://localhost:8080/",
     "height": 1000
    },
    "executionInfo": {
     "elapsed": 1545183,
     "status": "error",
     "timestamp": 1670240550383,
     "user": {
      "displayName": "신동욱",
      "userId": "15777921251637057342"
     },
     "user_tz": -540
    },
    "id": "gwC1ZV0_K3ss",
    "outputId": "3b3e7b48-65e2-4cc5-ef42-1e1fe2cdd63a"
   },
   "outputs": [],
   "source": [
    "moat3 = moat.get_model(name='tiny_moat0_pretrain_256_no_pe_1k',input_shape=[256,256,3])\n",
    "moat4 = moat.get_model(name='tiny_moat0_pretrain_256_no_pe_1k',input_shape=[256,256,3])\n",
    "moat3._name=\"moat3\"\n",
    "moat4._name=\"moat4\"\n",
    "\n",
    "for layer in moat4.layers:\n",
    "    layer._name = layer.name + str(\"_2\")\n",
    "\n",
    "\n",
    "moat3.load_weights('pet_moat1_final_disjoint1.h5')\n",
    "moat4.load_weights('pet_moat2_final_disjoint2.h5')\n",
    "\n",
    "moat3.trainable=False\n",
    "moat4.trainable=False\n",
    "\n",
    "en_input = Input(shape=(256,256,3))\n",
    "x = moat3(en_input)\n",
    "y = moat4(en_input)\n",
    "\n",
    "b1 = tf.keras.layers.Flatten(name='flatten_layer1')(x[\"stage5\"])\n",
    "b2 = tf.keras.layers.Flatten(name='flatten_layer2')(y[\"stage5\"])\n",
    "\n",
    "z= tf.concat([b1, b2],axis=1)\n",
    "\n",
    "l= Dense(units=512, activation='gelu')(z)\n",
    "en_out = Dense(units=37, activation='softmax')(l)\n",
    "\n",
    "def create_model3():\n",
    "  return tf.keras.models.Model(inputs=en_input, outputs=en_out) \n",
    "\n",
    "#moat2 = moat.get_model(\n",
    "#    name='tiny_moat0_pretrain_256_no_pe_1k',input_shape=[256,256,3])\n",
    "#moat2 = moat._load_moat_pretrained_checkpoint(moat1, path=\"./model-ckpt-0\")\n",
    "\n",
    "opt2 = AdaBeliefOptimizer(learning_rate=5e-4, beta_1= 0.9, beta_2=0.999, weight_decay= 0.05,  epsilon=1e-14, clipnorm=1)\n",
    "\n",
    "with tf.device('/device:GPU:0'):\n",
    "  en_model = create_model3()\n",
    "  en_model.compile(optimizer=opt2,\n",
    "              loss='sparse_categorical_crossentropy', metrics = tf.keras.metrics.SparseCategoricalAccuracy())\n",
    "  checkpointer = ModelCheckpoint(filepath='ensemble_1.hdf5', verbose=1, save_best_only=True)\n",
    "  csv_logger = CSVLogger('ensemble_1.hdf5.log')\n",
    "  history = en_model.fit_generator(train_generator, \n",
    "                    steps_per_epoch = nb_train_samples // batch_size,      \n",
    "                    validation_data=validation_generator,\n",
    "                    validation_steps=nb_validation_samples // batch_size,  \n",
    "                    epochs=30,                                             \n",
    "                    verbose=1,\n",
    "                    callbacks=[csv_logger, checkpointer])\n"
   ]
  },
  {
   "cell_type": "code",
   "execution_count": null,
   "id": "297c6029-ec43-4a92-aa55-aad292a3c9b7",
   "metadata": {},
   "outputs": [],
   "source": [
    "with tf.device('/device:GPU:0'):\n",
    "\n",
    " # model1.load_weights('model_fulltrain5.hdf5')\n",
    " # model1.layers[1]=moat2\n",
    "\n",
    "    model1.compile(optimizer=opt,\n",
    "              loss='sparse_categorical_crossentropy', metrics = tf.keras.metrics.SparseCategoricalAccuracy())\n",
    "    checkpointer = ModelCheckpoint(filepath='model1_disjoint_train1.hdf5', verbose=1, save_best_only=False)\n",
    "    csv_logger = CSVLogger('model1_disjoint_train1.log')\n",
    "    history = model1.fit_generator(train1, \n",
    "                    steps_per_epoch = nb_train1_samples // batch_size,      \n",
    "                    validation_data=validation,\n",
    "                    validation_steps=nb_validation_samples // batch_size,  \n",
    "                    epochs=100,                                             \n",
    "                    verbose=1,\n",
    "                    callbacks=[csv_logger, checkpointer])\n",
    "  \n",
    "    model1.save('model1_disjoint_train1.h5')"
   ]
  },
  {
   "cell_type": "code",
   "execution_count": null,
   "id": "6064ac24-a0c0-4c27-889b-116a35d6cb57",
   "metadata": {},
   "outputs": [],
   "source": [
    "moat2=moat.get_model(name='tiny_moat0_pretrain_256_no_pe_1k',input_shape=[256,256,3])\n",
    "moat2 = moat._load_moat_pretrained_checkpoint(moat2, path=\"./model-ckpt-0\")\n",
    "\n",
    "o1 = moat2.output[\"stage5\"]\n",
    "\n",
    "r1 = tf.keras.layers.Flatten(name='flatten_layer1')(o1)\n",
    "out2 = tf.keras.layers.Dense(\n",
    "    units=37, activation='softmax', name='output_layer')(r1)\n",
    "\n",
    "def create_model():\n",
    "    return tf.keras.models.Model(moat2.input, out2)\n",
    "\n",
    "model2 = create_model()"
   ]
  },
  {
   "cell_type": "code",
   "execution_count": null,
   "id": "2d7136e4-b324-4a90-a270-e032104122e2",
   "metadata": {},
   "outputs": [],
   "source": [
    "with tf.device('/device:GPU:0'):\n",
    "    \n",
    "    model2.compile(optimizer=opt,\n",
    "              loss='sparse_categorical_crossentropy', metrics = tf.keras.metrics.SparseCategoricalAccuracy())\n",
    "    checkpointer = ModelCheckpoint(filepath='model_fullset_justflat_2.hdf5', verbose=1, save_best_only=True)\n",
    "    csv_logger = CSVLogger('model_fullset_justflat_2.log')\n",
    "    history = model2.fit_generator(train_generator,\n",
    "                    steps_per_epoch = nb_train_samples // batch_size,      \n",
    "                    validation_data=validation_generator,\n",
    "                    validation_steps=nb_validation_samples // batch_size,  \n",
    "                    epochs=50,                                             \n",
    "                    verbose=1,\n",
    "                    callbacks=[csv_logger, checkpointer])\n",
    "  \n",
    "    model2.save('model_fullset_justflat_2.h5')"
   ]
  },
  {
   "cell_type": "markdown",
   "id": "eb02fa04-0585-4d61-bd96-bcdeda90b17c",
   "metadata": {},
   "source": [
    "-------"
   ]
  },
  {
   "cell_type": "code",
   "execution_count": null,
   "id": "IHe6rG206O94",
   "metadata": {
    "id": "IHe6rG206O94"
   },
   "outputs": [],
   "source": [
    "model1.trainable=False\n",
    "model2.trainable=False"
   ]
  },
  {
   "cell_type": "code",
   "execution_count": null,
   "id": "5aYyifrU-mhq",
   "metadata": {
    "id": "5aYyifrU-mhq"
   },
   "outputs": [],
   "source": [
    "model3=tf.keras.Model(model1.input, model1.layers[53].output)\n",
    "model4=tf.keras.Model(model2.input, model2.layers[53].output)"
   ]
  },
  {
   "cell_type": "code",
   "execution_count": null,
   "id": "LWv0O9_08Bl3",
   "metadata": {
    "id": "LWv0O9_08Bl3"
   },
   "outputs": [],
   "source": [
    "en_input = Input(shape=(256,256,3))\n",
    "x = model3(en_input)\n",
    "model5 = tf.keras.Model(en_input, x)\n",
    "\n",
    "y = model4(en_input)\n",
    "model6 = tf.keras.Model(en_input, y)\n",
    "\n",
    "z= tf.concat([model5.output, model6.output],axis=1)\n",
    "l= Dense(units=4096, activation='relu')(z)\n",
    "l= Dense(units=2048, activation='relu')(l)\n",
    "en_outs = Dense(units=37, activation='softmax')(l)"
   ]
  },
  {
   "cell_type": "code",
   "execution_count": null,
   "id": "qo2_nDtCgXu8",
   "metadata": {
    "id": "qo2_nDtCgXu8"
   },
   "outputs": [],
   "source": [
    "## 한번만 실행\n",
    "#for layer in model2.layers:\n",
    "#    layer._name = layer.name + str(\"_2\")"
   ]
  },
  {
   "cell_type": "code",
   "execution_count": null,
   "id": "T-pjOKXR_R3e",
   "metadata": {
    "colab": {
     "base_uri": "https://localhost:8080/"
    },
    "executionInfo": {
     "elapsed": 278,
     "status": "ok",
     "timestamp": 1669721185695,
     "user": {
      "displayName": "신동욱",
      "userId": "15777921251637057342"
     },
     "user_tz": -540
    },
    "id": "T-pjOKXR_R3e",
    "outputId": "58702320-288f-4f1d-c1e6-133e03500780"
   },
   "outputs": [],
   "source": [
    "opt = AdaBeliefOptimizer(learning_rate=5e-4, beta_1= 0.9, beta_2=0.999, weight_decay= 1e-4,  epsilon=1e-14, rectify=True)"
   ]
  },
  {
   "cell_type": "code",
   "execution_count": null,
   "id": "Ef9IGzm7mWWw",
   "metadata": {
    "colab": {
     "base_uri": "https://localhost:8080/",
     "height": 1000
    },
    "executionInfo": {
     "elapsed": 730752,
     "status": "error",
     "timestamp": 1669721918316,
     "user": {
      "displayName": "신동욱",
      "userId": "15777921251637057342"
     },
     "user_tz": -540
    },
    "id": "Ef9IGzm7mWWw",
    "outputId": "f6352b43-9e09-4f00-dc27-e8ecc7a636cc"
   },
   "outputs": [],
   "source": [
    "def create_model3():\n",
    "    return tf.keras.models.Model(inputs=en_input, outputs=en_outs) \n",
    "\n",
    "#moat2 = moat.get_model(\n",
    "#    name='tiny_moat0_pretrain_256_no_pe_1k',input_shape=[256,256,3])\n",
    "#moat2 = moat._load_moat_pretrained_checkpoint(moat1, path=\"./model-ckpt-0\")\n",
    "\n",
    "with tf.device('/device:GPU:0'):\n",
    "    en_model = create_model3()\n",
    "    en_model.compile(optimizer=opt,\n",
    "              loss='sparse_categorical_crossentropy', metrics = tf.keras.metrics.SparseCategoricalAccuracy())\n",
    "    checkpointer = ModelCheckpoint(filepath='ensemble_type1_1.tf', verbose=1, save_best_only=False)\n",
    "    csv_logger = CSVLogger('ensemble_type1_1.log')\n",
    "    history = en_model.fit_generator(train_generator, \n",
    "                    steps_per_epoch = nb_train_samples // batch_size,      \n",
    "                    validation_data=validation_generator,\n",
    "                    validation_steps=nb_validation_samples // batch_size,  \n",
    "                    epochs=30,                                             \n",
    "                    verbose=1,\n",
    "                    callbacks=[csv_logger, checkpointer])\n",
    "    en_model.save('ensemble_type1_1.tf', save_format=tf)"
   ]
  },
  {
   "cell_type": "markdown",
   "id": "lY2ZEoyzJgQr",
   "metadata": {
    "id": "lY2ZEoyzJgQr"
   },
   "source": [
    "## Model2 Two Disjoint Model"
   ]
  },
  {
   "cell_type": "code",
   "execution_count": null,
   "id": "r4G0nHJaLDiG",
   "metadata": {
    "colab": {
     "base_uri": "https://localhost:8080/"
    },
    "executionInfo": {
     "elapsed": 291,
     "status": "ok",
     "timestamp": 1669728384718,
     "user": {
      "displayName": "신동욱",
      "userId": "15777921251637057342"
     },
     "user_tz": -540
    },
    "id": "r4G0nHJaLDiG",
    "outputId": "79d8ebf5-3207-488d-ba24-46f30c0bfdbb"
   },
   "outputs": [],
   "source": [
    "opt = AdaBeliefOptimizer(learning_rate=1e-5, beta_1= 0.9, beta_2=0.999, weight_decay= 1e-4,  epsilon=1e-14, rectify=True)"
   ]
  },
  {
   "cell_type": "code",
   "execution_count": null,
   "id": "QfDBUKPCJb0C",
   "metadata": {
    "colab": {
     "base_uri": "https://localhost:8080/",
     "height": 1000
    },
    "executionInfo": {
     "elapsed": 5619163,
     "status": "error",
     "timestamp": 1669734007410,
     "user": {
      "displayName": "신동욱",
      "userId": "15777921251637057342"
     },
     "user_tz": -540
    },
    "id": "QfDBUKPCJb0C",
    "outputId": "64afc067-0bc1-4b09-e129-3e794b377363"
   },
   "outputs": [],
   "source": [
    "moat2=moat.get_model(\n",
    "    name='tiny_moat0_pretrain_256_no_pe_1k',input_shape=[256,256,3])\n",
    "\n",
    "moat2 = moat._load_moat_pretrained_checkpoint(moat2, path=\"./model-ckpt-0\")\n",
    "out2=moat2.output[\"res5\"]\n",
    "\n",
    "def create_model():\n",
    "    return tf.keras.models.Model(moat2.input, out2)\n",
    "\n",
    "with tf.device('/device:GPU:0'):\n",
    "    modelv2_1 = create_model()\n",
    "    modelv2_1.compile(optimizer=opt,\n",
    "              loss='sparse_categorical_crossentropy', metrics = tf.keras.metrics.SparseCategoricalAccuracy())\n",
    "    checkpointer1 = ModelCheckpoint(filepath='modelv2_disjoint_1.hdf5', verbose=1, save_best_only=False)\n",
    "    csv_logger1 = CSVLogger('modelv2_disjoint_1.log')\n",
    "    history = modelv2_1.fit_generator(train1_generator, \n",
    "                    steps_per_epoch = nb_train1_samples // batch_size,      \n",
    "                    validation_data=validation2_generator,\n",
    "                    validation_steps=nb_validation2_samples // batch_size,  \n",
    "                    epochs=100,                                             \n",
    "                    verbose=1,\n",
    "                    callbacks=[csv_logger1, checkpointer1])\n",
    "  \n",
    "    modelv2_1.save('modelv2_disjoint_1.hdf5')"
   ]
  },
  {
   "cell_type": "code",
   "execution_count": null,
   "id": "uyVWiiv2xZuk",
   "metadata": {
    "id": "uyVWiiv2xZuk"
   },
   "outputs": [],
   "source": [
    "moat2=moat.get_model(\n",
    "    name='tiny_moat0_pretrain_256_no_pe_1k',input_shape=[256,256,3])\n",
    "\n",
    "moat2 = moat._load_moat_pretrained_checkpoint(moat2, path=\"./model-ckpt-0\")\n",
    "\n",
    "k11 = moat2.output[\"stage1\"]\n",
    "k12 = moat2.output[\"res1\"]\n",
    "k21 = moat2.output[\"stage2\"]\n",
    "k22 = moat2.output[\"res2\"]\n",
    "k31 = moat2.output[\"stage3\"]\n",
    "k32 = moat2.output[\"res3\"]\n",
    "k41 = moat2.output[\"stage4\"]\n",
    "k42 = moat2.output[\"res4\"]\n",
    "k51 = moat2.output[\"stage5\"]\n",
    "k52 = moat2.output[\"res5\"]\n",
    "\n",
    "l1 = k11+k12\n",
    "l2 = k21+k22\n",
    "l3 = k31+k32\n",
    "l4 = k41+k42\n",
    "l5 = k51+k52\n",
    "\n",
    "f1=Conv2D(32,(3,3),activation='relu')(l1)\n",
    "f2=MaxPooling2D(2,2)(f1) \n",
    "f3=Conv2D(40,(3,3),activation='relu')(f2)\n",
    "f4=MaxPooling2D(2,2)(f3) \n",
    "f5=Conv2D(48,(3,3),activation='relu')(f4)\n",
    "f6=MaxPooling2D(2,2)(f5) \n",
    "f7=Conv2D(56,(3,3),activation='relu')(f6)\n",
    "f8=MaxPooling2D(2,2)(f7)\n",
    "f9=Conv2D(64,(3,3),activation='relu')(f8)\n",
    "f10=MaxPooling2D(2,2)(f9)\n",
    "f11=Conv2D(72,(2,2),activation='relu')(f10)\n",
    "ff1=Flatten(name='flatten_layer1')(f11)\n",
    "\n",
    "g1=Conv2D(32,(3,3),activation='relu')(l2)\n",
    "g2=MaxPooling2D(2,2)(g1) \n",
    "g3=Conv2D(40,(3,3),activation='relu')(g2)\n",
    "g4=MaxPooling2D(2,2)(g3) \n",
    "g5=Conv2D(48,(3,3),activation='relu')(g4)\n",
    "g6=MaxPooling2D(2,2)(g5) \n",
    "g7=Conv2D(56,(3,3),activation='relu')(g6)\n",
    "g8=MaxPooling2D(2,2)(g7)\n",
    "g9=Conv2D(64,(2,2),activation='relu')(g8)\n",
    "gg1=Flatten(name='flatten_layer2')(g9)\n",
    "\n",
    "h1=Conv2D(64,(3,3),activation='relu')(l3)\n",
    "h2=MaxPooling2D(2,2)(h1) \n",
    "h3=Conv2D(80,(3,3),activation='relu')(h2)\n",
    "h4=MaxPooling2D(2,2)(h3) \n",
    "h5=Conv2D(96,(3,3),activation='relu')(h4)\n",
    "h6=MaxPooling2D(2,2)(h5) \n",
    "h7=Conv2D(112,(2,2),activation='relu')(h6)\n",
    "hh1=Flatten(name='flatten_layer3')(h7)\n",
    "\n",
    "i1=Conv2D(128,(3,3),activation='relu')(l4)\n",
    "i2=MaxPooling2D(2,2)(i1) \n",
    "i3=Conv2D(160,(3,3),activation='relu')(i2)\n",
    "i4=MaxPooling2D(2,2)(i3) \n",
    "i5=Conv2D(200,(2,2),activation='relu')(i4)\n",
    "ii1=Flatten(name='flatten_layer4')(i5)\n",
    "\n",
    "j1=Conv2D(256,(3,3),activation='relu')(l5)\n",
    "j2=MaxPooling2D(2,2)(j1) \n",
    "j3=Conv2D(320,(3,3),activation='relu')(j2)\n",
    "jj1=Flatten(name='flatten_layer5')(j3)\n",
    "\n",
    "fc2=tf.concat([ff1,gg1,hh1,ii1,jj1],axis=1)\n",
    "out2=Dense(units=101, activation='softmax')(fc2)\n",
    "\n",
    "def create_model():\n",
    "  return tf.keras.models.Model(moat2.input, out2)\n",
    "\n",
    "with tf.device('/device:GPU:0'):\n",
    "  modelv2_1 = create_model()\n",
    "  modelv2_1.compile(optimizer=opt,\n",
    "              loss='sparse_categorical_crossentropy', metrics = tf.keras.metrics.SparseCategoricalAccuracy())\n",
    "  checkpointer1 = ModelCheckpoint(filepath='modelv2_disjoint_2.hdf5', verbose=1, save_best_only=False)\n",
    "  csv_logger1 = CSVLogger('modelv2_disjoint_2.log')\n",
    "  history = modelv2_1.fit_generator(train2_generator, \n",
    "                    steps_per_epoch = nb_train2_samples // batch_size,      \n",
    "                    validation_data=validation2_generator,\n",
    "                    validation_steps=nb_validation2_samples // batch_size,  \n",
    "                    epochs=200,                                             \n",
    "                    verbose=1,\n",
    "                    callbacks=[csv_logger1, checkpointer1])\n",
    "  \n",
    "  modelv2_1.save('modelv2_disjoint_2.hdf5')"
   ]
  },
  {
   "cell_type": "markdown",
   "id": "J5wXS9ZUd_CU",
   "metadata": {
    "id": "J5wXS9ZUd_CU"
   },
   "source": [
    "## 모델 평가 코드"
   ]
  },
  {
   "cell_type": "code",
   "execution_count": null,
   "id": "PInitA9cJxND",
   "metadata": {
    "id": "PInitA9cJxND"
   },
   "outputs": [],
   "source": [
    "import numpy as np\n",
    "from sklearn.metrics import confusion_matrix,classification_report\n",
    "batch_size = 32\n",
    "num_of_test_samples = nb_test_samples\n",
    "\n",
    "with tf.device('/device:GPU:0'):\n",
    "  predictions = model1.predict_generator(test_generator)\n",
    "\n",
    "y_pred = np.argmax(predictions, axis=1)\n",
    "\n",
    "true_classes = test_generator.classes\n",
    "\n",
    "class_labels = list(test_generator.class_indices.keys())\n",
    "\n",
    "print(class_labels)\n",
    "\n",
    "print(confusion_matrix(test_generator.classes, y_pred))\n",
    "\n",
    "report = classification_report(true_classes, y_pred, target_names=class_labels)\n",
    "print(report)"
   ]
  },
  {
   "cell_type": "code",
   "execution_count": null,
   "id": "BKmWBIcE1gLq",
   "metadata": {
    "id": "BKmWBIcE1gLq"
   },
   "outputs": [],
   "source": [
    "y_pred==(true_classes+1)"
   ]
  },
  {
   "cell_type": "markdown",
   "id": "u-YcuD7WTUqC",
   "metadata": {
    "id": "u-YcuD7WTUqC"
   },
   "source": [
    "## (Just Flatten)(더미코드)"
   ]
  },
  {
   "cell_type": "code",
   "execution_count": null,
   "id": "MsrQR369YgGH",
   "metadata": {
    "id": "MsrQR369YgGH"
   },
   "outputs": [],
   "source": [
    "tf.debugging.set_log_device_placement(True)\n",
    "\n",
    "moat2=moat.get_model(\n",
    "    name='tiny_moat0_pretrain_256_no_pe_1k',input_shape=[256,256,3])\n",
    "\n",
    "moat2 = moat._load_moat_pretrained_checkpoint(moat2, path=\"./model-ckpt-0\")\n",
    "\n",
    "from tensorflow.keras.layers import (Input, Dense, concatenate, Conv2D, MaxPooling2D, Flatten)\n",
    "from tensorflow import keras\n",
    "\n",
    "from adabelief_tf import AdaBeliefOptimizer\n",
    "opt = AdaBeliefOptimizer(learning_rate=5e-4, beta_1= 0.9, beta_2=0.999, weight_decay= 1e-4,  epsilon=1e-14, rectify=True)\n",
    "\n",
    "o11 = moat2.output[\"stage1\"]\n",
    "o12 = moat2.output[\"res1\"]\n",
    "o21 = moat2.output[\"stage2\"]\n",
    "o22 = moat2.output[\"res2\"]\n",
    "o31 = moat2.output[\"stage3\"]\n",
    "o32 = moat2.output[\"res3\"]\n",
    "o41 = moat2.output[\"stage4\"]\n",
    "o42 = moat2.output[\"res4\"]\n",
    "o51 = moat2.output[\"stage5\"]\n",
    "o52 = moat2.output[\"res5\"]\n",
    "\n",
    "u1 = o11+o12\n",
    "u2 = o21+o22\n",
    "u3 = o31+o32\n",
    "u4 = o41+o42\n",
    "u5 = o51+o52\n",
    "\n",
    "r1 = tf.keras.layers.Flatten(name='flatten_layer1')(u1)\n",
    "r2 = tf.keras.layers.Flatten(name='flatten_layer2')(u2)\n",
    "r3 = tf.keras.layers.Flatten(name='flatten_layer3')(u3)\n",
    "r4 = tf.keras.layers.Flatten(name='flatten_layer4')(u4)\n",
    "r5 = tf.keras.layers.Flatten(name='flatten_layer5')(u5)\n",
    "\n",
    "v = tf.concat([r1,r2,r3,r4,r5],axis=1)\n",
    "out2 = tf.keras.layers.Dense(\n",
    "    units=101, activation='softmax', name='output_layer')(v)\n",
    "\n",
    "def create_model():\n",
    "  return tf.keras.models.Model(moat2.input, out2)\n",
    "\n",
    "with tf.device('/device:GPU:0'):\n",
    "  model2 = create_model()\n",
    "  model2.compile(optimizer=opt,\n",
    "              loss='sparse_categorical_crossentropy', metrics = tf.keras.metrics.SparseCategoricalAccuracy())\n",
    "  checkpointer = ModelCheckpoint(filepath='best_model_3class_sept.hdf5', verbose=1, save_best_only=True)\n",
    "  csv_logger = CSVLogger('history.log')\n",
    "  history = model1.fit_generator(train_generator,\n",
    "                    steps_per_epoch = nb_train_samples // batch_size,      \n",
    "                    validation_data=validation_generator,\n",
    "                    validation_steps=nb_validation_samples // batch_size,  \n",
    "                    epochs=50,                                             \n",
    "                    verbose=1,\n",
    "                    callbacks=[csv_logger, checkpointer])\n",
    "  \n",
    "  model2.save('model2_trained.h5')\n",
    "\n",
    "\n"
   ]
  },
  {
   "cell_type": "code",
   "execution_count": null,
   "id": "LIg6gT88pBKq",
   "metadata": {
    "id": "LIg6gT88pBKq"
   },
   "outputs": [],
   "source": [
    "from google.colab import files\n",
    "files.download('model_trained.h5')"
   ]
  },
  {
   "cell_type": "code",
   "execution_count": null,
   "id": "df8c88fd-80c7-4e7a-9a51-772ea5fa619f",
   "metadata": {},
   "outputs": [],
   "source": []
  },
  {
   "cell_type": "code",
   "execution_count": null,
   "id": "4d7f717d-c2ec-4859-b9cd-4697b278d1f6",
   "metadata": {},
   "outputs": [],
   "source": []
  },
  {
   "cell_type": "code",
   "execution_count": null,
   "id": "a10f52ca-fa58-42f7-9c30-ca42ae80e25a",
   "metadata": {},
   "outputs": [],
   "source": []
  },
  {
   "cell_type": "code",
   "execution_count": null,
   "id": "31526fc8-20c5-47ac-8b95-456d9049ccae",
   "metadata": {},
   "outputs": [],
   "source": []
  },
  {
   "cell_type": "code",
   "execution_count": null,
   "id": "_jYIZU4nUYJ0",
   "metadata": {
    "id": "_jYIZU4nUYJ0",
    "tags": []
   },
   "outputs": [],
   "source": [
    "# 초기 변수 설정\n",
    "n_classes = num_classes\n",
    "\n",
    "### 이미지 크기 설정\n",
    "img_width, img_height = 256, 256\n",
    "\n",
    "train_data_dir = './petdata/train'\n",
    "train1_data_dir = './petdata/train1'\n",
    "train2_data_dir = './petdata/train2'\n",
    "validation_data_dir = './petdata/validation'\n",
    "validation_data2_dir = './petdata/validation'\n",
    "test_data_dir = './petdata/test'\n",
    "\n",
    "nb_train_samples =  1656*2\n",
    "nb_train1_samples =  1656\n",
    "nb_train2_samples =  1656   \n",
    "nb_validation_samples = 368\n",
    "nb_validation2_samples = 368    \n",
    "nb_test_samples = 3668  \n",
    "batch_size = 16"
   ]
  },
  {
   "cell_type": "code",
   "execution_count": null,
   "id": "RcX6LADtUYPv",
   "metadata": {
    "id": "RcX6LADtUYPv"
   },
   "outputs": [],
   "source": [
    "# ImageDataGenerator 객체 생성 (이미지 파일들을 Numpy Array 형태로 가져온 후 증강 기법 적용 준비)\n",
    "\n",
    "\n",
    "train_datagen = ImageDataGenerator(\n",
    "    rescale=1./ 255,       # multiply the data by the value\n",
    "    rotation_range=40,\n",
    "    width_shift_range=0.2,\n",
    "    height_shift_range=0.2,\n",
    "    shear_range=0.2,        # Shear angle in counter-clockwise direction as radians\n",
    "    zoom_range=0.2,         # Range for random zoom. If a float\n",
    "    horizontal_flip=True,   # Randomly flip inputs horizontally\n",
    "    fill_mode='nearest')\n",
    "\n",
    "train1_datagen = ImageDataGenerator(\n",
    "    rescale=1./ 255,       # multiply the data by the value\n",
    "    rotation_range=40,\n",
    "    width_shift_range=0.2,\n",
    "    height_shift_range=0.2,\n",
    "    shear_range=0.2,        # Shear angle in counter-clockwise direction as radians\n",
    "    zoom_range=0.2,         # Range for random zoom. If a float\n",
    "    horizontal_flip=True,   # Randomly flip inputs horizontally\n",
    "    fill_mode='nearest')   \n",
    "\n",
    "# ImageDataGenerator 객체 생성 (이미지 파일들을 Numpy Array 형태로 가져온 후 증강 기법 적용 준비)\n",
    "train2_datagen = ImageDataGenerator(\n",
    "    rescale=1./ 255,       # multiply the data by the value\n",
    "    rotation_range=40,\n",
    "    width_shift_range=0.2,\n",
    "    height_shift_range=0.2,\n",
    "    shear_range=0.2,        # Shear angle in counter-clockwise direction as radians\n",
    "    zoom_range=0.2,         # Range for random zoom. If a float\n",
    "    horizontal_flip=True,   # Randomly flip inputs horizontally\n",
    "    fill_mode='nearest')   \n",
    "\n",
    "val_datagen2 = ImageDataGenerator(rescale=1./ 255)\n",
    "val_datagen = ImageDataGenerator(rescale=1./ 255)\n",
    "test_datagen = ImageDataGenerator(rescale=1./ 255)"
   ]
  },
  {
   "cell_type": "code",
   "execution_count": null,
   "id": "Nafyq4AgUYUk",
   "metadata": {
    "colab": {
     "base_uri": "https://localhost:8080/"
    },
    "executionInfo": {
     "elapsed": 942,
     "status": "ok",
     "timestamp": 1669728357405,
     "user": {
      "displayName": "신동욱",
      "userId": "15777921251637057342"
     },
     "user_tz": -540
    },
    "id": "Nafyq4AgUYUk",
    "outputId": "f1927373-46e4-4e7e-e28e-c06acd5a350f"
   },
   "outputs": [],
   "source": [
    "# flow_from_directory : Numpy Array Iterator 객체 생성\n",
    "# 인자로 설정해주는 directory의 바로 하위 디렉토리 이름을 레이블이라고 간주, 그 디렉토리 아래의 파일들을 해당 레이블의 이미지들이라고 알아서 추측\n",
    "\n",
    "\n",
    "train_generator = train_datagen.flow_from_directory(\n",
    "    train_data_dir,\n",
    "    target_size=(img_height, img_width),\n",
    "    batch_size=batch_size,\n",
    "    class_mode='sparse')\n",
    "\n",
    "\n",
    "train1_generator = train1_datagen.flow_from_directory(\n",
    "    train1_data_dir,\n",
    "    target_size=(img_height, img_width),\n",
    "    batch_size=batch_size,\n",
    "    class_mode='sparse')\n",
    "\n",
    "train2_generator = train2_datagen.flow_from_directory(\n",
    "    train2_data_dir,\n",
    "    target_size=(img_height, img_width),\n",
    "    batch_size=batch_size,\n",
    "    class_mode='sparse')\n",
    "    \n",
    "  \n",
    "validation2_generator = val_datagen.flow_from_directory(\n",
    "    validation_data2_dir,\n",
    "    target_size=(img_height, img_width),\n",
    "    batch_size=batch_size,\n",
    "    class_mode='sparse')\n",
    "\n",
    "validation_generator = val_datagen.flow_from_directory(\n",
    "    validation_data_dir,\n",
    "    target_size=(img_height, img_width),\n",
    "    batch_size=batch_size,\n",
    "    class_mode='sparse')\n",
    "\n",
    "\n",
    "test_generator = test_datagen.flow_from_directory(\n",
    "    test_data_dir,\n",
    "    target_size=(img_height, img_width),\n",
    "    batch_size=batch_size,\n",
    "    shuffle=False,\n",
    "    class_mode=None)"
   ]
  },
  {
   "cell_type": "code",
   "execution_count": null,
   "id": "Dhk_BpjwLWIS",
   "metadata": {
    "colab": {
     "base_uri": "https://localhost:8080/"
    },
    "executionInfo": {
     "elapsed": 5394,
     "status": "ok",
     "timestamp": 1669781988577,
     "user": {
      "displayName": "­신동욱 / 학생 / 통계학과",
      "userId": "15822326990747252140"
     },
     "user_tz": -540
    },
    "id": "Dhk_BpjwLWIS",
    "outputId": "8aad4220-6fae-41c3-e35f-c93ec9cef9b8"
   },
   "outputs": [],
   "source": [
    "#!pip install adabelief-tf"
   ]
  }
 ],
 "metadata": {
  "accelerator": "GPU",
  "colab": {
   "collapsed_sections": [
    "u-YcuD7WTUqC"
   ],
   "machine_shape": "hm",
   "provenance": []
  },
  "gpuClass": "premium",
  "kernelspec": {
   "display_name": "Python 3",
   "language": "python",
   "name": "python3"
  },
  "language_info": {
   "codemirror_mode": {
    "name": "ipython",
    "version": 3
   },
   "file_extension": ".py",
   "mimetype": "text/x-python",
   "name": "python",
   "nbconvert_exporter": "python",
   "pygments_lexer": "ipython3",
   "version": "3.7.12"
  }
 },
 "nbformat": 4,
 "nbformat_minor": 5
}
