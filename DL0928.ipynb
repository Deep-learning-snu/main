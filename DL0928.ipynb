{
 "cells": [
  {
   "cell_type": "code",
   "execution_count": 2,
   "metadata": {},
   "outputs": [
    {
     "name": "stdout",
     "output_type": "stream",
     "text": [
      "Defaulting to user installation because normal site-packages is not writeable\n",
      "Requirement already satisfied: requests in /usr/local/lib/python3.6/dist-packages (2.26.0)\n",
      "Requirement already satisfied: idna<4,>=2.5 in /usr/local/lib/python3.6/dist-packages (from requests) (3.2)\n",
      "Requirement already satisfied: charset-normalizer~=2.0.0 in /usr/local/lib/python3.6/dist-packages (from requests) (2.0.3)\n",
      "Requirement already satisfied: certifi>=2017.4.17 in /usr/local/lib/python3.6/dist-packages (from requests) (2021.5.30)\n",
      "Requirement already satisfied: urllib3<1.27,>=1.21.1 in ./.local/lib/python3.6/site-packages (from requests) (1.26.12)\n",
      "Defaulting to user installation because normal site-packages is not writeable\n",
      "Collecting bs4\n",
      "  Downloading bs4-0.0.1.tar.gz (1.1 kB)\n",
      "  Preparing metadata (setup.py) ... \u001b[?25ldone\n",
      "\u001b[?25hRequirement already satisfied: beautifulsoup4 in /usr/lib/python3/dist-packages (from bs4) (4.4.1)\n",
      "Building wheels for collected packages: bs4\n",
      "  Building wheel for bs4 (setup.py) ... \u001b[?25ldone\n",
      "\u001b[?25h  Created wheel for bs4: filename=bs4-0.0.1-py3-none-any.whl size=1271 sha256=3185317e96f7d3245c29d4ec325429b12cae85060df2f96f0444eb2bafb2f639\n",
      "  Stored in directory: /home/ppleeqq/.cache/pip/wheels/19/f5/6d/a97dd4f22376d4472d5f4c76c7646876052ff3166b3cf71050\n",
      "Successfully built bs4\n",
      "Installing collected packages: bs4\n",
      "Successfully installed bs4-0.0.1\n"
     ]
    }
   ],
   "source": [
    "! pip install requests\n",
    "! pip install bs4"
   ]
  },
  {
   "cell_type": "code",
   "execution_count": 20,
   "metadata": {},
   "outputs": [
    {
     "name": "stdout",
     "output_type": "stream",
     "text": [
      "<?xml version=\"1.0\" encoding=\"UTF-8\" standalone=\"yes\"?><response><header><resultCode>00</resultCode><resultMsg>NORMAL SERVICE.</resultMsg></header><body><item><cont1>배착성이고 고약모양으로 퍼져나감</cont1><cont10> </cont10><cont11> </cont11><cont12>식용 부적합</cont12><cont13>턱받이가 없음</cont13><cont14> </cont14><cont15> </cont15><cont16> </cont16><cont17> </cont17><cont18> </cont18><cont19>백색</cont19><cont2>조직은 유연하지만 건조하면 가죽질~연골질이 되어 쉽게 떨어짐</cont2><cont20>4.5~5.5×2~2.5㎛</cont20><cont21>활엽수류 고사목이나 쓰러진 나무 줄기</cont21><cont22> </cont22><cont23> </cont23><cont3>백색, 담황갈색, 갈색</cont3><cont4>자실층면은 백색, 담황갈색, 갈색이고, 얕은 구멍이나 불연속적인 주름, 불규칙한 돌기가 있지만, 건조하면 이들 형태는 불분명해 짐</cont4><cont5>자루는 없다.</cont5><cont6> </cont6><cont7>흰색을 띠며 원통형이고 표면은 평활, 4.5~5.5 × 2~2.5㎛</cont7><cont8> </cont8><cont9> </cont9><cont99> </cont99><cprtCtnt>본 데이터에 대한 모든 저작권리는 국립수목원 또는 원저작자에게 있습니다.</cprtCtnt><crpphMgntdDscrt>수cm~수십cm까지 생장</crpphMgntdDscrt><distrAraDscrt> </distrAraDscrt><engNm> </engNm><familyKorNm>아교버섯과</familyKorNm><familyNm>Meruliaceae</familyNm><fngsGnrlNm>가는아교고약버섯</fngsGnrlNm><fngsInfrpNm> </fngsInfrpNm><fngsPilbkNo>1143</fngsPilbkNo><fngsScnm>Phlebia rufa (Pers.) M. P. Christ.</fngsScnm><fngsScnmId>FB2012112400000141</fngsScnmId><fngsTtnm>rufa</fngsTtnm><frstRgstnDtm>2012-11-24 15:39:39</frstRgstnDtm><genusKorNm>아교고약버섯속</genusKorNm><genusNm>Phlebia</genusNm><imgUrl>http://www.nature.go.kr/fileUpload/fungis/ilstr_2012/535_819.JPG</imgUrl><japNm> </japNm><lastUpdtDtm> </lastUpdtDtm><occrrFomDscrt>배착성으로 자람</occrrFomDscrt><occrrSsnNm>여름~가을</occrrSsnNm><prkNm> </prkNm></item></body></response>\n"
     ]
    }
   ],
   "source": [
    "import urllib.request\n",
    "\n",
    "API_Key = \"MmwKhE1%2BCyXERuZsTaNG%2B4zS6bTavTbaIIWNqQyPRBWZoz9gOl%2BxbBlrsARHoG74JCglt%2BWeQuR39BPBQdQfog%3D%3D\"\n",
    "url = \"http://openapi.nature.go.kr/openapi/service/rest/FungiService/fngsIlstrInfo?ServiceKey=MmwKhE1%2BCyXERuZsTaNG%2B4zS6bTavTbaIIWNqQyPRBWZoz9gOl%2BxbBlrsARHoG74JCglt%2BWeQuR39BPBQdQfog%3D%3D&q1=1143\"\n",
    "\n",
    "# API로 데이터 불러오기\n",
    "request = urllib.request.Request(url)\n",
    "response = urllib.request.urlopen(request)\n",
    "\n",
    "rescode = response.getcode()\n",
    "\n",
    "if(rescode==200):\n",
    "  response_body = response.read()\n",
    "  print(response_body.decode('utf-8'))\n",
    "else:\n",
    "  print(\"Error Code:\" + rescode)"
   ]
  },
  {
   "cell_type": "code",
   "execution_count": null,
   "metadata": {},
   "outputs": [],
   "source": []
  }
 ],
 "metadata": {
  "kernelspec": {
   "display_name": "Python 3.6",
   "language": "python",
   "name": "python3.6"
  },
  "language_info": {
   "codemirror_mode": {
    "name": "ipython",
    "version": 3
   },
   "file_extension": ".py",
   "mimetype": "text/x-python",
   "name": "python",
   "nbconvert_exporter": "python",
   "pygments_lexer": "ipython3",
   "version": "3.6.13"
  }
 },
 "nbformat": 4,
 "nbformat_minor": 4
}
