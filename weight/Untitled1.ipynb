{
 "cells": [
  {
   "cell_type": "code",
   "execution_count": null,
   "id": "2737a699-31c5-4a04-b2c1-7d7ab22c9c51",
   "metadata": {},
   "outputs": [],
   "source": []
  },
  {
   "cell_type": "code",
   "execution_count": 62,
   "id": "46fc33ea-06bb-4653-8be0-948c0ee08e97",
   "metadata": {
    "colab": {},
    "colab_type": "code",
    "id": "9JKQ00sbXr9x"
   },
   "outputs": [],
   "source": [
    "import tensorflow as tf\n",
    "from tensorflow.python.framework.convert_to_constants import convert_variables_to_constants_v2_as_graph\n",
    "\n",
    "from tensorflow.keras import Model, Input\n",
    "from tensorflow.keras.layers import Dense, Flatten"
   ]
  },
  {
   "cell_type": "code",
   "execution_count": 63,
   "id": "0d122cf7-7686-4f77-ac22-31f19812c495",
   "metadata": {
    "colab": {},
    "colab_type": "code",
    "id": "OslDuZMWt2p2"
   },
   "outputs": [],
   "source": [
    "def get_flops(model, batch_size=None):\n",
    "    if batch_size is None:\n",
    "        batch_size = 1\n",
    "\n",
    "    real_model = tf.function(model).get_concrete_function(tf.TensorSpec([batch_size] + model.inputs[0].shape[1:], model.inputs[0].dtype))\n",
    "    frozen_func, graph_def = convert_variables_to_constants_v2_as_graph(real_model)\n",
    "\n",
    "    run_meta = tf.compat.v1.RunMetadata()\n",
    "    opts = tf.compat.v1.profiler.ProfileOptionBuilder.float_operation()\n",
    "    flops = tf.compat.v1.profiler.profile(graph=frozen_func.graph,\n",
    "                                            run_meta=run_meta, cmd='op', options=opts)\n",
    "    return flops.total_float_ops"
   ]
  },
  {
   "cell_type": "code",
   "execution_count": 66,
   "id": "edf61684-17ce-4dc4-a85a-0d96ba0920a6",
   "metadata": {
    "colab": {},
    "colab_type": "code",
    "id": "7Gqxn3M3XIjD"
   },
   "outputs": [],
   "source": [
    "def main(batch_size):\n",
    "    model1.summary()\n",
    "\n",
    "    flops = get_flops(model1, batch_size)\n",
    "    print(f\"FLOPS: {flops}\")\n",
    "    return model1"
   ]
  },
  {
   "cell_type": "code",
   "execution_count": 67,
   "id": "033afb7d-9474-475b-927b-7ea91efa3d1d",
   "metadata": {
    "colab": {
     "base_uri": "https://localhost:8080/",
     "height": 352
    },
    "colab_type": "code",
    "id": "LgoSig0wchZ0",
    "outputId": "fd61e06c-466b-4df7-c0da-733e893a418f"
   },
   "outputs": [
    {
     "name": "stdout",
     "output_type": "stream",
     "text": [
      "Model: \"model_6\"\n",
      "_________________________________________________________________\n",
      " Layer (type)                Output Shape              Param #   \n",
      "=================================================================\n",
      " input_5 (InputLayer)        [(None, 256, 256, 3)]     0         \n",
      "                                                                 \n",
      " moat (MOAT)                 {'stage1': (None, 128, 1  4809320   \n",
      "                             28, 40),                            \n",
      "                              'res1': (None, 128, 128            \n",
      "                             , 40),                              \n",
      "                              'stage2': (None, 64, 64            \n",
      "                             , 40),                              \n",
      "                              'res2': (None, 64, 64,             \n",
      "                             40),                                \n",
      "                              'stage3': (None, 32, 32            \n",
      "                             , 80),                              \n",
      "                              'res3': (None, 32, 32,             \n",
      "                             80),                                \n",
      "                              'stage4': (None, 16, 16            \n",
      "                             , 160),                             \n",
      "                              'res4': (None, 16, 16,             \n",
      "                             160),                               \n",
      "                              'stage5': (None, 8, 8,             \n",
      "                             320),                               \n",
      "                              'res5': (None, 8, 8, 32            \n",
      "                             0)}                                 \n",
      "                                                                 \n",
      " flatten_layer1 (Flatten)    (None, 20480)             0         \n",
      "                                                                 \n",
      " output_layer (Dense)        (None, 5)                 102405    \n",
      "                                                                 \n",
      "=================================================================\n",
      "Total params: 4,911,725\n",
      "Trainable params: 4,874,765\n",
      "Non-trainable params: 36,960\n",
      "_________________________________________________________________\n",
      "\n",
      "=========================Options=============================\n",
      "-max_depth                  10000\n",
      "-min_bytes                  0\n",
      "-min_peak_bytes             0\n",
      "-min_residual_bytes         0\n",
      "-min_output_bytes           0\n",
      "-min_micros                 0\n",
      "-min_accelerator_micros     0\n",
      "-min_cpu_micros             0\n",
      "-min_params                 0\n",
      "-min_float_ops              1\n",
      "-min_occurrence             0\n",
      "-step                       -1\n",
      "-order_by                   float_ops\n",
      "-account_type_regexes       .*\n",
      "-start_name_regexes         .*\n",
      "-trim_name_regexes          \n",
      "-show_name_regexes          .*\n",
      "-hide_name_regexes          \n",
      "-account_displayed_op_only  true\n",
      "-select                     float_ops\n",
      "-output                     stdout:\n",
      "\n",
      "==================Model Analysis Report======================\n",
      "\n",
      "Doc:\n",
      "op: The nodes are operation kernel type, such as MatMul, Conv2D. Graph nodes belonging to the same type are aggregated together.\n",
      "flops: Number of float operations. Note: Please read the implementation for the math behind it.\n",
      "\n",
      "Profile:\n",
      "node name | # float_ops\n",
      "Conv2D                   36.95b float_ops (100.00%, 94.41%)\n",
      "DepthwiseConv2dNative    1.04b float_ops (5.59%, 2.65%)\n",
      "Mul                      636.72m float_ops (2.94%, 1.63%)\n",
      "Softmax                  190.05m float_ops (1.31%, 0.49%)\n",
      "RealDiv                  184.81m float_ops (0.82%, 0.47%)\n",
      "Mean                     47.19m float_ops (0.35%, 0.12%)\n",
      "BiasAdd                  37.71m float_ops (0.23%, 0.10%)\n",
      "AvgPool                  33.91m float_ops (0.14%, 0.09%)\n",
      "SquaredDifference        10.49m float_ops (0.05%, 0.03%)\n",
      "Sub                      5.26m float_ops (0.02%, 0.01%)\n",
      "MatMul                   3.28m float_ops (0.01%, 0.01%)\n",
      "Rsqrt                    98.40k float_ops (0.00%, 0.00%)\n",
      "\n",
      "======================End of Report==========================\n",
      "FLOPS: 39140858320\n"
     ]
    }
   ],
   "source": [
    "m = main(16)"
   ]
  }
 ],
 "metadata": {
  "kernelspec": {
   "display_name": "Python 3 (ipykernel)",
   "language": "python",
   "name": "python3"
  },
  "language_info": {
   "codemirror_mode": {
    "name": "ipython",
    "version": 3
   },
   "file_extension": ".py",
   "mimetype": "text/x-python",
   "name": "python",
   "nbconvert_exporter": "python",
   "pygments_lexer": "ipython3",
   "version": "3.9.15"
  }
 },
 "nbformat": 4,
 "nbformat_minor": 5
}
